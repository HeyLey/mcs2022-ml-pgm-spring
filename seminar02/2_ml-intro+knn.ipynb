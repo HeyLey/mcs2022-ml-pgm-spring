{
 "cells": [
  {
   "cell_type": "markdown",
   "metadata": {},
   "source": [
    "# ML Intro"
   ]
  },
  {
   "cell_type": "markdown",
   "metadata": {},
   "source": [
    "https://www.scipy.org/\n",
    "\n",
    "https://scikit-learn.org/stable/"
   ]
  },
  {
   "cell_type": "markdown",
   "metadata": {},
   "source": [
    "# Formal problem statement\n",
    "\n",
    "* Set of objects $O$\n",
    "* Each object is described by a vector of known characteristics $\\mathbf{x}\\in\\mathcal{X}$\n",
    "and predicted characteristics $y\\in\\mathcal{Y}$. \n",
    "$$\n",
    "o\\in O\\longrightarrow(\\mathbf{x},y)\n",
    "$$\n",
    "* **Task:** find a mapping  $f$, which could accurately approximate $\\mathcal{X}\\to\\mathcal{Y}$.\n",
    "    * using a finite **known set** of objects (learning)\n",
    "    * apply model for objects from the **test set** (prediction)\n",
    "    * understand revealed relationships in data (inference, interpretation)"
   ]
  },
  {
   "cell_type": "markdown",
   "metadata": {},
   "source": [
    "## Known Set\n",
    "Known set: $(\\mathbf{x}_{1},y_{1}),...(\\mathbf{x}_{M},y_{M})$ <br/>\n",
    "design matrix $X=[\\mathbf{x}_{1},...\\mathbf{x}_{M}]^{T}$, $Y=[y_{1},...y_{M}]^{T}$.\n",
    "\n",
    "<center><img src='img/known_all.png'></center>"
   ]
  },
  {
   "cell_type": "markdown",
   "metadata": {},
   "source": [
    "## Known Set\n",
    "Known set: $(\\mathbf{x}_{1},y_{1}),...(\\mathbf{x}_{M},y_{M})$ <br/>\n",
    "design matrix $X=[\\mathbf{x}_{1},...\\mathbf{x}_{M}]^{T}$, $Y=[y_{1},...y_{M}]^{T}$.\n",
    "\n",
    "<center><img src='img/known_all_object.png'></center>"
   ]
  },
  {
   "cell_type": "markdown",
   "metadata": {},
   "source": [
    "\n",
    "## Known Set\n",
    "Known set: $(\\mathbf{x}_{1},y_{1}),...(\\mathbf{x}_{M},y_{M})$ <br/>\n",
    "design matrix $X=[\\mathbf{x}_{1},...\\mathbf{x}_{M}]^{T}$, $Y=[y_{1},...y_{M}]^{T}$.\n",
    "\n",
    "<center><img src='img/known_all_feature.png'></center>"
   ]
  },
  {
   "cell_type": "markdown",
   "metadata": {},
   "source": [
    "# Test set\n",
    "\n",
    "* Known sample $X,Y$: $(\\mathbf{x}_{1},y_{1}),...(\\mathbf{x}_{M},y_{M})$\n",
    "* Test sample $X',Y'$: $(\\mathbf{x}_{1}',y_{1}'),...(\\mathbf{x}_{K}',y_{K}')$\n",
    "\n",
    "<center><img src='img/train_test_feature.png'></center>"
   ]
  },
  {
   "cell_type": "markdown",
   "metadata": {},
   "source": [
    "# Specification of ML tasks\n",
    "\n",
    "* **supervised learning**: $(\\mathbf{x}_{1},y_{1}),(\\mathbf{x}_{2},y_{2}),...(\\mathbf{x}_{N},y_{N})$\n",
    "    * e.g. regression, classification.\n",
    "\n",
    "\n",
    "* **unsupervised learning**: $\\mathbf{x}_{1},\\mathbf{x}_{2},...\\mathbf{x}_{N}$\n",
    "    * e.g. dimensionality reduction, clustering, outlier analysis, topic modelling"
   ]
  },
  {
   "cell_type": "markdown",
   "metadata": {},
   "source": [
    "# General Problem Statement\n",
    "\n",
    "* We want to approximate $f(x):\\,X\\to Y$\n",
    "\n",
    "* Questions in ML:\n",
    "    * what target $y$ we are predicting?\n",
    "    * how to select object descriptors (features) $x$?\n",
    "    * what type of mapping $f$?\n",
    "    * in what sense a mapping $f$ should approximate true relationship?\n",
    "    * how to tune $f$?"
   ]
  },
  {
   "cell_type": "markdown",
   "metadata": {},
   "source": [
    "## Types of target variable (supervised learning)\n",
    "\n",
    "\n",
    "* $\\mathcal{Y}=\\mathbb{R}$ - regression \n",
    "    * e.g. flat price\n",
    "\n",
    "\n",
    "* $\\mathcal{Y}=\\mathbb{R}^{M}$ - vector regression\n",
    "    * e.g. stock price dynamics"
   ]
  },
  {
   "cell_type": "markdown",
   "metadata": {},
   "source": [
    "## Types of target variable (supervised learning)\n",
    "\n",
    "* $\\mathcal{Y}=\\{\\omega_{1},\\omega_{2},...\\omega_{C}\\}$ - classification.\n",
    "    * C=2: binary classification.\n",
    "    * e.g. spam / not spam (ham)\n",
    "\n",
    "\n",
    "* C>2: multi-class classification\n",
    "    * e.g. identity recognition, activity recognition\n",
    "\n",
    "\n",
    "* $\\mathcal{Y}$ - any subset of $\\{\\omega_{1},\\omega_{2},...\\omega_{C}\\}$ - labeling\n",
    "    * e.g. news categorization"
   ]
  },
  {
   "cell_type": "markdown",
   "metadata": {},
   "source": [
    "## Types of features\n",
    "\n",
    "* Full object description $\\mathbf{x}\\in\\mathcal{X}$ consists of individual\n",
    "features $x^{i}\\in\\mathcal{X}_{i}$\n",
    "* Types of feature (e.g. for credit scoring):\n",
    "    * $\\mathcal{X}_{i}=\\{0,1\\}$ - binary feature\n",
    "        * e.g. marital status \n",
    "    * $|\\mathcal{X}_{i}|<\\infty$ - categorical (nominal) feature\n",
    "        * e.g. occupation\n",
    "    * $|\\mathcal{X}_{i}|<\\infty$ and $\\mathcal{X}_{i}$ is ordered - ordinal feature\n",
    "        *  e.g.education level\n",
    "    * $\\mathcal{X}_{i}=\\mathbb{R}$ - continuous feature\n",
    "        * e.g. age"
   ]
  },
  {
   "cell_type": "markdown",
   "metadata": {},
   "source": [
    "## Loss function vs model quality (Evaluation)\n",
    "\n",
    "* In machine learning models try to optimize some function, which you can call:\n",
    "    * **score, rating** - if you are maximizing\n",
    "    * **loss, cost, error** - if you are minimized\n",
    "    * both score and loss can be computed for individual objects\n",
    "    * directly optimized in model\n",
    "    \n",
    "    \n",
    "* Model **quality measures** are used to compare diffrent models' performance on test set\n",
    "    * some of them can not be directly optimized in the model\n",
    "    * usually can not be computed for individual objects\n"
   ]
  },
  {
   "cell_type": "markdown",
   "metadata": {},
   "source": [
    "## Loss function $\\mathcal{L}(\\widehat{y},y)$\n",
    "\n",
    "* **regression**:\n",
    "    * MAE (mean absolute error):\n",
    "$$\n",
    "\\mathcal{L}(\\widehat{y},y)=\\frac{1}{N}\\sum\\limits_i\\left|\\widehat{y}_i-y_i\\right|\n",
    "$$\n",
    "    * MSE (mean squared error):\n",
    "$$\n",
    "\\mathcal{L}(\\widehat{y},y)=\\frac{1}{N}\\sum\\limits_i\\left(\\widehat{y}_i-y_i\\right)^{2}\n",
    "$$\n"
   ]
  },
  {
   "cell_type": "markdown",
   "metadata": {},
   "source": [
    "* **classification**:\n",
    "    * log-loss\n",
    "$$\n",
    "\\mathcal{L}(\\widehat{y},y)=\\mathbb{I}[y==1]\\log\\left(p(\\hat{y} = 1)\\right) + \\mathbb{I}[y==-1]\\log\\left(p(\\hat{y}=-1)\\right)\n",
    "$$"
   ]
  },
  {
   "cell_type": "markdown",
   "metadata": {},
   "source": [
    "## Overfitting - Underfitting\n",
    "\n",
    "<center><img src='img/overfit.png'></center>"
   ]
  },
  {
   "cell_type": "markdown",
   "metadata": {},
   "source": [
    "## Empirical risk\n",
    "\n",
    "* Want to minimize *expected risk*:\n",
    "$$\n",
    "\\mathit{\\int}\\int\\mathit{\\mathcal{L}(f_{\\theta}(\\mathbf{x}),y) \\cdot p(\\mathbf{x},y)d\\mathbf{x}dy\\to\\min_{\\theta}}\n",
    "$$"
   ]
  },
  {
   "cell_type": "markdown",
   "metadata": {},
   "source": [
    "* In fact we have only $X$,$Y$ (Known set) and $X'$ (Test set)\n",
    "\n",
    "* Can minimize *empirical risk*\n",
    "$$\n",
    "L(\\theta|X,Y)=\\frac{1}{N}\\sum_{n=1}^{N}\\mathcal{L}(f_{\\theta}(\\mathbf{x}_{n}),\\,y_{n})\n",
    "$$\n",
    "\n",
    "* Method of empirical risk minimization:\n",
    "$$\n",
    "\\widehat{\\theta}=\\arg\\min_{\\theta}L(\\theta|X,Y)\n",
    "$$"
   ]
  },
  {
   "cell_type": "markdown",
   "metadata": {},
   "source": [
    "* How to get realistic estimate of $L(\\widehat{\\theta}|X',Y')$?\n",
    "    * separate **validation set**\n",
    "    * **cross-validation**\n",
    "    * **leave-one-out** method"
   ]
  },
  {
   "cell_type": "markdown",
   "metadata": {},
   "source": [
    "# Separate validation set\n",
    "\n",
    "* Known sample $X,Y$: $(\\mathbf{x}_{1},y_{1}),...(\\mathbf{x}_{M},y_{M})$\n",
    "* Test sample $X',Y'$: $(\\mathbf{x}_{1}',y_{1}'),...(\\mathbf{x}_{K}',y_{K}')$\n",
    "\n",
    "<center><img src='img/train_test.png'></center>"
   ]
  },
  {
   "cell_type": "markdown",
   "metadata": {},
   "source": [
    "# Separate validation set\n",
    "Divide known set randomly or randomly with stratification:\n",
    "\n",
    "<center><img src='img/train_validation_test.png'></center>"
   ]
  },
  {
   "cell_type": "code",
   "execution_count": 59,
   "metadata": {},
   "outputs": [],
   "source": [
    "%matplotlib inline\n",
    "import pandas as pd\n",
    "import numpy as np\n",
    "import matplotlib.pyplot as plt\n",
    "\n",
    "from sklearn.datasets import make_moons, load_iris # import function from the library\n",
    "\n",
    "N = 1000\n",
    "\n",
    "X, y = make_moons(n_samples=N, noise=0.2, random_state=11) # generate data sample"
   ]
  },
  {
   "cell_type": "code",
   "execution_count": 60,
   "metadata": {},
   "outputs": [],
   "source": [
    "# import train_test_split function to split the sample\n",
    "from sklearn.model_selection import train_test_split\n",
    "\n",
    "X_train, X_test, y_train, y_test = train_test_split(X, y, \n",
    "                                                    test_size=0.5,    # 20% for test, 80% for train\n",
    "                                                    random_state=123) # shuffle objects before split"
   ]
  },
  {
   "cell_type": "code",
   "execution_count": 61,
   "metadata": {},
   "outputs": [
    {
     "data": {
      "text/plain": [
       "array([[ 0.97659285,  0.63327228],\n",
       "       [-0.8516316 ,  0.51169095],\n",
       "       [-0.79913418,  0.51528747],\n",
       "       [ 0.8738094 , -0.45662141],\n",
       "       [ 0.8564317 , -0.39553011],\n",
       "       [-0.38782948,  0.99133597],\n",
       "       [-0.24469046, -0.12270667],\n",
       "       [ 1.22129182, -0.44679249],\n",
       "       [ 0.41785334, -0.0388701 ],\n",
       "       [ 0.21415835, -0.25915001]])"
      ]
     },
     "execution_count": 61,
     "metadata": {},
     "output_type": "execute_result"
    }
   ],
   "source": [
    "# Lets look at the first 10 objects in X\n",
    "X[:10, :]"
   ]
  },
  {
   "cell_type": "code",
   "execution_count": 62,
   "metadata": {},
   "outputs": [
    {
     "data": {
      "text/plain": [
       "array([0, 0, 0, 1, 1, 0, 1, 1, 1, 1])"
      ]
     },
     "execution_count": 62,
     "metadata": {},
     "output_type": "execute_result"
    }
   ],
   "source": [
    "# And look at the first 10 objects in y\n",
    "y[:10]"
   ]
  },
  {
   "cell_type": "markdown",
   "metadata": {},
   "source": [
    "# Plot the Sample\n",
    "\n",
    "Plot the sample using matplotlib library. <br/>\n",
    "Plots give better understanding of the sample and help to find better solution of a problem."
   ]
  },
  {
   "cell_type": "code",
   "execution_count": 63,
   "metadata": {},
   "outputs": [
    {
     "name": "stderr",
     "output_type": "stream",
     "text": [
      "/var/folders/96/37xml6l17y9g2x40d15m0y240000gq/T/ipykernel_19656/2768553754.py:21: MatplotlibDeprecationWarning: The 'b' parameter of grid() has been renamed 'visible' since Matplotlib 3.5; support for the old name will be dropped two minor releases later.\n",
      "  plt.grid(b=1) # create grid on the plot\n"
     ]
    },
    {
     "data": {
      "image/png": "[encoded data removed]",
      "text/plain": [
       "<Figure size 648x432 with 1 Axes>"
      ]
     },
     "metadata": {
      "needs_background": "light"
     },
     "output_type": "display_data"
    }
   ],
   "source": [
    "# Create an figure with a custom size\n",
    "plt.figure(figsize=(9, 6))\n",
    "\n",
    "# Plot all objects with y == 0 (class 0)\n",
    "plt.scatter(X[y == 0, 0],     # selects all objects with y == 0 and the 1st column of X\n",
    "            X[y == 0, 1],     # selects all objects with y == 0 and the 2nd column of X\n",
    "            color='r',        # points color\n",
    "            label='0')        # label for the plot legend\n",
    "\n",
    "\n",
    "# Plot all objects with y == 1 (class 1)\n",
    "plt.scatter(X[y == 1, 0],     # selects all objects with y == 1 and the 1st column of X\n",
    "            X[y == 1, 1],     # selects all objects with y == 1 and the 2nd column of X\n",
    "            color='b',        # points color\n",
    "            label='1')        # label for the plot legend\n",
    "\n",
    "plt.xlabel('X1') # set up X-axis label\n",
    "plt.ylabel('X2') # set up Y-axis label\n",
    "\n",
    "plt.legend(loc='best') # create the plot legend and set up it position\n",
    "plt.grid(b=1) # create grid on the plot\n",
    "\n",
    "plt.show() # display the plot"
   ]
  },
  {
   "cell_type": "code",
   "execution_count": 64,
   "metadata": {},
   "outputs": [],
   "source": [
    "# import train_test_split function to split the sample\n",
    "from sklearn.model_selection import train_test_split\n",
    "\n",
    "X_train, X_test, y_train, y_test = train_test_split(X, y, \n",
    "                                                    test_size=0.5,    # 20% for test, 80% for train\n",
    "                                                    random_state=123) # shuffle objects before split"
   ]
  },
  {
   "cell_type": "code",
   "execution_count": 65,
   "metadata": {},
   "outputs": [
    {
     "name": "stdout",
     "output_type": "stream",
     "text": [
      "X, y shapes:  (1000, 2) (1000,)\n",
      "X_train, y_train shapes:  (500, 2) (500,)\n",
      "X_test, y_test shapes:  (500, 2) (500,)\n"
     ]
    }
   ],
   "source": [
    "# Lets print out shape of the samples\n",
    "print(\"X, y shapes: \", X.shape, y.shape)\n",
    "print(\"X_train, y_train shapes: \", X_train.shape, y_train.shape)\n",
    "print(\"X_test, y_test shapes: \", X_test.shape, y_test.shape)"
   ]
  },
  {
   "cell_type": "markdown",
   "metadata": {},
   "source": [
    "## Cross-validation"
   ]
  },
  {
   "cell_type": "markdown",
   "metadata": {},
   "source": [
    "\n",
    "### 4-fold cross-validation example\n",
    "\n",
    "<center><img src='img/cross_validation.png'></center>\n",
    "\n",
    "Divide training set into K parts, referred as **folds** (here $K=4$).\n",
    "\n",
    "Variants:\n",
    "* randomly\n",
    "* randomly with stratification (w.r.t target value or feature value)\n",
    "* randomly with respect to time domain\n",
    "* etc"
   ]
  },
  {
   "cell_type": "markdown",
   "metadata": {},
   "source": [
    "### 4-fold cross-validation example\n",
    "\n",
    "<center><img src='img/cross_validation1.png'></center>\n",
    "1) Use folds 1,2,3 for model estimation and fold 4 for model evaluation."
   ]
  },
  {
   "cell_type": "markdown",
   "metadata": {},
   "source": [
    "2) Use folds 1,2,4 for model estimation and fold 3 for model evaluation.\n",
    "\n",
    "3) Use folds 1,3,4 for model estimation and fold 2 for model evaluation.\n",
    "\n",
    "4) Use folds 2,3,4 for model estimation and fold 1 for model evaluation.\n",
    "\n",
    "Error is averaged over all trials."
   ]
  },
  {
   "cell_type": "markdown",
   "metadata": {},
   "source": [
    "### K-fold cross-validation example\n",
    "\n",
    "* Denote \n",
    "    * $k(n)$ - fold to which observation $(\\mathbf{x}_{n},y_{n})$ belongs $n\\in I_{k}$.\n",
    "    * $\\widehat{\\theta}^{-k}$ - parameter estimation using observations from all folds except fold $k$."
   ]
  },
  {
   "cell_type": "markdown",
   "metadata": {},
   "source": [
    "**Cross-validation empirical risk estimation**\n",
    "\n",
    "\n",
    "$$\\widehat{L}_{total}=\\frac{1}{N}\\sum_{n=1}^{N}\\mathcal{L}(f_{\\widehat{\\theta}^{-k(n)}}(x_{n}),\\,y_{n})$$"
   ]
  },
  {
   "cell_type": "markdown",
   "metadata": {},
   "source": [
    "* For $K$-fold CV we have: \n",
    "    * $K$ parameters $\\widehat{\\theta}^{-1},...\\widehat{\\theta}^{-K}$\n",
    "    * $K$ models $f_{\\widehat{\\theta}^{-1}}(\\mathbf{x}),...f_{\\widehat{\\theta}^{-K}}(\\mathbf{x}).$\n",
    "    * $K$ estimations of empirical risk: $\\widehat{L}_{k}=\\frac{1}{\\left|I_{k}\\right|}\\sum_{n\\in I_{k}}\\mathcal{L}(f_{\\widehat{\\theta}^{-k}}(\\mathbf{x}_{n}),\\,y_{n}),\\,k=1,2,...K.$\n",
    "\n",
    "        * can estimate variance & use statistics!"
   ]
  },
  {
   "cell_type": "markdown",
   "metadata": {},
   "source": [
    "## Comments on cross-validation\n",
    "\n",
    "* When number of folds $K$ is equal to number of objects $N$, this is called **leave-one-out method**.\n",
    "* Cross-validation uses the i.i.d.(independent and identically distributed) property of observations\n",
    "* Stratification by target $y$ helps for imbalanced/rare classes."
   ]
  },
  {
   "cell_type": "markdown",
   "metadata": {},
   "source": [
    "# A/B testing"
   ]
  },
  {
   "cell_type": "markdown",
   "metadata": {},
   "source": [
    "## A/B testing\n",
    "\n",
    "* Observe test set **after the models were built**.\n",
    "* A/B testing procedure:\n",
    "    1. divide test objects randomly into two groups - A and B.\n",
    "    2. apply base model to A\n",
    "    3. apply modified model to B\n",
    "    4. compare final results\\pause\n",
    "    "
   ]
  },
  {
   "cell_type": "markdown",
   "metadata": {},
   "source": [
    "# Modelling Pipelines"
   ]
  },
  {
   "cell_type": "markdown",
   "metadata": {},
   "source": [
    "## General Modelling Pipeline\n",
    "\n",
    "<center><img src='img/modeling pipeline.png' width=400></center>\n",
    "If evaluation gives poor results we may return to each of preceding\n",
    "stages."
   ]
  },
  {
   "cell_type": "markdown",
   "metadata": {},
   "source": [
    "## CRISP DM\n",
    "\n",
    "\n",
    "Cross-Industry Standard Process for Data Mining\n",
    "\n",
    "* As a methodology, it includes descriptions of the typical phases of a project, the tasks involved with each phase, and an explanation of the relationships between these tasks.\n",
    "* As a process model, CRISP-DM provides an overview of the data mining life cycle.\n",
    "\n",
    "<center><img src='img/crisp.png' width=700></center>"
   ]
  },
  {
   "cell_type": "markdown",
   "metadata": {},
   "source": [
    "# Summary\n",
    "\n",
    "* Machine learning algorithms reconstruct relationship between features $x$ and outputs $y$.\n",
    "* Relationship is reconstructed by optimal function $\\widehat{y}=f_{\\widehat{\\theta}}(x)$ from function class $\\{f_{\\theta}(x),\\,\\theta\\in\\Theta\\}$.\n",
    "* $\\theta$ is particular controls model complexity, models may be too simple and too complex.\n",
    "* $\\widehat{\\theta}$ selected to minimize empirical risk $\\frac{1}{N}\\sum_{n=1}^{N}\\mathcal{L}(f_{\\theta}(x_{n}),y_{n})$ for some loss function $\\mathcal{L}(\\widehat{y},y)$.\n",
    "* Overfitting - non-realistic estimate of expected loss on the training set.\n",
    "* To avoid overfitting - use validation sets, cross-validation, A/B test."
   ]
  },
  {
   "cell_type": "markdown",
   "metadata": {},
   "source": [
    "## KNN Classifier\n",
    "\n",
    "Classification algorithm:\n",
    "\n",
    "* Find ***k*** closest objects to the predicted object ***x*** in the train semple.\n",
    "* Associate ***x*** the most frequent class among its ***k*** neighbours.\n",
    "\n",
    "<img src=\"img/knn1.webp\" width=\"400\">\n",
    "\n",
    "Let's develop your first classifier on python!"
   ]
  },
  {
   "cell_type": "code",
   "execution_count": 66,
   "metadata": {},
   "outputs": [],
   "source": [
    "class KNNClassifier(object):\n",
    "    \n",
    "    def __init__(self, k_neighbors=1):\n",
    "        \"\"\"\n",
    "        This is a constructor of the class. \n",
    "        Here you can define parameters (k_neighbors) of the class and \n",
    "        attributes, that are visible within all methods of the class.\n",
    "        \n",
    "        Parameters\n",
    "        ----------\n",
    "        k_neighbors : int\n",
    "            Number of neighbors used for classification.\n",
    "        \"\"\"\n",
    "        \n",
    "        # Make this parameter visible in all methods of the class\n",
    "        self.k_neighbors = k_neighbors\n",
    "        \n",
    "        # Lets define variables for data, that will be used during the classifier fit and predict\n",
    "        self.X_train = None\n",
    "        self.y_train = None\n",
    "                \n",
    "    \n",
    "    def fit(self, X, y):\n",
    "        \"\"\"\n",
    "        This method trains the KNN classifier. \n",
    "        Actualy, the KNN classifier has no training procedure.\n",
    "        It just remembers data (X, y) that will be used for predictions.\n",
    "        \n",
    "        Parameters\n",
    "        ----------\n",
    "        X : numpy.array, shape = (n_objects, n_features)\n",
    "            Matrix of objects that are described by their input features.\n",
    "        y : numpy.array, shape = (n_objects)\n",
    "            1D array with the object labels. \n",
    "            For the classification labels are integers in {0, 1, 2, ...}.\n",
    "        \"\"\"\n",
    "        \n",
    "        # Just save X and y. There is no training procedure for KNN classifier\n",
    "        self.X_train = X\n",
    "        self.y_train = y\n",
    "        \n",
    "    \n",
    "    def calculate_distances(self, X, one_x):\n",
    "        \"\"\"\n",
    "        This method calculates distances between one object and all other objects.\n",
    "        \n",
    "        Parameters\n",
    "        ----------\n",
    "        X : numpy.array, shape = (n_objects, n_features)\n",
    "            Matrix of objects that are described by their input features.\n",
    "        one_x : numpy.array, shape = (n_features)\n",
    "        \"\"\"\n",
    "        \n",
    "        dists = np.sqrt( np.sum( (X - one_x)**2, axis=1 ) )\n",
    "        return dists\n",
    "    \n",
    "    \n",
    "    def predict(self, X):\n",
    "        \"\"\"\n",
    "        This methods performs labels prediction for new objects.\n",
    "        \n",
    "        Parameters\n",
    "        ----------\n",
    "        X : numpy.array, shape = (n_objects, n_features)\n",
    "            Matrix of objects that are described by their input features.\n",
    "            \n",
    "        Returns\n",
    "        -------\n",
    "        y_predicted : numpy.array, shape = (n_objects)\n",
    "            1D array with predicted labels. \n",
    "            For the classification labels are integers in {0, 1, 2, ...}.\n",
    "        \"\"\"\n",
    "        \n",
    "        # Create an empty list for predicted labels\n",
    "        y_predicted = []\n",
    "        \n",
    "        # For each object in X make prediction\n",
    "        for one_x in X:\n",
    "            \n",
    "            # one_x = [0.2, 0.57] (example)\n",
    "            \n",
    "            # Calculate distances between an object and all objects from train smaple\n",
    "            distances = self.calculate_distances(self.X_train, one_x)\n",
    "            # distances = [0.25, 0.10, 0.32, 0.05] (example)\n",
    "            \n",
    "            # Sort the distances and get indeces of the sorted order\n",
    "            sorted_indeces = distances.argsort()\n",
    "            # sorted_indeces = [3, 1, 0, 2] (example)\n",
    "            \n",
    "            # Get k_neighbors from train sample with the smallest distances\n",
    "            k_neighbors_indeces = sorted_indeces[:self.k_neighbors] # take the first k_neighbors elements\n",
    "            # k_neighbors_indeces = [3, 1, 0], for k_neighbors=2 (example)\n",
    "            \n",
    "            # Get labels of these k_neighbors\n",
    "            k_neighbors_labels = self.y_train[k_neighbors_indeces]\n",
    "            # k_neighbors_labels = [0, 1, 0] (example)\n",
    "            \n",
    "            # Get list of unique labels and counts of each label\n",
    "            unique_labels, label_counts = np.unique(k_neighbors_labels, return_counts=True)\n",
    "            # unique_labels = [0, 1] (example)\n",
    "            # label_counts  = [2, 1] (example)\n",
    "            \n",
    "            # Get label with the maximum count\n",
    "            label_max_count = unique_labels[label_counts == label_counts.max()][0]\n",
    "            # label_max_count = 0 (example)\n",
    "            \n",
    "            # Save the predicted label\n",
    "            y_predicted.append(label_max_count)\n",
    "            \n",
    "        return np.array(y_predicted) # return numpy.array"
   ]
  },
  {
   "cell_type": "markdown",
   "metadata": {},
   "source": [
    "## Run KNN Classifier"
   ]
  },
  {
   "cell_type": "code",
   "execution_count": 67,
   "metadata": {},
   "outputs": [],
   "source": [
    "# Create a KNN classifier object\n",
    "knn = KNNClassifier(k_neighbors=2)\n",
    "\n",
    "# Train the classifier (remember, that KNN has no training procedure, but it is a tradition :)\n",
    "knn.fit(X_train, y_train)\n",
    "\n",
    "# Use the classifier to predict labels\n",
    "y_test_predict = knn.predict(X_test)"
   ]
  },
  {
   "cell_type": "code",
   "execution_count": 68,
   "metadata": {},
   "outputs": [
    {
     "data": {
      "text/plain": [
       "array([1, 1, 0, 0, 1, 1, 0, 1, 0, 1, 0, 0, 0, 1, 0, 0, 1, 1, 1, 0])"
      ]
     },
     "execution_count": 68,
     "metadata": {},
     "output_type": "execute_result"
    }
   ],
   "source": [
    "# Let's print out the first 20 predicted labels\n",
    "y_test_predict[:20]"
   ]
  },
  {
   "cell_type": "code",
   "execution_count": 69,
   "metadata": {},
   "outputs": [
    {
     "data": {
      "text/plain": [
       "array([1, 1, 0, 1, 1, 1, 0, 1, 0, 1, 0, 0, 0, 1, 0, 0, 1, 1, 1, 0])"
      ]
     },
     "execution_count": 69,
     "metadata": {},
     "output_type": "execute_result"
    }
   ],
   "source": [
    "# Let's print out the first 20 true test labels\n",
    "y_test[:20]"
   ]
  },
  {
   "cell_type": "markdown",
   "metadata": {},
   "source": [
    "## Plot Decision Boundary\n",
    "\n",
    "Let's plot the classifier's decision boundary. "
   ]
  },
  {
   "cell_type": "code",
   "execution_count": 70,
   "metadata": {},
   "outputs": [
    {
     "name": "stderr",
     "output_type": "stream",
     "text": [
      "/var/folders/96/37xml6l17y9g2x40d15m0y240000gq/T/ipykernel_19656/2923476925.py:38: MatplotlibDeprecationWarning: The 'b' parameter of grid() has been renamed 'visible' since Matplotlib 3.5; support for the old name will be dropped two minor releases later.\n",
      "  plt.grid(b=1) # create grid on the plot\n"
     ]
    },
    {
     "data": {
      "image/png": "[encoded data removed]",
      "text/plain": [
       "<Figure size 648x432 with 1 Axes>"
      ]
     },
     "metadata": {
      "needs_background": "light"
     },
     "output_type": "display_data"
    }
   ],
   "source": [
    "# Create an figure with a custom size\n",
    "plt.figure(figsize=(9, 6))\n",
    "\n",
    "# Plot all objects with y == 0 (class 0)\n",
    "plt.scatter(X_test[y_test == 0, 0],     # selects all objects with y == 0 and the 1st column of X\n",
    "            X_test[y_test == 0, 1],     # selects all objects with y == 0 and the 2nd column of X\n",
    "            color='r',                  # points color\n",
    "            label='0')                  # label for the plot legend\n",
    "\n",
    "\n",
    "# Plot all objects with y == 1 (class 1)\n",
    "plt.scatter(X_test[y_test == 1, 0],     # selects all objects with y == 1 and the 1st column of X\n",
    "            X_test[y_test == 1, 1],     # selects all objects with y == 1 and the 2nd column of X\n",
    "            color='b',                  # points color\n",
    "            label='1')                  # label for the plot legend\n",
    "\n",
    "\n",
    "### THIS IS JUST MAGIC :)\n",
    "\n",
    "# plot decision boundary\n",
    "h=0.1\n",
    "x_min, x_max = X[:, 0].min() - .5, X[:, 0].max() + .5\n",
    "y_min, y_max = X[:, 1].min() - .5, X[:, 1].max() + .5\n",
    "xx, yy = np.meshgrid(np.arange(x_min, x_max, h),\n",
    "                     np.arange(y_min, y_max, h))\n",
    "\n",
    "Z = knn.predict(np.c_[xx.ravel(), yy.ravel()])\n",
    "Z = Z.reshape(xx.shape)\n",
    "plt.contourf(xx, yy, Z, cmap=plt.cm.RdBu, alpha=.6, levels=1)\n",
    "\n",
    "### THE END OF THE MAGIC\n",
    "\n",
    "\n",
    "plt.xlabel('X1') # set up X-axis label\n",
    "plt.ylabel('X2') # set up Y-axis label\n",
    "\n",
    "plt.legend(loc='best') # create the plot legend and set up it position\n",
    "plt.grid(b=1) # create grid on the plot\n",
    "\n",
    "plt.show() # display the plot"
   ]
  },
  {
   "cell_type": "markdown",
   "metadata": {},
   "source": [
    "## Measure Quality of the Classification\n",
    "\n",
    "Let's measure the quality using **accuracy score**:\n",
    "\n",
    "$$\n",
    "\\text{Accuracy }(y\\_true, y\\_predict) = \\frac{1}{N} \\sum_{i=1}^{N} I(y\\_predict_{i} == y\\_true_{i})\n",
    "$$\n",
    "\n",
    "For the accuracy calculation we use function **accuracy_score** from the scukit-learn library."
   ]
  },
  {
   "cell_type": "code",
   "execution_count": 71,
   "metadata": {},
   "outputs": [
    {
     "name": "stdout",
     "output_type": "stream",
     "text": [
      "Test accuracy of KNN classifier:  0.954\n"
     ]
    }
   ],
   "source": [
    "# Import accuracy_score function\n",
    "from sklearn.metrics import accuracy_score\n",
    "\n",
    "# Calculate accuracy for the test sample\n",
    "accuracy_test = accuracy_score(y_test, y_test_predict)\n",
    "\n",
    "print(\"Test accuracy of KNN classifier: \", accuracy_test)"
   ]
  },
  {
   "cell_type": "markdown",
   "metadata": {},
   "source": [
    "Let's consider how the classifier quality depends on **k_neighbors** value of the classifier. <br/> \n",
    "For that, for each **k_neighbors** value from a range we train the KNN classifier and make predictions for the train and test samples. <br/>\n",
    "Then, we calculate quality metrics for the samples."
   ]
  },
  {
   "cell_type": "code",
   "execution_count": 72,
   "metadata": {},
   "outputs": [],
   "source": [
    "ks = np.arange(1,100, 2) # create list of k_neighbors values\n",
    "\n",
    "# Lists for quality metrics\n",
    "scores_test = []\n",
    "scores_train = []\n",
    "\n",
    "# For each k_neighbors value ...\n",
    "for k in ks:\n",
    "    \n",
    "    # Create a KNN classifier object\n",
    "    knn = KNNClassifier(k_neighbors=k)\n",
    "    \n",
    "    # Train the classifier (remember, that KNN has no training procedure, but it is a tradition :)\n",
    "    knn.fit(X_train, y_train)\n",
    "\n",
    "    # Use the classifier to predict labels\n",
    "    y_test_predict = knn.predict(X_test)    # predict for the test smaple\n",
    "    y_train_predict = knn.predict(X_train)  # predict for the train smaple\n",
    "    \n",
    "    # Calculate accuracy for the test and train samples\n",
    "    accuracy_test = accuracy_score(y_test, y_test_predict)    # for the test smaple\n",
    "    accuracy_train = accuracy_score(y_train, y_train_predict) # for the train smaple \n",
    "    \n",
    "    # Collect scores\n",
    "    scores_test.append(accuracy_test)\n",
    "    scores_train.append(accuracy_train)"
   ]
  },
  {
   "cell_type": "markdown",
   "metadata": {},
   "source": [
    "Now, let's make a plot of a dependency of the classification **accuracy** from **k_neighbors** value for the train and test samples."
   ]
  },
  {
   "cell_type": "code",
   "execution_count": 73,
   "metadata": {},
   "outputs": [
    {
     "name": "stderr",
     "output_type": "stream",
     "text": [
      "/var/folders/96/37xml6l17y9g2x40d15m0y240000gq/T/ipykernel_19656/1101329044.py:12: MatplotlibDeprecationWarning: The 'b' parameter of grid() has been renamed 'visible' since Matplotlib 3.5; support for the old name will be dropped two minor releases later.\n",
      "  plt.grid(b=1) # create grid on the plot\n"
     ]
    },
    {
     "data": {
      "image/png": "[encoded data removed]",
      "text/plain": [
       "<Figure size 648x432 with 1 Axes>"
      ]
     },
     "metadata": {
      "needs_background": "light"
     },
     "output_type": "display_data"
    }
   ],
   "source": [
    "# Create an figure with a custom size\n",
    "plt.figure(figsize=(9, 6))\n",
    "\n",
    "# Create the plots\n",
    "plt.plot(ks, scores_test, color='r', linewidth=3, label='Test sample')\n",
    "plt.plot(ks, scores_train, color='b', linewidth=3, label='Train sample')\n",
    "\n",
    "plt.xlabel('k_neighbors') # set up X-axis label\n",
    "plt.ylabel('Accuracy')    # set up Y-axis label\n",
    "\n",
    "plt.legend(loc='best') # create the plot legend and set up it position\n",
    "plt.grid(b=1) # create grid on the plot\n",
    "\n",
    "plt.show() # display the plot"
   ]
  },
  {
   "cell_type": "markdown",
   "metadata": {},
   "source": [
    "Questions\n",
    "* What is the best k_neighbors value?\n",
    "* How can you explain this behaviour?"
   ]
  },
  {
   "cell_type": "markdown",
   "metadata": {},
   "source": [
    "### Experiments:\n",
    "* Change noise level in the sample\n",
    "* Change number of objects in the sample\n",
    "* How decision boundary cahnges with k_neighbors?"
   ]
  },
  {
   "cell_type": "markdown",
   "metadata": {},
   "source": [
    "# Feature Scales Dependency\n",
    "\n",
    "Previously, object features have the same scales (in range [-1.5, 1.5]). <br/>\n",
    "Consider, how it KNN classification quality changes with increasing scale of one of the input features."
   ]
  },
  {
   "cell_type": "code",
   "execution_count": 74,
   "metadata": {},
   "outputs": [],
   "source": [
    "M = np.arange(1, 200, 5) # create list of multipliers values\n",
    "\n",
    "# Lists for quality metrics\n",
    "scores_test = []\n",
    "\n",
    "# For each multiplier value ...\n",
    "for mult in M:\n",
    "    \n",
    "    # Make samples copy\n",
    "    X_train2 = X_train.copy()\n",
    "    X_test2 = X_test.copy()\n",
    "\n",
    "    # Multiply feature_2 by the multiplier mult\n",
    "    X_train2[:, 1] *= mult\n",
    "    X_test2[:, 1] *= mult\n",
    "    \n",
    "    # Create a KNN classifier object\n",
    "    knn = KNNClassifier(k_neighbors=5)\n",
    "    \n",
    "    # Train the classifier (remember, that KNN has no training procedure, but it is a tradition :)\n",
    "    knn.fit(X_train2, y_train)\n",
    "\n",
    "    # Use the classifier to predict labels\n",
    "    y_test_predict = knn.predict(X_test2)    # predict for the test smaple\n",
    "    \n",
    "    # Calculate accuracy for the test and train samples\n",
    "    accuracy_test = accuracy_score(y_test, y_test_predict)    # for the test smaple\n",
    "    \n",
    "    # Collect scores\n",
    "    scores_test.append(accuracy_test)"
   ]
  },
  {
   "cell_type": "code",
   "execution_count": 75,
   "metadata": {},
   "outputs": [
    {
     "name": "stderr",
     "output_type": "stream",
     "text": [
      "/var/folders/96/37xml6l17y9g2x40d15m0y240000gq/T/ipykernel_19656/2856356360.py:11: MatplotlibDeprecationWarning: The 'b' parameter of grid() has been renamed 'visible' since Matplotlib 3.5; support for the old name will be dropped two minor releases later.\n",
      "  plt.grid(b=1) # create grid on the plot\n"
     ]
    },
    {
     "data": {
      "image/png": "[encoded data removed]",
      "text/plain": [
       "<Figure size 648x432 with 1 Axes>"
      ]
     },
     "metadata": {
      "needs_background": "light"
     },
     "output_type": "display_data"
    }
   ],
   "source": [
    "# Create an figure with a custom size\n",
    "plt.figure(figsize=(9, 6))\n",
    "\n",
    "# Create the plots\n",
    "plt.plot(M, scores_test, color='r', linewidth=3, label='Test sample')\n",
    "\n",
    "plt.xlabel('Multiplier')  # set up X-axis label\n",
    "plt.ylabel('Accuracy')    # set up Y-axis label\n",
    "\n",
    "plt.legend(loc='best') # create the plot legend and set up it position\n",
    "plt.grid(b=1) # create grid on the plot\n",
    "\n",
    "plt.show() # display the plot"
   ]
  },
  {
   "cell_type": "markdown",
   "metadata": {},
   "source": [
    "Question to students:\n",
    "* How can you explain this?"
   ]
  },
  {
   "cell_type": "markdown",
   "metadata": {},
   "source": [
    "# Features Selection\n",
    "\n",
    "If a data sample contains weak of usless for classification features, it is better to remove them from the sample. <br/>\n",
    "Let's add several random features to the sample and look how KNN classification quality changes."
   ]
  },
  {
   "cell_type": "code",
   "execution_count": 76,
   "metadata": {},
   "outputs": [],
   "source": [
    "Ns = np.arange(1, 100, 5) # create list of multipliers values\n",
    "\n",
    "# Lists for quality metrics\n",
    "scores_test = []\n",
    "\n",
    "# For each multiplier value ...\n",
    "for n in Ns:\n",
    "        \n",
    "    X_train2 = np.c_[X_train, \n",
    "                     np.random.rand(X_train.shape[0], n)] # add n random columns\n",
    "    X_test2 = np.c_[X_test, \n",
    "                    np.random.rand(X_test.shape[0], n)] # add n random columns\n",
    "    \n",
    "    # Create a KNN classifier object\n",
    "    knn = KNNClassifier(k_neighbors=5)\n",
    "    \n",
    "    # Train the classifier (remember, that KNN has no training procedure, but it is a tradition :)\n",
    "    knn.fit(X_train2, y_train)\n",
    "\n",
    "    # Use the classifier to predict labels\n",
    "    y_test_predict = knn.predict(X_test2)    # predict for the test smaple\n",
    "    \n",
    "    # Calculate accuracy for the test and train samples\n",
    "    accuracy_test = accuracy_score(y_test, y_test_predict)    # for the test smaple\n",
    "    \n",
    "    # Collect scores\n",
    "    scores_test.append(accuracy_test)"
   ]
  },
  {
   "cell_type": "code",
   "execution_count": 77,
   "metadata": {},
   "outputs": [
    {
     "name": "stderr",
     "output_type": "stream",
     "text": [
      "/var/folders/96/37xml6l17y9g2x40d15m0y240000gq/T/ipykernel_19656/428865245.py:11: MatplotlibDeprecationWarning: The 'b' parameter of grid() has been renamed 'visible' since Matplotlib 3.5; support for the old name will be dropped two minor releases later.\n",
      "  plt.grid(b=1) # create grid on the plot\n"
     ]
    },
    {
     "data": {
      "image/png": "[encoded data removed]",
      "text/plain": [
       "<Figure size 648x432 with 1 Axes>"
      ]
     },
     "metadata": {
      "needs_background": "light"
     },
     "output_type": "display_data"
    }
   ],
   "source": [
    "# Create an figure with a custom size\n",
    "plt.figure(figsize=(9, 6))\n",
    "\n",
    "# Create the plots\n",
    "plt.plot(Ns, scores_test, color='r', linewidth=3, label='Test sample')\n",
    "\n",
    "plt.xlabel('N random columns')  # set up X-axis label\n",
    "plt.ylabel('Accuracy')    # set up Y-axis label\n",
    "\n",
    "plt.legend(loc='best') # create the plot legend and set up it position\n",
    "plt.grid(b=1) # create grid on the plot\n",
    "\n",
    "plt.show() # display the plot"
   ]
  },
  {
   "cell_type": "markdown",
   "metadata": {},
   "source": [
    "Questions:\n",
    "* How can you explain this?"
   ]
  },
  {
   "cell_type": "markdown",
   "metadata": {},
   "source": [
    "# Curse of Dimensionality\n",
    "\n",
    "Distance between two points increases with dramatically increasing dimentionality. Consider how minimum and maximum distances in a sample change with increasing dimentionality. For this we will do the following:\n",
    "* Create a ramdom sample of defined dimentionality using `numpy.random.uniform()` function.\n",
    "* Calculate distances between all pairs of points of the sample using `scipy.spatial.distance.cdist()` function.\n",
    "* Find averaged minimum and maximum distances"
   ]
  },
  {
   "cell_type": "code",
   "execution_count": 78,
   "metadata": {},
   "outputs": [],
   "source": [
    "# Import cdist function\n",
    "from scipy.spatial.distance import cdist\n",
    "\n",
    "min_avg = []\n",
    "max_avg = []\n",
    "dimentions = range(1, 201)\n",
    "\n",
    "# For each dimention\n",
    "for d in dimentions:\n",
    "    \n",
    "    # Create random sample with 100 points and dimention d\n",
    "    XX = np.random.uniform(-1, 1, (100, d))\n",
    "    \n",
    "    # Calculate distances between pairs of points\n",
    "    D = cdist(XX, XX, metric='euclidean')\n",
    "    D[np.diag_indices(100)] = np.nan # replace diagonal values with nan\n",
    "    \n",
    "    # Find averaged minimum and maximum distances\n",
    "    min_avg.append(np.nanmin(D, axis=1).mean())\n",
    "    max_avg.append(np.nanmax(D, axis=1).mean())\n",
    "    \n",
    "# Cnvert lists into numpy.array\n",
    "min_avg = np.array(min_avg)\n",
    "max_avg = np.array(max_avg)\n",
    "\n",
    "# Calculate ratio\n",
    "ratio = max_avg/min_avg"
   ]
  },
  {
   "cell_type": "markdown",
   "metadata": {},
   "source": [
    "Plot dependencies of the averaged distances from the dimentionality"
   ]
  },
  {
   "cell_type": "code",
   "execution_count": 79,
   "metadata": {},
   "outputs": [
    {
     "name": "stderr",
     "output_type": "stream",
     "text": [
      "/var/folders/96/37xml6l17y9g2x40d15m0y240000gq/T/ipykernel_19656/1307698542.py:11: MatplotlibDeprecationWarning: The 'b' parameter of grid() has been renamed 'visible' since Matplotlib 3.5; support for the old name will be dropped two minor releases later.\n",
      "  plt.grid(b=1)\n"
     ]
    },
    {
     "data": {
      "image/png": "[encoded data removed]",
      "text/plain": [
       "<Figure size 648x432 with 1 Axes>"
      ]
     },
     "metadata": {
      "needs_background": "light"
     },
     "output_type": "display_data"
    }
   ],
   "source": [
    "# Create an figure with a custom size\n",
    "plt.figure(figsize=(9, 6))\n",
    "\n",
    "plt.plot(dimentions, min_avg, label='min_avg', linewidth=3)\n",
    "plt.plot(dimentions, max_avg, label='max_avg', linewidth=3)\n",
    "\n",
    "plt.xlabel('Dimentionality')\n",
    "plt.ylabel('Distances')\n",
    "\n",
    "plt.legend()\n",
    "plt.grid(b=1)\n",
    "plt.show()"
   ]
  },
  {
   "cell_type": "markdown",
   "metadata": {},
   "source": [
    "Plot dependencies of the ratio from the dimentionality"
   ]
  },
  {
   "cell_type": "code",
   "execution_count": 80,
   "metadata": {},
   "outputs": [
    {
     "name": "stderr",
     "output_type": "stream",
     "text": [
      "/var/folders/96/37xml6l17y9g2x40d15m0y240000gq/T/ipykernel_19656/3477516625.py:10: MatplotlibDeprecationWarning: The 'b' parameter of grid() has been renamed 'visible' since Matplotlib 3.5; support for the old name will be dropped two minor releases later.\n",
      "  plt.grid(b=1)\n"
     ]
    },
    {
     "data": {
      "image/png": "[encoded data removed]",
      "text/plain": [
       "<Figure size 648x432 with 1 Axes>"
      ]
     },
     "metadata": {
      "needs_background": "light"
     },
     "output_type": "display_data"
    }
   ],
   "source": [
    "# Create an figure with a custom size\n",
    "plt.figure(figsize=(9, 6))\n",
    "\n",
    "plt.plot(dimentions, ratio, label='ratio', linewidth=3)\n",
    "\n",
    "plt.xlabel('Dimentionality')\n",
    "plt.ylabel('max_avg / min_avg')\n",
    "\n",
    "plt.legend()\n",
    "plt.grid(b=1)\n",
    "plt.show()"
   ]
  },
  {
   "cell_type": "markdown",
   "metadata": {},
   "source": [
    "# Cross-validation\n",
    "\n",
    "Previously we divided data sample into 2 parts: train and test. We trained our classifier on the train smaple and test it on the test sample. Disadvantage of this way is that we use only part of the sample to train and test the classifier. \n",
    "\n",
    "**KFold** cross-validation allows to use the whole sample to train and test the calssifier. Procedure is following:\n",
    "* Divide data sample into **K** parts (folds).\n",
    "* Use **K-1** folds to train the classifier and the last **Kth** fold to test it.\n",
    "* Repeat this **K** times as it is shown in the figure below.\n",
    "\n",
    "Now you have predictions for all object in the sample to test the classifier. Also you have **K** trained classifiers and you can average thier prediction for new objects.\n",
    "\n",
    "<img src=\"img/kfold.png\" width=\"800\">\n",
    "\n",
    "Consider how it works using `sklearn.model_selection.KFold` function from scikit-learn library."
   ]
  },
  {
   "cell_type": "code",
   "execution_count": 81,
   "metadata": {},
   "outputs": [
    {
     "name": "stdout",
     "output_type": "stream",
     "text": [
      "Iteration N 1\n",
      "TRAIN shape: (900, 2) TEST shape: (100, 2)\n",
      "N of 0s and 1s in train: 451 449 \n",
      "\n",
      "Iteration N 2\n",
      "TRAIN shape: (900, 2) TEST shape: (100, 2)\n",
      "N of 0s and 1s in train: 452 448 \n",
      "\n",
      "Iteration N 3\n",
      "TRAIN shape: (900, 2) TEST shape: (100, 2)\n",
      "N of 0s and 1s in train: 449 451 \n",
      "\n",
      "Iteration N 4\n",
      "TRAIN shape: (900, 2) TEST shape: (100, 2)\n",
      "N of 0s and 1s in train: 449 451 \n",
      "\n",
      "Iteration N 5\n",
      "TRAIN shape: (900, 2) TEST shape: (100, 2)\n",
      "N of 0s and 1s in train: 453 447 \n",
      "\n",
      "Iteration N 6\n",
      "TRAIN shape: (900, 2) TEST shape: (100, 2)\n",
      "N of 0s and 1s in train: 450 450 \n",
      "\n",
      "Iteration N 7\n",
      "TRAIN shape: (900, 2) TEST shape: (100, 2)\n",
      "N of 0s and 1s in train: 444 456 \n",
      "\n",
      "Iteration N 8\n",
      "TRAIN shape: (900, 2) TEST shape: (100, 2)\n",
      "N of 0s and 1s in train: 454 446 \n",
      "\n",
      "Iteration N 9\n",
      "TRAIN shape: (900, 2) TEST shape: (100, 2)\n",
      "N of 0s and 1s in train: 455 445 \n",
      "\n",
      "Iteration N 10\n",
      "TRAIN shape: (900, 2) TEST shape: (100, 2)\n",
      "N of 0s and 1s in train: 443 457 \n",
      "\n"
     ]
    }
   ],
   "source": [
    "# Import KFold function\n",
    "from sklearn.model_selection import KFold\n",
    "\n",
    "# Create object of KFold class that devides sample into 10 folds\n",
    "kf = KFold(n_splits=10) # n_splits - number of folds\n",
    "\n",
    "# Iteration counter\n",
    "n_iter = 1\n",
    "\n",
    "# Collect predictions for all folds\n",
    "y_predict = np.zeros(len(y)) # numpy.array with zero values the same shape as y\n",
    "\n",
    "# Collect trained classifiers\n",
    "classifiers = []\n",
    "\n",
    "# Get iterator of train and test folds\n",
    "for train_index, test_index in kf.split(X):\n",
    "    \n",
    "    # Count iterations\n",
    "    print(\"Iteration N\", n_iter)\n",
    "    n_iter += 1\n",
    "    \n",
    "    \n",
    "    \n",
    "    # Get train (10 - 1 folds) and test (1 fold) folds\n",
    "    X_train, X_test = X[train_index], X[test_index]\n",
    "    y_train, y_test = y[train_index], y[test_index]\n",
    "    print(\"TRAIN shape:\", X_train.shape, \"TEST shape:\", X_test.shape)\n",
    "    print(\"N of 0s and 1s in train:\", list(y_train).count(0), list(y_train).count(1), \"\\n\")\n",
    "    \n",
    "    \n",
    "    \n",
    "    # Create a KNN classifier object\n",
    "    knn = KNNClassifier(k_neighbors=5)\n",
    "    \n",
    "    # Train the classifier (remember, that KNN has no training procedure, but it is a tradition :)\n",
    "    knn.fit(X_train, y_train)\n",
    "\n",
    "    # Use the classifier to predict labels\n",
    "    y_test_predict = knn.predict(X_test)    # predict for the test smaple\n",
    "    \n",
    "    # Collect predictions\n",
    "    y_predict[test_index] = y_test_predict\n",
    "    \n",
    "    # Collect classifiers\n",
    "    classifiers.append(knn)"
   ]
  },
  {
   "cell_type": "markdown",
   "metadata": {},
   "source": [
    "Calculate the classification quality for the entire sample:"
   ]
  },
  {
   "cell_type": "code",
   "execution_count": 82,
   "metadata": {},
   "outputs": [
    {
     "name": "stdout",
     "output_type": "stream",
     "text": [
      "Test accuracy of KNN classifier:  0.969\n"
     ]
    }
   ],
   "source": [
    "# Calculate accuracy for the test sample\n",
    "accuracy_whole = accuracy_score(y, y_predict)\n",
    "\n",
    "print(\"Test accuracy of KNN classifier: \", accuracy_whole)"
   ]
  },
  {
   "cell_type": "code",
   "execution_count": 83,
   "metadata": {},
   "outputs": [
    {
     "data": {
      "text/plain": [
       "[<__main__.KNNClassifier at 0x136f2dca0>,\n",
       " <__main__.KNNClassifier at 0x136f2d670>,\n",
       " <__main__.KNNClassifier at 0x1370fd760>,\n",
       " <__main__.KNNClassifier at 0x136f2daf0>,\n",
       " <__main__.KNNClassifier at 0x136f2d460>,\n",
       " <__main__.KNNClassifier at 0x1369ab220>,\n",
       " <__main__.KNNClassifier at 0x1369ab130>,\n",
       " <__main__.KNNClassifier at 0x1369ab370>,\n",
       " <__main__.KNNClassifier at 0x1369ab460>,\n",
       " <__main__.KNNClassifier at 0x1369ab3d0>]"
      ]
     },
     "execution_count": 83,
     "metadata": {},
     "output_type": "execute_result"
    }
   ],
   "source": [
    "# We also have 10 trained classifiers:\n",
    "classifiers"
   ]
  },
  {
   "cell_type": "code",
   "execution_count": 84,
   "metadata": {},
   "outputs": [
    {
     "data": {
      "text/plain": [
       "457"
      ]
     },
     "execution_count": 84,
     "metadata": {},
     "output_type": "execute_result"
    }
   ],
   "source": [
    "list(y_train).count(1)"
   ]
  },
  {
   "cell_type": "markdown",
   "metadata": {},
   "source": [
    "Get predictions for all classifiers"
   ]
  },
  {
   "cell_type": "code",
   "execution_count": 85,
   "metadata": {},
   "outputs": [
    {
     "name": "stdout",
     "output_type": "stream",
     "text": [
      "All predictions:\n",
      " [[1 0]\n",
      " [1 0]\n",
      " [1 0]\n",
      " [1 0]\n",
      " [1 0]\n",
      " [1 0]\n",
      " [1 0]\n",
      " [1 0]\n",
      " [1 0]\n",
      " [1 0]]\n",
      "\n",
      "Average prediction: [1. 0.]\n"
     ]
    }
   ],
   "source": [
    "# Create two new objects\n",
    "X_new = np.array([[0.11, 0.37], \n",
    "                  [-1.0, 1.4]])\n",
    "\n",
    "# Collect predictions for the objects\n",
    "y_predicts_new = []\n",
    "\n",
    "# For each classifier make predictions\n",
    "for knn in classifiers:\n",
    "    \n",
    "    # Make predictions for the new objects\n",
    "    y_pred = knn.predict(X_new)\n",
    "    \n",
    "    # Coolect the predictions\n",
    "    y_predicts_new.append(y_pred)\n",
    "\n",
    "# Convert to numpy.array\n",
    "y_predicts_new = np.array(y_predicts_new)\n",
    "    \n",
    "# Print all predictions\n",
    "print(\"All predictions:\\n\", np.array(y_predicts_new))\n",
    "\n",
    "# Print average predictions\n",
    "print(\"\\nAverage prediction:\", y_predicts_new.mean(axis=0) )"
   ]
  },
  {
   "cell_type": "markdown",
   "metadata": {},
   "source": [
    "**KFold** does not save proportions of classes when devides sample into folds. However, **StratifiedKFold** saves this ratio!"
   ]
  },
  {
   "cell_type": "code",
   "execution_count": 86,
   "metadata": {},
   "outputs": [
    {
     "name": "stdout",
     "output_type": "stream",
     "text": [
      "Iteration N 11\n",
      "TRAIN shape: (900, 2) TEST shape: (100, 2)\n",
      "N of 0s and 1s in train: 450 450 \n",
      "\n",
      "Iteration N 12\n",
      "TRAIN shape: (900, 2) TEST shape: (100, 2)\n",
      "N of 0s and 1s in train: 450 450 \n",
      "\n",
      "Iteration N 13\n",
      "TRAIN shape: (900, 2) TEST shape: (100, 2)\n",
      "N of 0s and 1s in train: 450 450 \n",
      "\n",
      "Iteration N 14\n",
      "TRAIN shape: (900, 2) TEST shape: (100, 2)\n",
      "N of 0s and 1s in train: 450 450 \n",
      "\n",
      "Iteration N 15\n",
      "TRAIN shape: (900, 2) TEST shape: (100, 2)\n",
      "N of 0s and 1s in train: 450 450 \n",
      "\n",
      "Iteration N 16\n",
      "TRAIN shape: (900, 2) TEST shape: (100, 2)\n",
      "N of 0s and 1s in train: 450 450 \n",
      "\n",
      "Iteration N 17\n",
      "TRAIN shape: (900, 2) TEST shape: (100, 2)\n",
      "N of 0s and 1s in train: 450 450 \n",
      "\n",
      "Iteration N 18\n",
      "TRAIN shape: (900, 2) TEST shape: (100, 2)\n",
      "N of 0s and 1s in train: 450 450 \n",
      "\n",
      "Iteration N 19\n",
      "TRAIN shape: (900, 2) TEST shape: (100, 2)\n",
      "N of 0s and 1s in train: 450 450 \n",
      "\n",
      "Iteration N 20\n",
      "TRAIN shape: (900, 2) TEST shape: (100, 2)\n",
      "N of 0s and 1s in train: 450 450 \n",
      "\n"
     ]
    }
   ],
   "source": [
    "# Import KFold function\n",
    "from sklearn.model_selection import StratifiedKFold\n",
    "\n",
    "# Create object of KFold class that devides sample into 10 folds\n",
    "kf = StratifiedKFold(n_splits=10) # n_splits - number of folds\n",
    "\n",
    "# Get iterator of train and test folds\n",
    "for train_index, test_index in kf.split(X, y):\n",
    "    \n",
    "    # Count iterations\n",
    "    print(\"Iteration N\", n_iter)\n",
    "    n_iter += 1\n",
    "    \n",
    "    \n",
    "    # Get train (10 - 1 folds) and test (1 fold) folds\n",
    "    X_train, X_test = X[train_index], X[test_index]\n",
    "    y_train, y_test = y[train_index], y[test_index]\n",
    "    print(\"TRAIN shape:\", X_train.shape, \"TEST shape:\", X_test.shape)\n",
    "    print(\"N of 0s and 1s in train:\", list(y_train).count(0), list(y_train).count(1), \"\\n\")"
   ]
  },
  {
   "cell_type": "code",
   "execution_count": 87,
   "metadata": {},
   "outputs": [],
   "source": [
    "from sklearn.neighbors import KNeighborsClassifier\n",
    "# your code is here"
   ]
  },
  {
   "cell_type": "code",
   "execution_count": null,
   "metadata": {},
   "outputs": [],
   "source": []
  },
  {
   "cell_type": "code",
   "execution_count": null,
   "metadata": {},
   "outputs": [],
   "source": []
  }
 ],
 "metadata": {
  "kernelspec": {
   "display_name": "Python 3 (ipykernel)",
   "language": "python",
   "name": "python3"
  },
  "language_info": {
   "codemirror_mode": {
    "name": "ipython",
    "version": 3
   },
   "file_extension": ".py",
   "mimetype": "text/x-python",
   "name": "python",
   "nbconvert_exporter": "python",
   "pygments_lexer": "ipython3",
   "version": "3.8.11"
  }
 },
 "nbformat": 4,
 "nbformat_minor": 4
}
