{
 "cells": [
  {
   "cell_type": "markdown",
   "metadata": {
    "id": "Tutt9L73FkfP"
   },
   "source": [
    "# 1.  Jupyter Notebook Installation"
   ]
  },
  {
   "cell_type": "markdown",
   "metadata": {
    "id": "TCSa32JgFkfP"
   },
   "source": [
    "<img src=\"https://github.com/hushchyn-mikhail/hse_se_ml/blob/s01/2020/s01-intro-to-python/img/anaconda.png?raw=1\">"
   ]
  },
  {
   "cell_type": "markdown",
   "metadata": {
    "id": "zGLX2_WoFkfP"
   },
   "source": [
    "The simplest way to install Jupyter Notebook and other python libraries needed in this course is [Anaconda Ditribution](https://www.anaconda.com). Just follow instuctions on the site. Please, use a distribution with **python 3**.\n"
   ]
  },
  {
   "cell_type": "markdown",
   "metadata": {
    "id": "bu73Ex_6FkfQ"
   },
   "source": [
    "# 2. Python Tutorual"
   ]
  },
  {
   "cell_type": "markdown",
   "metadata": {
    "id": "bAW_0dYKFkfQ"
   },
   "source": [
    "<img src=\"https://github.com/hushchyn-mikhail/hse_se_ml/blob/s01/2020/s01-intro-to-python/img/python.png?raw=1\" width=\"600\">"
   ]
  },
  {
   "cell_type": "markdown",
   "metadata": {
    "id": "9fclHnenFkfQ"
   },
   "source": [
    "### Calculator"
   ]
  },
  {
   "cell_type": "code",
   "execution_count": null,
   "metadata": {
    "id": "-KawtvU5FkfQ",
    "outputId": "8f794f41-aa69-440b-b1db-a601b452ed47"
   },
   "outputs": [
    {
     "data": {
      "text/plain": [
       "14"
      ]
     },
     "execution_count": 1,
     "metadata": {},
     "output_type": "execute_result"
    }
   ],
   "source": [
    "2 * 7"
   ]
  },
  {
   "cell_type": "code",
   "execution_count": null,
   "metadata": {
    "id": "xq1T-3z0FkfQ",
    "outputId": "954c1bda-fd2f-4b08-b7a6-9b364c1f3d51"
   },
   "outputs": [
    {
     "data": {
      "text/plain": [
       "22"
      ]
     },
     "execution_count": 2,
     "metadata": {},
     "output_type": "execute_result"
    }
   ],
   "source": [
    "6 + 4**2"
   ]
  },
  {
   "cell_type": "code",
   "execution_count": null,
   "metadata": {
    "id": "O1hwWqoYFkfR",
    "outputId": "7a09d216-3447-49d3-ee16-56c7b69b5d80"
   },
   "outputs": [
    {
     "data": {
      "text/plain": [
       "4.0"
      ]
     },
     "execution_count": 3,
     "metadata": {},
     "output_type": "execute_result"
    }
   ],
   "source": [
    "16 / 4"
   ]
  },
  {
   "cell_type": "code",
   "execution_count": null,
   "metadata": {
    "id": "3y4ensk9FkfR",
    "outputId": "c9893c15-6453-4b20-fa31-01d294b692b9"
   },
   "outputs": [
    {
     "data": {
      "text/plain": [
       "3.5714285714285716"
      ]
     },
     "execution_count": 4,
     "metadata": {},
     "output_type": "execute_result"
    }
   ],
   "source": [
    "25 / 7"
   ]
  },
  {
   "cell_type": "code",
   "execution_count": null,
   "metadata": {
    "id": "KxTErFJsFkfR",
    "outputId": "1c4cee3b-c7ae-4a54-e235-ed401adde49e"
   },
   "outputs": [
    {
     "data": {
      "text/plain": [
       "3.5714285714285716"
      ]
     },
     "execution_count": 5,
     "metadata": {},
     "output_type": "execute_result"
    }
   ],
   "source": [
    "# other variants with the same result\n",
    "25./7\n",
    "25/7.\n",
    "float(25)/7"
   ]
  },
  {
   "cell_type": "markdown",
   "metadata": {
    "id": "35tCSvCfFkfR"
   },
   "source": [
    "### Import Libraries\n",
    "To import python libraries use **import** command."
   ]
  },
  {
   "cell_type": "code",
   "execution_count": null,
   "metadata": {
    "id": "YvHfFyfXFkfR",
    "outputId": "bf73d854-1e5a-4f9a-a7da-feecf0940dd3"
   },
   "outputs": [
    {
     "data": {
      "text/plain": [
       "2.0"
      ]
     },
     "execution_count": 6,
     "metadata": {},
     "output_type": "execute_result"
    }
   ],
   "source": [
    "import math\n",
    "math.sqrt(4)"
   ]
  },
  {
   "cell_type": "markdown",
   "metadata": {
    "id": "GNdnzOBhFkfR"
   },
   "source": [
    "It is possible to import just selected functions form a library:"
   ]
  },
  {
   "cell_type": "code",
   "execution_count": null,
   "metadata": {
    "id": "phWFcwOjFkfR",
    "outputId": "0ef536ba-f8ff-4074-8773-a4249e7d518a"
   },
   "outputs": [
    {
     "data": {
      "text/plain": [
       "0.0015926529164868282"
      ]
     },
     "execution_count": 7,
     "metadata": {},
     "output_type": "execute_result"
    }
   ],
   "source": [
    "from math import sin\n",
    "sin(3.14)"
   ]
  },
  {
   "cell_type": "code",
   "execution_count": null,
   "metadata": {
    "id": "n5wiTsYHFkfR",
    "outputId": "eeded24f-a3e7-4454-f4d5-f3aaae916169",
    "scrolled": true
   },
   "outputs": [
    {
     "data": {
      "text/plain": [
       "1.2246467991473532e-16"
      ]
     },
     "execution_count": 8,
     "metadata": {},
     "output_type": "execute_result"
    }
   ],
   "source": [
    "from math import pi\n",
    "sin(pi) # sin was imported in the previous cell"
   ]
  },
  {
   "cell_type": "markdown",
   "metadata": {
    "id": "Wd6vwlOzFkfR"
   },
   "source": [
    "### Variables\n",
    "\n",
    "Forget about variables declaration. You need a variable, just take it!"
   ]
  },
  {
   "cell_type": "code",
   "execution_count": null,
   "metadata": {
    "id": "lC_MTiq1FkfR",
    "outputId": "385d2134-776d-42f4-8271-baecc5173ae9"
   },
   "outputs": [
    {
     "data": {
      "text/plain": [
       "4"
      ]
     },
     "execution_count": 9,
     "metadata": {},
     "output_type": "execute_result"
    }
   ],
   "source": [
    "x = 4\n",
    "x"
   ]
  },
  {
   "cell_type": "markdown",
   "metadata": {
    "id": "N_9ZR1JhFkfS"
   },
   "source": [
    "Incrementation"
   ]
  },
  {
   "cell_type": "code",
   "execution_count": null,
   "metadata": {
    "id": "OfcUZF6aFkfS",
    "outputId": "5e86ca29-1115-4cb8-f213-952b523d820f"
   },
   "outputs": [
    {
     "data": {
      "text/plain": [
       "6"
      ]
     },
     "execution_count": 10,
     "metadata": {},
     "output_type": "execute_result"
    }
   ],
   "source": [
    "x = x + 2\n",
    "x"
   ]
  },
  {
   "cell_type": "code",
   "execution_count": null,
   "metadata": {
    "id": "K_dKjJXmFkfS",
    "outputId": "5ede278c-68e9-4a16-da64-9330ea08f8b4"
   },
   "outputs": [
    {
     "data": {
      "text/plain": [
       "8"
      ]
     },
     "execution_count": 11,
     "metadata": {},
     "output_type": "execute_result"
    }
   ],
   "source": [
    "x += 2\n",
    "x"
   ]
  },
  {
   "cell_type": "markdown",
   "metadata": {
    "collapsed": true,
    "id": "xsf8BATAFkfS"
   },
   "source": [
    "Logical operations"
   ]
  },
  {
   "cell_type": "code",
   "execution_count": null,
   "metadata": {
    "id": "7MprAQQ6FkfS",
    "outputId": "87e0af7b-0090-457b-94bd-fa79e18f7c04"
   },
   "outputs": [
    {
     "data": {
      "text/plain": [
       "True"
      ]
     },
     "execution_count": 12,
     "metadata": {},
     "output_type": "execute_result"
    }
   ],
   "source": [
    "x != 7"
   ]
  },
  {
   "cell_type": "code",
   "execution_count": null,
   "metadata": {
    "id": "SOlZffN0FkfS",
    "outputId": "ee71a285-1387-4ce6-e9e7-fa7ec5d48c08"
   },
   "outputs": [
    {
     "data": {
      "text/plain": [
       "True"
      ]
     },
     "execution_count": 13,
     "metadata": {},
     "output_type": "execute_result"
    }
   ],
   "source": [
    "x > 7"
   ]
  },
  {
   "cell_type": "code",
   "execution_count": null,
   "metadata": {
    "id": "Ky1QjXSxFkfS",
    "outputId": "d173729f-3fd0-4dda-ab2f-30c18fcd5df4"
   },
   "outputs": [
    {
     "data": {
      "text/plain": [
       "False"
      ]
     },
     "execution_count": 14,
     "metadata": {},
     "output_type": "execute_result"
    }
   ],
   "source": [
    "x < 7"
   ]
  },
  {
   "cell_type": "markdown",
   "metadata": {
    "id": "QFFLZzFyFkfS"
   },
   "source": [
    "Print"
   ]
  },
  {
   "cell_type": "code",
   "execution_count": null,
   "metadata": {
    "id": "cMR6wzMcFkfS",
    "outputId": "b9f4418d-774b-4451-c117-e35682434a82"
   },
   "outputs": [
    {
     "name": "stdout",
     "output_type": "stream",
     "text": [
      "8\n"
     ]
    }
   ],
   "source": [
    "print(x)"
   ]
  },
  {
   "cell_type": "code",
   "execution_count": null,
   "metadata": {
    "id": "M_rf7YmMFkfS",
    "outputId": "fd23c0f9-a039-43dc-8f1e-0d55d4b75325"
   },
   "outputs": [
    {
     "name": "stdout",
     "output_type": "stream",
     "text": [
      "x =  8\n"
     ]
    }
   ],
   "source": [
    "print(\"x = \", x)"
   ]
  },
  {
   "cell_type": "markdown",
   "metadata": {
    "id": "p3AvtnvhFkfS"
   },
   "source": [
    "### Data Types\n",
    "\n",
    "#### String"
   ]
  },
  {
   "cell_type": "code",
   "execution_count": null,
   "metadata": {
    "id": "tQqzF_TzFkfS"
   },
   "outputs": [],
   "source": [
    "s = \"Blah-Blah\""
   ]
  },
  {
   "cell_type": "code",
   "execution_count": null,
   "metadata": {
    "id": "QXr1zBklFkfS",
    "outputId": "aee097ab-9b62-4902-e0f9-3ea863e8c881"
   },
   "outputs": [
    {
     "data": {
      "text/plain": [
       "str"
      ]
     },
     "execution_count": 18,
     "metadata": {},
     "output_type": "execute_result"
    }
   ],
   "source": [
    "# type of a string\n",
    "type(s)"
   ]
  },
  {
   "cell_type": "code",
   "execution_count": null,
   "metadata": {
    "id": "qfNPbDmxFkfS",
    "outputId": "4437d27b-6680-4579-dc21-2ef2cbd24d54"
   },
   "outputs": [
    {
     "data": {
      "text/plain": [
       "'HelloWorld'"
      ]
     },
     "execution_count": 19,
     "metadata": {},
     "output_type": "execute_result"
    }
   ],
   "source": [
    "a = \"Hello\"\n",
    "b = \"World\"\n",
    "c = a + b\n",
    "c"
   ]
  },
  {
   "cell_type": "code",
   "execution_count": null,
   "metadata": {
    "id": "6bE7oNSQFkfS",
    "outputId": "f1b516d9-c539-4d61-f497-b15a24a476e5"
   },
   "outputs": [
    {
     "data": {
      "text/plain": [
       "False"
      ]
     },
     "execution_count": 20,
     "metadata": {},
     "output_type": "execute_result"
    }
   ],
   "source": [
    "'ABC' == 'abc'"
   ]
  },
  {
   "cell_type": "code",
   "execution_count": null,
   "metadata": {
    "id": "jAz3J3daFkfS",
    "outputId": "ea6c263a-23e9-418a-e164-bf9b2d3248aa"
   },
   "outputs": [
    {
     "data": {
      "text/plain": [
       "True"
      ]
     },
     "execution_count": 21,
     "metadata": {},
     "output_type": "execute_result"
    }
   ],
   "source": [
    "'ABC' < 'DEF'"
   ]
  },
  {
   "cell_type": "markdown",
   "metadata": {
    "id": "KT6f4hbkFkfT"
   },
   "source": [
    "#### Lists"
   ]
  },
  {
   "cell_type": "code",
   "execution_count": null,
   "metadata": {
    "id": "OMw86MT_FkfT"
   },
   "outputs": [],
   "source": [
    "x = [2, 5, 1, 2, 3, 2, 4, 6]"
   ]
  },
  {
   "cell_type": "code",
   "execution_count": null,
   "metadata": {
    "id": "X8NER-RpFkfT",
    "outputId": "e76b4444-165c-4d31-86bb-bc059e3d5173"
   },
   "outputs": [
    {
     "data": {
      "text/plain": [
       "2"
      ]
     },
     "execution_count": 23,
     "metadata": {},
     "output_type": "execute_result"
    }
   ],
   "source": [
    "x[0]"
   ]
  },
  {
   "cell_type": "code",
   "execution_count": null,
   "metadata": {
    "id": "lW1_xgPBFkfT",
    "outputId": "16fded2e-099a-4248-fd2c-2d24e68a944d"
   },
   "outputs": [
    {
     "data": {
      "text/plain": [
       "[2, 10, 1, 2, 3, 2, 4, 6]"
      ]
     },
     "execution_count": 24,
     "metadata": {},
     "output_type": "execute_result"
    }
   ],
   "source": [
    "x[1] = 10\n",
    "x"
   ]
  },
  {
   "cell_type": "code",
   "execution_count": null,
   "metadata": {
    "id": "B_hMONPbFkfT",
    "outputId": "124af5c2-8ca9-45ab-9c88-eae685b4f2c4"
   },
   "outputs": [
    {
     "data": {
      "text/plain": [
       "[2, 10, 1, 2, 3, 2, 4, 6, 2]"
      ]
     },
     "execution_count": 25,
     "metadata": {},
     "output_type": "execute_result"
    }
   ],
   "source": [
    "x.append(2)\n",
    "x"
   ]
  },
  {
   "cell_type": "code",
   "execution_count": null,
   "metadata": {
    "id": "f7trKlqqFkfT",
    "outputId": "8b69540f-f286-4279-a7e8-52deabc55d72"
   },
   "outputs": [
    {
     "data": {
      "text/plain": [
       "[2, 10, 1, 2, 3, 2, 4, 6, 2, 3]"
      ]
     },
     "execution_count": 26,
     "metadata": {},
     "output_type": "execute_result"
    }
   ],
   "source": [
    "x.append(3)\n",
    "x"
   ]
  },
  {
   "cell_type": "code",
   "execution_count": null,
   "metadata": {
    "id": "fU6F30qLFkfT",
    "outputId": "44d4cde3-14c8-47e7-a5c4-ea4802db1285"
   },
   "outputs": [
    {
     "data": {
      "text/plain": [
       "list"
      ]
     },
     "execution_count": 27,
     "metadata": {},
     "output_type": "execute_result"
    }
   ],
   "source": [
    "type(x)"
   ]
  },
  {
   "cell_type": "markdown",
   "metadata": {
    "id": "BPUh1W09FkfT"
   },
   "source": [
    "You can type `x.` + **Tab** to get list of all methods of the object `x`. For an example:"
   ]
  },
  {
   "cell_type": "code",
   "execution_count": null,
   "metadata": {
    "id": "EQsYUmFjFkfT",
    "outputId": "c7949cb3-1458-43fb-eeb4-bfb50eacceb9"
   },
   "outputs": [
    {
     "data": {
      "text/plain": [
       "4"
      ]
     },
     "execution_count": 28,
     "metadata": {},
     "output_type": "execute_result"
    }
   ],
   "source": [
    "x.count(2)"
   ]
  },
  {
   "cell_type": "code",
   "execution_count": null,
   "metadata": {
    "id": "LqIgwlQmFkfT",
    "outputId": "9275fe7d-8322-4478-d800-a2e398192b4f"
   },
   "outputs": [
    {
     "data": {
      "text/plain": [
       "[3, 2, 6, 4, 2, 3, 2, 1, 10, 2]"
      ]
     },
     "execution_count": 29,
     "metadata": {},
     "output_type": "execute_result"
    }
   ],
   "source": [
    "x.reverse()\n",
    "x"
   ]
  },
  {
   "cell_type": "code",
   "execution_count": null,
   "metadata": {
    "id": "Ib76AbrcFkfT",
    "outputId": "bd407a47-c228-4c5a-e767-55850a068932"
   },
   "outputs": [
    {
     "name": "stdout",
     "output_type": "stream",
     "text": [
      "[3, 2, 6, 4, 2, 3, 2, 1, 10, 2]\n",
      "[6, 4, 2]\n",
      "[6, 4, 2, 3, 2, 1, 10, 2]\n",
      "[3, 2, 6, 4, 2]\n"
     ]
    }
   ],
   "source": [
    "print (x)\n",
    "print (x[2:5])\n",
    "print (x[2:])\n",
    "print (x[:5])"
   ]
  },
  {
   "cell_type": "markdown",
   "metadata": {
    "id": "6NmiYU2sFkfT"
   },
   "source": [
    "**Attention!** `x` is a **pointer**! It contains link to the list, but the list itself."
   ]
  },
  {
   "cell_type": "code",
   "execution_count": null,
   "metadata": {
    "id": "0AZkCw-cFkfT",
    "outputId": "d2b831b6-acda-416f-a434-ac98e63024d8"
   },
   "outputs": [
    {
     "data": {
      "text/plain": [
       "[3, 2, 6, 4, 2, 3, 2, 1, 10, 2]"
      ]
     },
     "execution_count": 31,
     "metadata": {},
     "output_type": "execute_result"
    }
   ],
   "source": [
    "x"
   ]
  },
  {
   "cell_type": "code",
   "execution_count": null,
   "metadata": {
    "id": "St5ZSDTwFkfT",
    "outputId": "3a9b329c-42e1-4720-e199-dada9964411f"
   },
   "outputs": [
    {
     "data": {
      "text/plain": [
       "[15, 2, 6, 4, 2, 3, 2, 1, 10, 2]"
      ]
     },
     "execution_count": 32,
     "metadata": {},
     "output_type": "execute_result"
    }
   ],
   "source": [
    "y = x\n",
    "y[0] = 15\n",
    "x"
   ]
  },
  {
   "cell_type": "code",
   "execution_count": null,
   "metadata": {
    "id": "h0XevbKCFkfT",
    "outputId": "d2c2cf4a-590e-48f0-c25f-ea70b6e768e4"
   },
   "outputs": [
    {
     "data": {
      "text/plain": [
       "[15, 2, 6, 4, 2, 3, 2, 1, 10, 2]"
      ]
     },
     "execution_count": 33,
     "metadata": {},
     "output_type": "execute_result"
    }
   ],
   "source": [
    "y"
   ]
  },
  {
   "cell_type": "markdown",
   "metadata": {
    "id": "rSKmsET5FkfT"
   },
   "source": [
    "### Type Conversion"
   ]
  },
  {
   "cell_type": "code",
   "execution_count": null,
   "metadata": {
    "id": "PStd86hYFkfT",
    "outputId": "aaf7d7b9-45f4-4e37-c541-656145d21445"
   },
   "outputs": [
    {
     "name": "stdout",
     "output_type": "stream",
     "text": [
      "10\n"
     ]
    }
   ],
   "source": [
    "a = 10.8\n",
    "b = int(a)\n",
    "print (b)"
   ]
  },
  {
   "cell_type": "code",
   "execution_count": null,
   "metadata": {
    "id": "4_dpgRmZFkfT",
    "outputId": "f5f12be0-fdec-4013-8966-87fb823b2bda"
   },
   "outputs": [
    {
     "name": "stdout",
     "output_type": "stream",
     "text": [
      "213213\n"
     ]
    }
   ],
   "source": [
    "a = '213'\n",
    "x = a + a\n",
    "print (int(x))"
   ]
  },
  {
   "cell_type": "markdown",
   "metadata": {
    "id": "Ef_Z_TxmFkfU"
   },
   "source": [
    "### Conditional Statements\n",
    "\n",
    "All statements under conditions must be **indented**."
   ]
  },
  {
   "cell_type": "code",
   "execution_count": null,
   "metadata": {
    "id": "a5dmRBB8FkfU",
    "outputId": "54ce8c94-8ad1-47bd-e4af-f45db275f2db"
   },
   "outputs": [
    {
     "name": "stdout",
     "output_type": "stream",
     "text": [
      "Oh, noooo!\n",
      "x is greater than 2\n"
     ]
    }
   ],
   "source": [
    "x = 3\n",
    "if x == 2:\n",
    "    print ('Okay')\n",
    "    print ('This is good number')\n",
    "else:\n",
    "    print ('Oh, noooo!')\n",
    "    if x > 2:\n",
    "        print ('x is greater than 2')\n",
    "    else:\n",
    "        print ('x is lesser than 2')"
   ]
  },
  {
   "cell_type": "code",
   "execution_count": null,
   "metadata": {
    "id": "wJSYCxYOFkfU",
    "outputId": "e22f4a35-9158-4bf7-94a8-25bf3208e58a"
   },
   "outputs": [
    {
     "name": "stdout",
     "output_type": "stream",
     "text": [
      "Good\n"
     ]
    }
   ],
   "source": [
    "if x == 2:\n",
    "    print ('Okay')\n",
    "elif x == 3:\n",
    "    print ('Good')"
   ]
  },
  {
   "cell_type": "markdown",
   "metadata": {
    "id": "6Y2mlZJJFkfU"
   },
   "source": [
    "It is possible to set up several conditions using operator `and` and `or`."
   ]
  },
  {
   "cell_type": "code",
   "execution_count": null,
   "metadata": {
    "id": "Je38N3mBFkfU"
   },
   "outputs": [],
   "source": [
    "x = 1.5\n",
    "if x > 2 and x < 3:\n",
    "    print ('Okay')"
   ]
  },
  {
   "cell_type": "code",
   "execution_count": null,
   "metadata": {
    "id": "1HUB9OQ9FkfU",
    "outputId": "38a46f32-a3dc-4947-c662-dde3c15ae40a"
   },
   "outputs": [
    {
     "name": "stdout",
     "output_type": "stream",
     "text": [
      "Okay\n"
     ]
    }
   ],
   "source": [
    "if x < 2 or x < 3:\n",
    "    print ('Okay')"
   ]
  },
  {
   "cell_type": "code",
   "execution_count": null,
   "metadata": {
    "id": "EdyI0ccaFkfU",
    "outputId": "cdef2409-6e39-41ef-bf19-00eef05d030b"
   },
   "outputs": [
    {
     "name": "stdout",
     "output_type": "stream",
     "text": [
      "Ok\n"
     ]
    }
   ],
   "source": [
    "if 1 < x < 5:\n",
    "    print ('Ok')"
   ]
  },
  {
   "cell_type": "markdown",
   "metadata": {
    "id": "ji4PRxSJFkfU"
   },
   "source": [
    "### Loop `for`"
   ]
  },
  {
   "cell_type": "code",
   "execution_count": null,
   "metadata": {
    "id": "ARYQAwwmFkfU",
    "outputId": "52923922-3d6c-4d0f-cc1d-79979be38b93"
   },
   "outputs": [
    {
     "name": "stdout",
     "output_type": "stream",
     "text": [
      "1\n",
      "One more\n",
      "4\n",
      "One more\n",
      "9\n",
      "One more\n",
      "1\n",
      "One more\n",
      "And finally\n",
      "1\n"
     ]
    }
   ],
   "source": [
    "x = [1, 4, 9, 1]\n",
    "i = 1234\n",
    "\n",
    "for i in x:\n",
    "    print (i)\n",
    "    print (\"One more\")\n",
    "\n",
    "print (\"And finally\")\n",
    "print (i)"
   ]
  },
  {
   "cell_type": "markdown",
   "metadata": {
    "id": "xeEUzaTBFkfU"
   },
   "source": [
    "#### `break` and `continue`"
   ]
  },
  {
   "cell_type": "code",
   "execution_count": null,
   "metadata": {
    "id": "EHrswB24FkfU",
    "outputId": "96f0ea29-3e3e-452a-9744-6dd8a444e6de"
   },
   "outputs": [
    {
     "name": "stdout",
     "output_type": "stream",
     "text": [
      "1\n",
      "Ok\n",
      "2\n",
      "Ok\n",
      "3\n",
      "Ok\n",
      "Next\n",
      "Next\n",
      "Next\n",
      "Next\n",
      "Next\n",
      "Next\n"
     ]
    }
   ],
   "source": [
    "for i in range(1, 10):\n",
    "    if i**2 > 10:\n",
    "        print ('Next')\n",
    "        continue\n",
    "    else:\n",
    "        print (i)\n",
    "    print ('Ok')"
   ]
  },
  {
   "cell_type": "code",
   "execution_count": null,
   "metadata": {
    "id": "qD9RQ9bPFkfU",
    "outputId": "0decd4ca-2bc6-45d8-f4e5-0ca49a5c1f37"
   },
   "outputs": [
    {
     "name": "stdout",
     "output_type": "stream",
     "text": [
      "1\n",
      "Okay\n",
      "2\n",
      "Okay\n",
      "3\n",
      "Okay\n",
      "4\n",
      "Okay\n",
      "5\n",
      "Okay\n",
      "6\n",
      "Okay\n",
      "7\n",
      "Okay\n",
      "Stop\n",
      "Stopped\n"
     ]
    }
   ],
   "source": [
    "for i in range(1,10):\n",
    "    if i**2 > 50:\n",
    "        print (\"Stop\")\n",
    "        break\n",
    "    else:\n",
    "        print (i)\n",
    "    print (\"Okay\")\n",
    "print (\"Stopped\")"
   ]
  },
  {
   "cell_type": "markdown",
   "metadata": {
    "id": "WS8rxbSuFkfU"
   },
   "source": [
    "### Loop `while`"
   ]
  },
  {
   "cell_type": "code",
   "execution_count": null,
   "metadata": {
    "id": "RvX2AHCAFkfU",
    "outputId": "58314380-354d-4a9b-c37f-729bcaf27b87"
   },
   "outputs": [
    {
     "name": "stdout",
     "output_type": "stream",
     "text": [
      "1\n",
      "2\n",
      "3\n",
      "5\n",
      "8\n",
      "13\n",
      "21\n",
      "34\n",
      "55\n",
      "89\n",
      "144\n",
      "233\n",
      "377\n",
      "610\n",
      "987\n"
     ]
    }
   ],
   "source": [
    "a = 1\n",
    "b = 1\n",
    "while b < 1000:\n",
    "    c = a + b\n",
    "    a = b\n",
    "    b = c\n",
    "    print (a)"
   ]
  },
  {
   "cell_type": "code",
   "execution_count": null,
   "metadata": {
    "id": "xIkRe7LvFkfU",
    "outputId": "be39c8db-43a2-4332-ade8-644aaba4bf70"
   },
   "outputs": [
    {
     "name": "stdout",
     "output_type": "stream",
     "text": [
      "Hello\n"
     ]
    }
   ],
   "source": [
    "x=10\n",
    "while True:\n",
    "    print (\"Hello\")\n",
    "    x=x+2\n",
    "    if not (x<5):\n",
    "        break"
   ]
  },
  {
   "cell_type": "markdown",
   "metadata": {
    "id": "Hvq3l_BiFkfU"
   },
   "source": [
    "### Functions"
   ]
  },
  {
   "cell_type": "code",
   "execution_count": null,
   "metadata": {
    "id": "cxBrKN4CFkfV"
   },
   "outputs": [],
   "source": [
    "func = lambda x: x**2"
   ]
  },
  {
   "cell_type": "code",
   "execution_count": null,
   "metadata": {
    "id": "y-fnNz00FkfV"
   },
   "outputs": [],
   "source": [
    "# the same\n",
    "def my_function(x):\n",
    "    x += 1\n",
    "    return x**2"
   ]
  },
  {
   "cell_type": "code",
   "execution_count": null,
   "metadata": {
    "id": "LcIGdWJuFkfV",
    "outputId": "22e0b4d8-052a-424f-a445-05e51ba0c124"
   },
   "outputs": [
    {
     "data": {
      "text/plain": [
       "16"
      ]
     },
     "execution_count": 48,
     "metadata": {},
     "output_type": "execute_result"
    }
   ],
   "source": [
    "func(4)"
   ]
  },
  {
   "cell_type": "code",
   "execution_count": null,
   "metadata": {
    "id": "BgYitN7WFkfV",
    "outputId": "6ddc57b5-381c-47dd-a0ee-be63e29aad12"
   },
   "outputs": [
    {
     "data": {
      "text/plain": [
       "25"
      ]
     },
     "execution_count": 49,
     "metadata": {},
     "output_type": "execute_result"
    }
   ],
   "source": [
    "my_function(4)"
   ]
  },
  {
   "cell_type": "markdown",
   "metadata": {
    "id": "or3mMO7QFkfV"
   },
   "source": [
    "### Work with Files\n",
    "\n",
    "Lets create a simple text file."
   ]
  },
  {
   "cell_type": "code",
   "execution_count": null,
   "metadata": {
    "id": "Eg5AuDphFkfV"
   },
   "outputs": [],
   "source": [
    "fout = open('temp.txt', 'w')\n",
    "\n",
    "string = 'this is very interesting text\\n'\n",
    "fout.write(string)\n",
    "\n",
    "fout.close()"
   ]
  },
  {
   "cell_type": "code",
   "execution_count": null,
   "metadata": {
    "id": "DzeVLTvDFkfV",
    "outputId": "6911c068-7c0c-4ef8-aaf9-8f1339115e98"
   },
   "outputs": [
    {
     "name": "stdout",
     "output_type": "stream",
     "text": [
      "this is very interesting text\r\n"
     ]
    }
   ],
   "source": [
    "!head temp.txt"
   ]
  },
  {
   "cell_type": "markdown",
   "metadata": {
    "id": "TXzi6AEqFkfV"
   },
   "source": [
    "Now lets write several line into the file:"
   ]
  },
  {
   "cell_type": "code",
   "execution_count": null,
   "metadata": {
    "id": "PkIIffmOFkfV"
   },
   "outputs": [],
   "source": [
    "string_arr = ['Indeed, this text is very interesting,\\n', \n",
    "              'You should read it again', \n",
    "              ' and again']\n",
    "\n",
    "with open('temp.txt', 'w') as fout:\n",
    "    fout.writelines(string_arr)"
   ]
  },
  {
   "cell_type": "markdown",
   "metadata": {
    "id": "MDfI4RnXFkfV"
   },
   "source": [
    "And read the file:"
   ]
  },
  {
   "cell_type": "code",
   "execution_count": null,
   "metadata": {
    "id": "GFM2G0TIFkfV"
   },
   "outputs": [],
   "source": [
    "with open('temp.txt', 'r') as fin:\n",
    "    data = fin.read()"
   ]
  },
  {
   "cell_type": "code",
   "execution_count": null,
   "metadata": {
    "id": "75o93QITFkfV",
    "outputId": "9663d20c-9124-457c-9af8-624a8b81a841"
   },
   "outputs": [
    {
     "data": {
      "text/plain": [
       "'Indeed, this text is very interesting,\\nYou should read it again and again'"
      ]
     },
     "execution_count": 54,
     "metadata": {},
     "output_type": "execute_result"
    }
   ],
   "source": [
    "data"
   ]
  },
  {
   "cell_type": "code",
   "execution_count": null,
   "metadata": {
    "id": "KCsx8FktFkfV"
   },
   "outputs": [],
   "source": []
  }
 ],
 "metadata": {
  "anaconda-cloud": {},
  "colab": {
   "name": "seminar1-python-intro.ipynb",
   "provenance": []
  },
  "kernelspec": {
   "display_name": "Python 3 (ipykernel)",
   "language": "python",
   "name": "python3"
  },
  "language_info": {
   "codemirror_mode": {
    "name": "ipython",
    "version": 3
   },
   "file_extension": ".py",
   "mimetype": "text/x-python",
   "name": "python",
   "nbconvert_exporter": "python",
   "pygments_lexer": "ipython3",
   "version": "3.8.11"
  },
  "nav_menu": {},
  "toc": {
   "colors": {
    "hover_highlight": "#DAA520",
    "navigate_num": "#000000",
    "navigate_text": "#333333",
    "running_highlight": "#FF0000",
    "selected_highlight": "#FFD700",
    "sidebar_border": "#EEEEEE",
    "wrapper_background": "#FFFFFF"
   },
   "moveMenuLeft": true,
   "nav_menu": {
    "height": "440px",
    "width": "253px"
   },
   "navigate_menu": true,
   "number_sections": false,
   "sideBar": true,
   "threshold": 4,
   "toc_cell": false,
   "toc_section_display": "block",
   "toc_window_display": true,
   "widenNotebook": false
  }
 },
 "nbformat": 4,
 "nbformat_minor": 1
}
