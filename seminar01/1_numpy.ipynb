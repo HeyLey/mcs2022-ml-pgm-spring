{
  "cells": [
    {
      "cell_type": "markdown",
      "metadata": {
        "id": "CTcaw5mGOaTz"
      },
      "source": [
        "## NumPy - Numerical Python\n",
        "**библиотека для эффективных вычислений**\n",
        "\n",
        "Python -- высокоуровневый, интепретируемый и динамический язык. Списки в нём -- списки указателей на объекты (которые могут иметь любой тип), и при выполнении, например, \"векторных операций\" (с помощью циклов или list comprehensions) интерпретатор каждый раз проверяет, применим ли тип очередного элемента. \n",
        "\n",
        "\n",
        "*То, за счёт чего мы получает лаконичность кода и высокую скорость разработки, вынуждает наши программы работать медленнее.*\n",
        "\n",
        "\n",
        "В numpy -- \n",
        "1. array должны быть одного типа, поэтому нет дополнительных вычислительных затрат на проверки.\n",
        "2. Часть операций реализована на C.\n",
        "\n",
        "\n",
        "Отсюда прирост в производительности на некоторых распространённых задачах -- в сотни раз.\n",
        "\n",
        "\n",
        "*Неформальное правило: если вы используете numpy и если при этом в вашем коде есть циклы, скорее всего, вы делаете что-то не так.*"
      ]
    },
    {
      "cell_type": "code",
      "execution_count": null,
      "metadata": {
        "id": "3OOZa3jlg0kt"
      },
      "outputs": [],
      "source": [
        "import numpy as np"
      ]
    },
    {
      "cell_type": "markdown",
      "metadata": {
        "id": "9hwzZO5Cg0ku"
      },
      "source": [
        "## Arrays"
      ]
    },
    {
      "cell_type": "code",
      "execution_count": null,
      "metadata": {
        "colab": {
          "base_uri": "https://localhost:8080/"
        },
        "id": "DEr1wtrjOaT5",
        "outputId": "4c39fe96-943c-4b57-8100-df1a666d9971"
      },
      "outputs": [
        {
          "name": "stdout",
          "output_type": "stream",
          "text": [
            "[1, 222, 33, 5]\n",
            "<class 'numpy.ndarray'>\n",
            "[  1 222  33   5]\n",
            "int64\n"
          ]
        }
      ],
      "source": [
        "array = [1, 222, 33, 5]\n",
        "nparray = np.array(array)\n",
        "\n",
        "print(array)\n",
        "print(type(nparray))\n",
        "print(nparray)\n",
        "print(nparray.dtype)"
      ]
    },
    {
      "cell_type": "code",
      "execution_count": null,
      "metadata": {
        "colab": {
          "base_uri": "https://localhost:8080/"
        },
        "id": "GQHutt0kOaT7",
        "outputId": "c2357c38-ad59-4b21-e53d-de5487d9458c"
      },
      "outputs": [
        {
          "name": "stdout",
          "output_type": "stream",
          "text": [
            "[  1. 222.  33.   5.]\n",
            "float64\n"
          ]
        }
      ],
      "source": [
        "array = [1, 222, 33, 5.0]\n",
        "nparray = np.array(array)\n",
        "\n",
        "print(nparray)\n",
        "print(nparray.dtype)"
      ]
    },
    {
      "cell_type": "code",
      "execution_count": null,
      "metadata": {
        "colab": {
          "base_uri": "https://localhost:8080/"
        },
        "id": "WpnbmUXWPHju",
        "outputId": "f1db93b0-7ef3-4d70-c95f-cc19b369eaea"
      },
      "outputs": [
        {
          "name": "stdout",
          "output_type": "stream",
          "text": [
            "[1 222 33 '5.0' <__main__.M object at 0x108f40910>]\n",
            "object\n"
          ]
        }
      ],
      "source": [
        "class M(object):\n",
        "  def __init__(self):\n",
        "    pass\n",
        "\n",
        "array = [1, 222, 33, \"5.0\", M()]\n",
        "nparray = np.array(array)\n",
        "\n",
        "print(nparray)\n",
        "print(nparray.dtype)"
      ]
    },
    {
      "cell_type": "markdown",
      "metadata": {
        "id": "JV-Ci73Og0ky"
      },
      "source": [
        "### Create an array\n",
        "There are several ways to create numpy arrays. One of the ways is to create an array using python lists:"
      ]
    },
    {
      "cell_type": "code",
      "execution_count": null,
      "metadata": {
        "id": "2ar4n9Tcg0kz",
        "outputId": "654c3aa3-138a-4e98-ab92-a1121a863688"
      },
      "outputs": [
        {
          "data": {
            "text/plain": [
              "array(['1', '3', '4', '7', '12.0'], dtype='<U32')"
            ]
          },
          "execution_count": 5,
          "metadata": {},
          "output_type": "execute_result"
        }
      ],
      "source": [
        "# Create an array with different type elemtns\n",
        "arr = np.array([1,3,4,'7',12.0])\n",
        "arr"
      ]
    },
    {
      "cell_type": "markdown",
      "metadata": {
        "id": "fK2U_Z1tg0k0"
      },
      "source": [
        "Or using several special methods:"
      ]
    },
    {
      "cell_type": "code",
      "execution_count": null,
      "metadata": {
        "id": "Zr7UXio8g0k1",
        "outputId": "6e54517f-a826-41a9-e118-5b1818278b97"
      },
      "outputs": [
        {
          "data": {
            "text/plain": [
              "array([ 0,  1,  2,  3,  4,  5,  6,  7,  8,  9, 10, 11, 12, 13, 14, 15, 16,\n",
              "       17, 18, 19, 20, 21, 22, 23, 24, 25, 26, 27, 28, 29, 30, 31, 32, 33,\n",
              "       34, 35, 36, 37, 38, 39])"
            ]
          },
          "execution_count": 6,
          "metadata": {},
          "output_type": "execute_result"
        }
      ],
      "source": [
        "arr = np.arange(40)\n",
        "arr"
      ]
    },
    {
      "cell_type": "code",
      "execution_count": null,
      "metadata": {
        "id": "lwtoGXqRg0k1",
        "outputId": "96097994-710c-4b37-cb5b-892040aaa305"
      },
      "outputs": [
        {
          "data": {
            "text/plain": [
              "array([ 0. ,  0.7,  1.4,  2.1,  2.8,  3.5,  4.2,  4.9,  5.6,  6.3,  7. ,\n",
              "        7.7,  8.4,  9.1,  9.8, 10.5, 11.2, 11.9])"
            ]
          },
          "execution_count": 7,
          "metadata": {},
          "output_type": "execute_result"
        }
      ],
      "source": [
        "arr = np.arange(0, 12, 0.7) # difference between two next elements is 0.7\n",
        "arr"
      ]
    },
    {
      "cell_type": "code",
      "execution_count": null,
      "metadata": {
        "id": "S18lhN_Jg0k2",
        "outputId": "b6690429-e653-453b-b738-2cf8e4093891"
      },
      "outputs": [
        {
          "name": "stdout",
          "output_type": "stream",
          "text": [
            "[0.  0.2 0.4 0.6 0.8 1. ] [0.         0.16666667 0.33333333 0.5        0.66666667 0.83333333]\n"
          ]
        }
      ],
      "source": [
        "# from, to, parts number\n",
        "arr1 = np.linspace(0, 1, 6)\n",
        "arr2 = np.linspace(0, 1, 6, endpoint=False)\n",
        "print(arr1, arr2)"
      ]
    },
    {
      "cell_type": "code",
      "execution_count": null,
      "metadata": {
        "id": "csxLSZccg0k2",
        "outputId": "1bfa83c4-a312-441f-9685-2d5b1b3383f7"
      },
      "outputs": [
        {
          "data": {
            "text/plain": [
              "array([[0., 0., 0.],\n",
              "       [0., 0., 0.]])"
            ]
          },
          "execution_count": 9,
          "metadata": {},
          "output_type": "execute_result"
        }
      ],
      "source": [
        "arr = np.zeros((2, 3))\n",
        "arr"
      ]
    },
    {
      "cell_type": "code",
      "execution_count": null,
      "metadata": {
        "id": "b_JAUn3dg0k2",
        "outputId": "7dbdea2c-94c7-4811-e09c-5d4148b4adb0"
      },
      "outputs": [
        {
          "data": {
            "text/plain": [
              "array([[[1., 1., 1.],\n",
              "        [1., 1., 1.]],\n",
              "\n",
              "       [[1., 1., 1.],\n",
              "        [1., 1., 1.]]])"
            ]
          },
          "execution_count": 10,
          "metadata": {},
          "output_type": "execute_result"
        }
      ],
      "source": [
        "arr = np.ones((2, 2, 3))\n",
        "arr"
      ]
    },
    {
      "cell_type": "code",
      "execution_count": null,
      "metadata": {
        "id": "eXt7Ka8ig0k3",
        "outputId": "877e1357-36e1-45a0-9cdc-6d401c60593d"
      },
      "outputs": [
        {
          "data": {
            "text/plain": [
              "array([[1., 0., 0., 0.],\n",
              "       [0., 1., 0., 0.],\n",
              "       [0., 0., 1., 0.],\n",
              "       [0., 0., 0., 1.]])"
            ]
          },
          "execution_count": 11,
          "metadata": {},
          "output_type": "execute_result"
        }
      ],
      "source": [
        "# Input: diag matrix length\n",
        "arr = np.eye(4)\n",
        "arr"
      ]
    },
    {
      "cell_type": "code",
      "execution_count": null,
      "metadata": {
        "id": "AhXh6i_9g0k3",
        "outputId": "a5afefcf-398f-49ab-d7c1-d363b5fa65e4"
      },
      "outputs": [
        {
          "data": {
            "text/plain": [
              "array([[0, 0, 0, 0, 0],\n",
              "       [0, 1, 0, 0, 0],\n",
              "       [0, 0, 2, 0, 0],\n",
              "       [0, 0, 0, 3, 0],\n",
              "       [0, 0, 0, 0, 4]])"
            ]
          },
          "execution_count": 12,
          "metadata": {},
          "output_type": "execute_result"
        }
      ],
      "source": [
        "arr = np.diag(np.arange(5))\n",
        "arr"
      ]
    },
    {
      "cell_type": "code",
      "execution_count": null,
      "metadata": {
        "id": "6ISuKZqGg0k4",
        "outputId": "1994ac22-a51e-4214-d2bc-5f3189120578"
      },
      "outputs": [
        {
          "data": {
            "text/plain": [
              "array([[1., 0., 0.],\n",
              "       [0., 1., 0.],\n",
              "       [0., 0., 1.]])"
            ]
          },
          "execution_count": 13,
          "metadata": {},
          "output_type": "execute_result"
        }
      ],
      "source": [
        "arr = np.diag(np.ones(3))\n",
        "arr"
      ]
    },
    {
      "cell_type": "code",
      "execution_count": null,
      "metadata": {
        "id": "b6UDiFfyg0k4",
        "outputId": "f6e361f7-91d3-4471-d5ff-2360f79009a9"
      },
      "outputs": [
        {
          "data": {
            "text/plain": [
              "array([0.40768703, 0.05536604, 0.78853488, 0.28730518])"
            ]
          },
          "execution_count": 14,
          "metadata": {},
          "output_type": "execute_result"
        }
      ],
      "source": [
        "# Set seed\n",
        "np.random.seed(40)\n",
        "\n",
        "# generate uniform distribution\n",
        "a = np.random.rand(4)  \n",
        "a"
      ]
    },
    {
      "cell_type": "code",
      "execution_count": null,
      "metadata": {
        "id": "ASmnTYlsg0k4",
        "outputId": "ef7cf4f4-46ef-450d-84dd-8c43fa12b9e5"
      },
      "outputs": [
        {
          "data": {
            "text/plain": [
              "array([-1.84440103, -0.46700242,  2.29249034,  0.48881005,  0.71026699,\n",
              "        1.05553444,  0.0540731 ,  0.25795342,  0.58828165,  0.88524424,\n",
              "       -1.01700702, -0.13369303, -0.4381855 ,  0.49344349, -0.19900912,\n",
              "       -1.27498361,  0.29349415,  0.10895031,  0.03172679,  1.27263986,\n",
              "        1.0714479 ,  0.41581801,  1.55067923, -0.31137892, -1.37923991,\n",
              "        1.37140879,  0.02771165, -0.32039958, -0.84617041, -0.43342892,\n",
              "       -1.3370345 ,  0.20917217, -1.4243213 , -0.55347685,  0.07479864,\n",
              "       -0.50561983,  1.05240778,  0.97140041,  0.07683154, -0.43500078,\n",
              "        0.5529944 ,  0.26671631,  0.00898941,  0.64110275, -0.17770716,\n",
              "        0.69627761, -1.1887251 , -0.33169686,  0.03007614, -1.10791517])"
            ]
          },
          "execution_count": 15,
          "metadata": {},
          "output_type": "execute_result"
        }
      ],
      "source": [
        "#  gaussian (normal) distribution\n",
        "b = np.random.randn(50)\n",
        "b"
      ]
    },
    {
      "cell_type": "markdown",
      "metadata": {
        "id": "ElsNE4dCg0k5"
      },
      "source": [
        "### Array Properties"
      ]
    },
    {
      "cell_type": "code",
      "execution_count": null,
      "metadata": {
        "colab": {
          "base_uri": "https://localhost:8080/"
        },
        "id": "gMVm2Y_gg0k5",
        "outputId": "176d2e87-c96f-410e-fd5b-0296ffffbdc5"
      },
      "outputs": [
        {
          "output_type": "execute_result",
          "data": {
            "text/plain": [
              "array([ 0,  1,  2,  3,  4,  5,  6,  7,  8,  9, 10, 11, 12, 13, 14, 15, 16,\n",
              "       17, 18, 19, 20, 21, 22, 23, 24, 25, 26, 27, 28, 29, 30, 31, 32, 33,\n",
              "       34, 35, 36, 37, 38, 39])"
            ]
          },
          "metadata": {},
          "execution_count": 3
        }
      ],
      "source": [
        "# Create 2D array\n",
        "A = np.arange(40)\n",
        "A\n",
        "\n",
        "# также можно задавать многомерные массивы, передав в список списков [списков [списков [...]]"
      ]
    },
    {
      "cell_type": "code",
      "source": [
        "A = A.reshape(2, 2, 10)\n",
        "print(A)"
      ],
      "metadata": {
        "colab": {
          "base_uri": "https://localhost:8080/"
        },
        "id": "e5XEco_8lTrm",
        "outputId": "2cdc68f9-bce5-4698-b6fe-bed5955ab386"
      },
      "execution_count": null,
      "outputs": [
        {
          "output_type": "stream",
          "name": "stdout",
          "text": [
            "[[[ 0  1  2  3  4  5  6  7  8  9]\n",
            "  [10 11 12 13 14 15 16 17 18 19]]\n",
            "\n",
            " [[20 21 22 23 24 25 26 27 28 29]\n",
            "  [30 31 32 33 34 35 36 37 38 39]]]\n"
          ]
        }
      ]
    },
    {
      "cell_type": "code",
      "execution_count": null,
      "metadata": {
        "id": "Fezlcjs5g0k5",
        "outputId": "51b0272e-b10e-4c00-d87a-65103af1efb4"
      },
      "outputs": [
        {
          "name": "stdout",
          "output_type": "stream",
          "text": [
            "<class 'numpy.ndarray'>\n",
            "[[[ 0  1  2  3  4  5  6  7  8  9]\n",
            "  [10 11 12 13 14 15 16 17 18 19]]\n",
            "\n",
            " [[20 21 22 23 24 25 26 27 28 29]\n",
            "  [30 31 32 33 34 35 36 37 38 39]]]\n",
            "[[[ 0.  1.  2.  3.  4.  5.  6.  7.  8.  9.]\n",
            "  [10. 11. 12. 13. 14. 15. 16. 17. 18. 19.]]\n",
            "\n",
            " [[20. 21. 22. 23. 24. 25. 26. 27. 28. 29.]\n",
            "  [30. 31. 32. 33. 34. 35. 36. 37. 38. 39.]]]\n"
          ]
        }
      ],
      "source": [
        "print(type(A))\n",
        "print(A)\n",
        "print(A.astype(np.float32))"
      ]
    },
    {
      "cell_type": "code",
      "execution_count": null,
      "metadata": {
        "id": "kSUHv5j7g0k6",
        "outputId": "21c00c99-547c-455e-869e-f26ad3c90834"
      },
      "outputs": [
        {
          "name": "stdout",
          "output_type": "stream",
          "text": [
            "float32\n"
          ]
        }
      ],
      "source": [
        "A = A.astype(np.float32)\n",
        "print(A.dtype)"
      ]
    },
    {
      "cell_type": "code",
      "execution_count": null,
      "metadata": {
        "id": "ed5L0gs4g0k6",
        "outputId": "80103558-8216-49d2-c3c0-04b558b95924"
      },
      "outputs": [
        {
          "name": "stdout",
          "output_type": "stream",
          "text": [
            "(2, 2, 10)\n",
            "2\n"
          ]
        }
      ],
      "source": [
        "# rows -- axis=0\n",
        "# columns -- axis=1\n",
        "print(A.shape) # print number of rows and columns\n",
        "print(len(A))"
      ]
    },
    {
      "cell_type": "code",
      "execution_count": null,
      "metadata": {
        "id": "1hfGcrM6g0k6",
        "outputId": "59fe7a13-dd37-42a2-c814-05498cda7b5a"
      },
      "outputs": [
        {
          "name": "stdout",
          "output_type": "stream",
          "text": [
            "40\n",
            "3\n"
          ]
        }
      ],
      "source": [
        "print (A.size)  # total number of elements\n",
        "print (A.ndim)  # number of dimensions"
      ]
    },
    {
      "cell_type": "markdown",
      "metadata": {
        "id": "boe_vVn0g0k6"
      },
      "source": [
        "### Vector Operations, Array Indexing and Functions with Arrays"
      ]
    },
    {
      "cell_type": "markdown",
      "metadata": {
        "id": "b_50oQz9OaT_"
      },
      "source": [
        "**Numpy-way strategies**\n",
        "1. **Use numpy ufuncs**\n",
        "2. **Use numpy aggregate functions**\n",
        "3. **Slicing, masking, fancy indexing**\n",
        "4. ***Broadcasting**"
      ]
    },
    {
      "cell_type": "markdown",
      "metadata": {
        "id": "b_Nc3tN8g0k6"
      },
      "source": [
        "### ufuncs"
      ]
    },
    {
      "cell_type": "markdown",
      "metadata": {
        "id": "O4wNkTeROaT_"
      },
      "source": [
        "A **universal function** (or ufunc for short) is a function that operates on ndarrays in an element-by-element fashion, supporting array broadcasting, type casting, and several other standard features. That is, a ufunc is a “vectorized” wrapper for a function that takes a fixed number of specific inputs and produces a fixed number of specific outputs."
      ]
    },
    {
      "cell_type": "code",
      "execution_count": null,
      "metadata": {
        "colab": {
          "base_uri": "https://localhost:8080/"
        },
        "id": "YOPEnP7-OaT_",
        "outputId": "bbc0c751-d1b6-410b-fbba-8c31ef59ca08"
      },
      "outputs": [
        {
          "name": "stdout",
          "output_type": "stream",
          "text": [
            "[[0 1 2]\n",
            " [3 4 5]] (2, 3)\n"
          ]
        }
      ],
      "source": [
        "x = np.arange(6).reshape((2, 3))\n",
        "print(x, x.shape)"
      ]
    },
    {
      "cell_type": "code",
      "execution_count": null,
      "metadata": {
        "id": "Xv7Ma3jsg0k7",
        "outputId": "2346f0d4-eb3f-4699-ea67-472932223272"
      },
      "outputs": [
        {
          "name": "stdout",
          "output_type": "stream",
          "text": [
            "[[2 3 4]\n",
            " [5 6 7]]\n",
            "[[0.  0.5 1. ]\n",
            " [1.5 2.  2.5]]\n",
            "[[ 0  2  4]\n",
            " [ 6  8 10]]\n",
            "[[ 0  1  4]\n",
            " [ 9 16 25]]\n"
          ]
        }
      ],
      "source": [
        "print(x + 2)\n",
        "print(x / 2)\n",
        "print(x * 2)\n",
        "print(x ** 2) # element-wise "
      ]
    },
    {
      "cell_type": "code",
      "execution_count": null,
      "metadata": {
        "id": "aJV-FPy9OaUA",
        "outputId": "dc682ba3-b77b-4d9e-a0f8-6b860cf1b2f0"
      },
      "outputs": [
        {
          "name": "stdout",
          "output_type": "stream",
          "text": [
            "[[ 0  2  4]\n",
            " [ 6  8 10]]\n",
            "[[0 0 0]\n",
            " [0 0 0]]\n",
            "[[ 0  1  4]\n",
            " [ 9 16 25]]\n",
            "[[ 5 14]\n",
            " [14 50]]\n",
            "[[ 9 12 15]\n",
            " [12 17 22]\n",
            " [15 22 29]]\n"
          ]
        }
      ],
      "source": [
        "print(x + x)\n",
        "print(x - x)\n",
        "print(x * x) # element-wise\n",
        "print(x.dot(x.T)) # multiplication\n",
        "print(x.T.dot(x)) # multiplication"
      ]
    },
    {
      "cell_type": "code",
      "execution_count": null,
      "metadata": {
        "id": "wjdOsiwDg0k7",
        "outputId": "325904c7-6a68-4c6c-a106-929939819eec"
      },
      "outputs": [
        {
          "name": "stdout",
          "output_type": "stream",
          "text": [
            "[[ True  True  True]\n",
            " [ True  True  True]]\n"
          ]
        }
      ],
      "source": [
        "print(x * x == x ** 2)"
      ]
    },
    {
      "cell_type": "markdown",
      "metadata": {
        "id": "38QBwkkmg0k7"
      },
      "source": [
        "Numpy has a lot of math functions."
      ]
    },
    {
      "cell_type": "code",
      "execution_count": null,
      "metadata": {
        "id": "DopTX7Ujg0k7",
        "outputId": "58c339e8-aba1-4463-e689-e00fdf3ffd48"
      },
      "outputs": [
        {
          "data": {
            "text/plain": [
              "array([[2.71828183, 1.        , 1.        ],\n",
              "       [1.        , 2.71828183, 1.        ],\n",
              "       [1.        , 1.        , 2.71828183]])"
            ]
          },
          "execution_count": 25,
          "metadata": {},
          "output_type": "execute_result"
        }
      ],
      "source": [
        "np.exp(arr)"
      ]
    },
    {
      "cell_type": "code",
      "execution_count": null,
      "metadata": {
        "id": "HnluXxSNg0k8",
        "outputId": "ca050caa-d933-4ae7-a1aa-3ad2ae90c98a"
      },
      "outputs": [
        {
          "data": {
            "text/plain": [
              "array([[1., 0., 0.],\n",
              "       [0., 1., 0.],\n",
              "       [0., 0., 1.]])"
            ]
          },
          "execution_count": 26,
          "metadata": {},
          "output_type": "execute_result"
        }
      ],
      "source": [
        "np.sqrt(arr)"
      ]
    },
    {
      "cell_type": "code",
      "execution_count": null,
      "metadata": {
        "id": "PGDCplryOaUB",
        "colab": {
          "base_uri": "https://localhost:8080/"
        },
        "outputId": "15bcd5cf-0d43-468f-ad4a-c31437c505f8"
      },
      "outputs": [
        {
          "output_type": "stream",
          "name": "stdout",
          "text": [
            "100 loops, best of 5: 4.32 ms per loop\n"
          ]
        }
      ],
      "source": [
        "# let's make sure numpy's ufuncs are cool\n",
        "arr = list(range(0, 60000))\n",
        "%timeit [v + 5 for v in arr]"
      ]
    },
    {
      "cell_type": "code",
      "source": [
        "arr = np.arange(60000)\n",
        "%timeit arr + 5"
      ],
      "metadata": {
        "colab": {
          "base_uri": "https://localhost:8080/"
        },
        "id": "4yQVNfSsm8Gg",
        "outputId": "f716b897-3cec-4e3c-a8e3-4f8a2edb5df2"
      },
      "execution_count": null,
      "outputs": [
        {
          "output_type": "stream",
          "name": "stdout",
          "text": [
            "The slowest run took 4.14 times longer than the fastest. This could mean that an intermediate result is being cached.\n",
            "10000 loops, best of 5: 73.5 µs per loop\n"
          ]
        }
      ]
    },
    {
      "cell_type": "markdown",
      "metadata": {
        "id": "80-o8Ehxg0k8"
      },
      "source": [
        "#### Concatenation"
      ]
    },
    {
      "cell_type": "code",
      "execution_count": null,
      "metadata": {
        "colab": {
          "base_uri": "https://localhost:8080/"
        },
        "id": "NRcaaWMog0k8",
        "outputId": "5b335ebe-d572-4e34-cb4d-da2bec7c7e63"
      },
      "outputs": [
        {
          "output_type": "stream",
          "name": "stdout",
          "text": [
            "[[1. 0. 0.]\n",
            " [0. 1. 0.]\n",
            " [0. 0. 1.]]\n"
          ]
        }
      ],
      "source": [
        "A = np.eye(3)\n",
        "print(A)"
      ]
    },
    {
      "cell_type": "code",
      "execution_count": null,
      "metadata": {
        "colab": {
          "base_uri": "https://localhost:8080/"
        },
        "id": "cNdgsNpsg0k8",
        "outputId": "f3d48e50-e051-474e-f549-0b31deece36c"
      },
      "outputs": [
        {
          "output_type": "stream",
          "name": "stdout",
          "text": [
            "[[1. 1. 1.]\n",
            " [1. 1. 1.]\n",
            " [1. 1. 1.]]\n"
          ]
        }
      ],
      "source": [
        "B = np.ones((3, 3))\n",
        "print(B)"
      ]
    },
    {
      "cell_type": "code",
      "execution_count": null,
      "metadata": {
        "colab": {
          "base_uri": "https://localhost:8080/"
        },
        "id": "dLWQ70_kg0k8",
        "outputId": "e6072a7c-3e99-4944-d31c-983de9e871be"
      },
      "outputs": [
        {
          "output_type": "execute_result",
          "data": {
            "text/plain": [
              "array([[1., 0., 0., 1., 1., 1.],\n",
              "       [0., 1., 0., 1., 1., 1.],\n",
              "       [0., 0., 1., 1., 1., 1.]])"
            ]
          },
          "metadata": {},
          "execution_count": 14
        }
      ],
      "source": [
        "np.hstack([A, B]) "
      ]
    },
    {
      "cell_type": "code",
      "execution_count": null,
      "metadata": {
        "colab": {
          "base_uri": "https://localhost:8080/"
        },
        "id": "rKeqFcj-g0k8",
        "outputId": "65ddc957-baf5-4adb-b568-1f7873e35ede"
      },
      "outputs": [
        {
          "output_type": "execute_result",
          "data": {
            "text/plain": [
              "array([[1., 0., 0.],\n",
              "       [0., 1., 0.],\n",
              "       [0., 0., 1.],\n",
              "       [1., 1., 1.],\n",
              "       [1., 1., 1.],\n",
              "       [1., 1., 1.]])"
            ]
          },
          "metadata": {},
          "execution_count": 15
        }
      ],
      "source": [
        "np.vstack([A, B])"
      ]
    },
    {
      "cell_type": "code",
      "execution_count": null,
      "metadata": {
        "colab": {
          "base_uri": "https://localhost:8080/"
        },
        "id": "gNG8wspmg0k8",
        "outputId": "4cb51bae-a2aa-41be-86c4-c86e0035b9ba"
      },
      "outputs": [
        {
          "output_type": "execute_result",
          "data": {
            "text/plain": [
              "array([[1., 1., 1.],\n",
              "       [1., 1., 1.],\n",
              "       [1., 1., 1.]])"
            ]
          },
          "metadata": {},
          "execution_count": 16
        }
      ],
      "source": [
        "# Matrix multiplication (scalar product)\n",
        "A.dot(B)"
      ]
    },
    {
      "cell_type": "markdown",
      "metadata": {
        "id": "KLmGM053g0k9"
      },
      "source": [
        "### Array Aggregation\n",
        "Arrays can be aggregated. It is possible to calculate mean, median, min, max, sum etc."
      ]
    },
    {
      "cell_type": "code",
      "execution_count": null,
      "metadata": {
        "colab": {
          "base_uri": "https://localhost:8080/",
          "height": 354
        },
        "id": "ya7oeq3COaUC",
        "outputId": "3fe8aefe-f3ed-4f71-cd4b-bc9ceb5b460a"
      },
      "outputs": [
        {
          "name": "stdout",
          "output_type": "stream",
          "text": [
            "[[ 0  1  2  3  4  5]\n",
            " [ 6  7  8  9 10 11]\n",
            " [12 13 14 15 16 17]\n",
            " [18 19 20 21 22 23]\n",
            " [24 25 26 27 28 29]\n",
            " [30 31 32 33 34 35]\n",
            " [36 37 38 39 40 41]\n",
            " [42 43 44 45 46 47]\n",
            " [48 49 50 51 52 53]\n",
            " [54 55 56 57 58 59]]\n"
          ]
        }
      ],
      "source": [
        "x = np.arange(60).reshape((10, 6))\n",
        "print(x)"
      ]
    },
    {
      "cell_type": "code",
      "execution_count": null,
      "metadata": {
        "id": "Q9gIhhXXg0k9",
        "outputId": "f38bc03e-38c1-40d0-b1ed-b50e81b2ea64"
      },
      "outputs": [
        {
          "name": "stdout",
          "output_type": "stream",
          "text": [
            "29.5\n"
          ]
        }
      ],
      "source": [
        "print(np.mean(x))"
      ]
    },
    {
      "cell_type": "code",
      "execution_count": null,
      "metadata": {
        "id": "xowmwYR4g0k9",
        "outputId": "b24399ee-0757-4954-cd6f-f4ad4c7ec0ec"
      },
      "outputs": [
        {
          "name": "stdout",
          "output_type": "stream",
          "text": [
            "[27. 28. 29. 30. 31. 32.]\n",
            "[ 2.5  8.5 14.5 20.5 26.5 32.5 38.5 44.5 50.5 56.5]\n"
          ]
        }
      ],
      "source": [
        "print(np.mean(x, axis=0))\n",
        "print(np.mean(x, axis=1))"
      ]
    },
    {
      "cell_type": "code",
      "execution_count": null,
      "metadata": {
        "id": "tX8jWfHhg0k9",
        "outputId": "59daf353-d5ba-463a-ac37-1d431ae6a20b"
      },
      "outputs": [
        {
          "name": "stdout",
          "output_type": "stream",
          "text": [
            "17.318102282486574\n"
          ]
        }
      ],
      "source": [
        "print(np.std(x))"
      ]
    },
    {
      "cell_type": "code",
      "execution_count": null,
      "metadata": {
        "id": "sV1OVTmzg0k9",
        "outputId": "6291c6a9-da82-485b-ce9e-82328b3817c4"
      },
      "outputs": [
        {
          "name": "stdout",
          "output_type": "stream",
          "text": [
            "[17.23368794 17.23368794 17.23368794 17.23368794 17.23368794 17.23368794]\n"
          ]
        }
      ],
      "source": [
        "print(np.std(x, axis=0))"
      ]
    },
    {
      "cell_type": "code",
      "execution_count": null,
      "metadata": {
        "id": "DvrSkjkZg0k9",
        "outputId": "d976bac3-209d-4223-a5f1-11a2a3af34de"
      },
      "outputs": [
        {
          "name": "stdout",
          "output_type": "stream",
          "text": [
            "[1.70782513 1.70782513 1.70782513 1.70782513 1.70782513 1.70782513\n",
            " 1.70782513 1.70782513 1.70782513 1.70782513]\n"
          ]
        }
      ],
      "source": [
        "print(np.std(x, axis=1))"
      ]
    },
    {
      "cell_type": "code",
      "execution_count": null,
      "metadata": {
        "id": "PcnkLSSlOaUD",
        "outputId": "e281d483-5f60-4f75-a3ae-8313ca94fd52"
      },
      "outputs": [
        {
          "name": "stdout",
          "output_type": "stream",
          "text": [
            "156 µs ± 425 ns per loop (mean ± std. dev. of 7 runs, 10000 loops each)\n",
            "24.1 µs ± 32.3 ns per loop (mean ± std. dev. of 7 runs, 10000 loops each)\n"
          ]
        }
      ],
      "source": [
        "# let's make sure numpy's aggr funcs are blazing fast\n",
        "\n",
        "arr = list(range(0, 60000))\n",
        "%timeit sum(arr)\n",
        "\n",
        "arr = np.arange(60000)\n",
        "%timeit np.sum(arr)"
      ]
    },
    {
      "cell_type": "markdown",
      "metadata": {
        "id": "I-cMD8Wng0k-"
      },
      "source": [
        "### Array Indexing & slicing"
      ]
    },
    {
      "cell_type": "code",
      "execution_count": null,
      "metadata": {
        "id": "r3MfIFMXg0k-",
        "outputId": "85c258e7-6679-4ac1-9296-be6ddc352498"
      },
      "outputs": [
        {
          "data": {
            "text/plain": [
              "array([ 0,  3,  6,  9, 12, 15, 18])"
            ]
          },
          "execution_count": 44,
          "metadata": {},
          "output_type": "execute_result"
        }
      ],
      "source": [
        "arr = np.arange(0, 19, 3)\n",
        "arr"
      ]
    },
    {
      "cell_type": "code",
      "execution_count": null,
      "metadata": {
        "id": "RxsVH7Lkg0k-",
        "outputId": "fa9abd15-d624-4c3c-f109-c40dcac5516c"
      },
      "outputs": [
        {
          "data": {
            "text/plain": [
              "9"
            ]
          },
          "execution_count": 45,
          "metadata": {},
          "output_type": "execute_result"
        }
      ],
      "source": [
        "arr[3]"
      ]
    },
    {
      "cell_type": "code",
      "execution_count": null,
      "metadata": {
        "id": "whsxwh-4g0k-",
        "outputId": "3d71a739-6f5f-4709-bcb3-f8415818ecb1"
      },
      "outputs": [
        {
          "data": {
            "text/plain": [
              "array([3, 9, 6])"
            ]
          },
          "execution_count": 46,
          "metadata": {},
          "output_type": "execute_result"
        }
      ],
      "source": [
        "# Select elements with indices 1, 3 and 2 \n",
        "arr[[1,3,2]]"
      ]
    },
    {
      "cell_type": "code",
      "execution_count": null,
      "metadata": {
        "id": "UzHZaHMag0k-",
        "outputId": "fe1ba437-f308-43f2-c07b-f95f1e87157e"
      },
      "outputs": [
        {
          "data": {
            "text/plain": [
              "array([0, 3, 6])"
            ]
          },
          "execution_count": 47,
          "metadata": {},
          "output_type": "execute_result"
        }
      ],
      "source": [
        "# all elements with index < 3\n",
        "arr[:3] "
      ]
    },
    {
      "cell_type": "markdown",
      "metadata": {
        "id": "hmNEZCbAg0k-"
      },
      "source": [
        "Multidimensional arrays"
      ]
    },
    {
      "cell_type": "code",
      "execution_count": null,
      "metadata": {
        "id": "ItHVBfAUg0k-",
        "outputId": "999a649d-3d9f-494f-863f-7313f46f26cd"
      },
      "outputs": [
        {
          "data": {
            "text/plain": [
              "array([[  0,   1,   2,   3,   4,   5,   6,   7,   8,   9],\n",
              "       [ 10,  11,  12,  13,  14,  15,  16,  17,  18,  19],\n",
              "       [ 20,  21,  22,  23,  24,  25,  26,  27,  28,  29],\n",
              "       [ 30,  31,  32,  33,  34,  35,  36,  37,  38,  39],\n",
              "       [ 40,  41,  42,  43,  44,  45,  46,  47,  48,  49],\n",
              "       [ 50,  51,  52,  53,  54,  55,  56,  57,  58,  59],\n",
              "       [ 60,  61,  62,  63,  64,  65,  66,  67,  68,  69],\n",
              "       [ 70,  71,  72,  73,  74,  75,  76,  77,  78,  79],\n",
              "       [ 80,  81,  82,  83,  84,  85,  86,  87,  88,  89],\n",
              "       [ 90,  91,  92,  93,  94,  95,  96,  97,  98,  99],\n",
              "       [100, 101, 102, 103, 104, 105, 106, 107, 108, 109],\n",
              "       [110, 111, 112, 113, 114, 115, 116, 117, 118, 119]])"
            ]
          },
          "execution_count": 48,
          "metadata": {},
          "output_type": "execute_result"
        }
      ],
      "source": [
        "arr = np.arange(120).reshape(12, 10)\n",
        "arr"
      ]
    },
    {
      "cell_type": "code",
      "execution_count": null,
      "metadata": {
        "id": "DnN-GLVzg0k-",
        "outputId": "7374e129-ab7b-409b-dc3b-bf2f0fab554b"
      },
      "outputs": [
        {
          "data": {
            "text/plain": [
              "array([0, 1, 2, 3, 4, 5, 6, 7, 8, 9])"
            ]
          },
          "execution_count": 49,
          "metadata": {},
          "output_type": "execute_result"
        }
      ],
      "source": [
        "arr[0]"
      ]
    },
    {
      "cell_type": "code",
      "execution_count": null,
      "metadata": {
        "id": "o2qSZj3Yg0k-",
        "outputId": "79bcdb5c-9dff-47ef-e095-21ccee61b648"
      },
      "outputs": [
        {
          "data": {
            "text/plain": [
              "1"
            ]
          },
          "execution_count": 50,
          "metadata": {},
          "output_type": "execute_result"
        }
      ],
      "source": [
        "arr[0, 1]"
      ]
    },
    {
      "cell_type": "code",
      "execution_count": null,
      "metadata": {
        "id": "_wQdH1Nig0k-",
        "outputId": "3c40a724-dfb6-47d7-f9f6-34c67f95a5ae"
      },
      "outputs": [
        {
          "name": "stdout",
          "output_type": "stream",
          "text": [
            "[[ 0  1  2  3  4  5  6  7  8  9]\n",
            " [10 11 12 13 14 15 16 17 18 19]]\n"
          ]
        }
      ],
      "source": [
        "print(arr[:2, :])"
      ]
    },
    {
      "cell_type": "code",
      "execution_count": null,
      "metadata": {
        "id": "MckCf_KNg0k_",
        "outputId": "7a56a6a1-477d-4f50-e93c-61f4a37dc2b9"
      },
      "outputs": [
        {
          "name": "stdout",
          "output_type": "stream",
          "text": [
            "[[ 0]\n",
            " [30]]\n"
          ]
        }
      ],
      "source": [
        "print(arr[[0, 3], :1])"
      ]
    },
    {
      "cell_type": "code",
      "execution_count": null,
      "metadata": {
        "id": "WhQzVq33g0k_",
        "outputId": "6d86307f-e4e2-40c5-ef46-ffce34440912"
      },
      "outputs": [
        {
          "name": "stdout",
          "output_type": "stream",
          "text": [
            "[[ 0]\n",
            " [30]]\n"
          ]
        }
      ],
      "source": [
        "print(arr[np.array([0, 3]), :1])"
      ]
    },
    {
      "cell_type": "markdown",
      "metadata": {
        "id": "-PCv9VX4g0k_"
      },
      "source": [
        "### Masking"
      ]
    },
    {
      "cell_type": "code",
      "execution_count": null,
      "metadata": {
        "id": "fRdGN2pRg0k_"
      },
      "outputs": [],
      "source": [
        "\"\"\"\n",
        "У маскинга свой небольшой язык со своеобразным синтаксисом. \n",
        "\n",
        "Например,\n",
        "not = ~\n",
        "and = &\n",
        "or = |\n",
        ">, <, >=, <=\n",
        "\n",
        "Скобки для отделения одних условных выражений от других -- не лишние никогда (в питоне, как мы помним, всё не так).\n",
        "\"\"\"\n",
        "pass"
      ]
    },
    {
      "cell_type": "code",
      "execution_count": null,
      "metadata": {
        "id": "joyCScEUOc8s"
      },
      "outputs": [],
      "source": [
        "x = np.random.randn(100)"
      ]
    },
    {
      "cell_type": "code",
      "execution_count": null,
      "metadata": {
        "id": "DAouzjKPg0k_",
        "outputId": "e92511fc-5b0d-4baa-cd81-35864c680f55"
      },
      "outputs": [
        {
          "data": {
            "text/plain": [
              "array([ 11,  12,  13,  14,  15,  16,  17,  18,  19,  20,  21,  22,  23,\n",
              "        24,  25,  26,  27,  28,  29,  30,  31,  32,  33,  34,  35,  36,\n",
              "        37,  38,  39,  40,  41,  42,  43,  44,  45,  46,  47,  48,  49,\n",
              "        50,  51,  52,  53,  54,  55,  56,  57,  58,  59,  60,  61,  62,\n",
              "        63,  64,  65,  66,  67,  68,  69,  70,  71,  72,  73,  74,  75,\n",
              "        76,  77,  78,  79,  80,  81,  82,  83,  84,  85,  86,  87,  88,\n",
              "        89,  90,  91,  92,  93,  94,  95,  96,  97,  98,  99, 100, 101,\n",
              "       102, 103, 104, 105, 106, 107, 108, 109, 110, 111, 112, 113, 114,\n",
              "       115, 116, 117, 118, 119])"
            ]
          },
          "execution_count": 57,
          "metadata": {},
          "output_type": "execute_result"
        }
      ],
      "source": [
        "# Select elements that are > 10\n",
        "arr[arr > 10]"
      ]
    },
    {
      "cell_type": "code",
      "execution_count": null,
      "metadata": {
        "id": "6NhGMMjgg0k_",
        "outputId": "723cde6c-ed7d-4b2e-c7d7-2d965af1959b"
      },
      "outputs": [
        {
          "data": {
            "text/plain": [
              "array([[30, 31, 32, 33, 34, 35, 36, 37, 38, 39],\n",
              "       [40, 41, 42, 43, 44, 45, 46, 47, 48, 49]])"
            ]
          },
          "execution_count": 58,
          "metadata": {},
          "output_type": "execute_result"
        }
      ],
      "source": [
        "arr[3:5] # all elements with index >= 3 and < 5"
      ]
    },
    {
      "cell_type": "code",
      "execution_count": null,
      "metadata": {
        "id": "_eok3yAcg0k_",
        "outputId": "ff07f08e-bb4f-40de-bf1c-78b37f8cac96"
      },
      "outputs": [
        {
          "name": "stdout",
          "output_type": "stream",
          "text": [
            "(52,)\n"
          ]
        }
      ],
      "source": [
        "print(x[x > np.mean(x)].shape)"
      ]
    },
    {
      "cell_type": "code",
      "execution_count": null,
      "metadata": {
        "id": "uuQEbBwOOgfO",
        "outputId": "6f590784-0547-469b-8051-af7929d57578"
      },
      "outputs": [
        {
          "name": "stdout",
          "output_type": "stream",
          "text": [
            "[False False  True  True  True False  True  True  True False]\n"
          ]
        }
      ],
      "source": [
        "print((x > np.mean(x))[:10])"
      ]
    },
    {
      "cell_type": "code",
      "execution_count": null,
      "metadata": {
        "colab": {
          "base_uri": "https://localhost:8080/"
        },
        "id": "xk-pPuk-OkJ3",
        "outputId": "272f046b-7769-4f83-f627-9f98c1b76181"
      },
      "outputs": [
        {
          "name": "stdout",
          "output_type": "stream",
          "text": [
            "[3.43744895]\n"
          ]
        }
      ],
      "source": [
        "# всё, что выпадает за три сигмы\n",
        "print(x[(x > np.mean(x) + 3 * np.std(x)) | (x < np.mean(x) - 3 * np.std(x))])"
      ]
    },
    {
      "cell_type": "code",
      "execution_count": null,
      "metadata": {
        "id": "4UK0RNWTg0lA"
      },
      "outputs": [],
      "source": [
        "# %timeit x[(x > np.mean(x) + 3 * np.std(x)) | (x < np.mean(x) - 3 * np.std(x))]"
      ]
    },
    {
      "cell_type": "code",
      "execution_count": null,
      "metadata": {
        "id": "AIX4GDbxg0lA"
      },
      "outputs": [],
      "source": [
        "# mn = np.mean(x)\n",
        "# std = 3 * np.std(x)\n",
        "# mnstdr = mn + std\n",
        "# mnstdl = mn - std\n",
        "\n",
        "# %timeit filter(lambda x: x > mnstdr or x < mnstdl, x)"
      ]
    },
    {
      "cell_type": "markdown",
      "metadata": {
        "id": "B2ENnbZdg0lA"
      },
      "source": [
        "The same for multidimensional arrays:"
      ]
    },
    {
      "cell_type": "code",
      "execution_count": null,
      "metadata": {
        "id": "pYSTUFyng0lA",
        "outputId": "91fe141c-cca3-4922-f223-c051d69141bb"
      },
      "outputs": [
        {
          "data": {
            "text/plain": [
              "array([[ 9,  2,  2, 10, 19,  7],\n",
              "       [ 4, 17,  5,  0,  5, 17],\n",
              "       [17, 13,  0,  0, 17,  5],\n",
              "       [14, 19,  2, 17,  4,  6],\n",
              "       [17,  0,  0, 15, 13,  0]])"
            ]
          },
          "execution_count": 64,
          "metadata": {},
          "output_type": "execute_result"
        }
      ],
      "source": [
        "A = np.random.randint(0, 20, (5,6))\n",
        "A"
      ]
    },
    {
      "cell_type": "code",
      "execution_count": null,
      "metadata": {
        "id": "XCBce4i9g0lA",
        "outputId": "98556d7e-b692-4f7c-cfce-46e4b76b3cec"
      },
      "outputs": [
        {
          "data": {
            "text/plain": [
              "array([ 9, 10, 19,  7, 17, 17, 17, 13, 17, 14, 19, 17,  6, 17, 15, 13])"
            ]
          },
          "execution_count": 65,
          "metadata": {},
          "output_type": "execute_result"
        }
      ],
      "source": [
        "A[A > 5]"
      ]
    },
    {
      "cell_type": "markdown",
      "metadata": {
        "id": "3efQJCtAg0lA"
      },
      "source": [
        "### Broadcasting"
      ]
    },
    {
      "cell_type": "code",
      "execution_count": null,
      "metadata": {
        "id": "q8DDsHRZg0lA"
      },
      "outputs": [],
      "source": [
        "# TODO: IV* Broadcasting\n",
        "# https://numpy.org/doc/stable/reference/ufuncs.html#ufuncs-broadcasting"
      ]
    },
    {
      "cell_type": "code",
      "execution_count": null,
      "metadata": {
        "id": "1fbuoCKzg0lA"
      },
      "outputs": [],
      "source": [
        "# Enter your code example here"
      ]
    },
    {
      "cell_type": "code",
      "source": [
        "A=np.arange(3) + 3\n",
        "A"
      ],
      "metadata": {
        "colab": {
          "base_uri": "https://localhost:8080/"
        },
        "id": "wbnqrAOimNfc",
        "outputId": "902d2634-69ff-4237-a9e3-d04edef81674"
      },
      "execution_count": null,
      "outputs": [
        {
          "output_type": "execute_result",
          "data": {
            "text/plain": [
              "array([3, 4, 5])"
            ]
          },
          "metadata": {},
          "execution_count": 7
        }
      ]
    },
    {
      "cell_type": "code",
      "source": [
        "B = np.eye(3) + np.arange(3)\n",
        "B"
      ],
      "metadata": {
        "colab": {
          "base_uri": "https://localhost:8080/"
        },
        "id": "5-Ouo435meUy",
        "outputId": "789bdee7-2212-4b06-8e66-c3ac592ff120"
      },
      "execution_count": null,
      "outputs": [
        {
          "output_type": "execute_result",
          "data": {
            "text/plain": [
              "array([[1., 1., 2.],\n",
              "       [0., 2., 2.],\n",
              "       [0., 1., 3.]])"
            ]
          },
          "metadata": {},
          "execution_count": 8
        }
      ]
    },
    {
      "cell_type": "markdown",
      "metadata": {
        "id": "5T8Ntu1Og0lA"
      },
      "source": [
        "## Plot functions"
      ]
    },
    {
      "cell_type": "code",
      "execution_count": null,
      "metadata": {
        "id": "Is4LDY9zg0lA"
      },
      "outputs": [],
      "source": [
        "%matplotlib inline \n",
        "import matplotlib.pyplot as plt"
      ]
    },
    {
      "cell_type": "code",
      "execution_count": null,
      "metadata": {
        "id": "8-Zf8pn0OaUD",
        "outputId": "351dc6c6-1fda-4b4c-d675-1eb58eee6d76"
      },
      "outputs": [
        {
          "name": "stdout",
          "output_type": "stream",
          "text": [
            "(500,) (500,)\n",
            "15.073763932952458 14.825537514834947\n",
            "2.838239266995518 2.858465528032163\n"
          ]
        },
        {
          "data": {
            "image/png": "[encoded data removed]",
            "text/plain": [
              "<Figure size 432x288 with 1 Axes>"
            ]
          },
          "metadata": {
            "needs_background": "light"
          },
          "output_type": "display_data"
        }
      ],
      "source": [
        "# Define x and y values\n",
        "x, y = np.random.uniform(low=10, high=20, size=(500, 2)).T\n",
        "\n",
        "print(x.shape, y.shape)\n",
        "print(np.mean(x), np.mean(y))\n",
        "print(np.std(x), np.std(y))\n",
        "\n",
        "plt.plot(x, y,  marker='o', color='b', ls='') # Make a plot of x and y\n",
        "plt.show() # Display the plot"
      ]
    },
    {
      "cell_type": "code",
      "execution_count": null,
      "metadata": {
        "id": "9uRLT6veOaUE",
        "outputId": "7ffff8cc-90e0-475f-cfdd-b93f5695bab8"
      },
      "outputs": [
        {
          "name": "stdout",
          "output_type": "stream",
          "text": [
            "15.073763932952458\n",
            "14.825537514834947\n"
          ]
        }
      ],
      "source": [
        "x0 = x.mean()\n",
        "y0 = y.mean()\n",
        "print(x0)\n",
        "print(y0)"
      ]
    },
    {
      "cell_type": "code",
      "execution_count": null,
      "metadata": {
        "id": "aa8bQCA-OaUE",
        "outputId": "19ce3314-c1bd-490b-d0d8-fb7a4adebfe6"
      },
      "outputs": [
        {
          "data": {
            "image/png": "[encoded data removed]",
            "text/plain": [
              "<Figure size 432x288 with 1 Axes>"
            ]
          },
          "metadata": {
            "needs_background": "light"
          },
          "output_type": "display_data"
        }
      ],
      "source": [
        "plt.plot(x, y,  marker='o', color='b', ls='')\n",
        "plt.plot(x0, y0,  marker='o', color='r', ls='')\n",
        "plt.show()"
      ]
    },
    {
      "cell_type": "markdown",
      "metadata": {
        "id": "9ZYq1B8Lg0lB"
      },
      "source": [
        "Other case"
      ]
    },
    {
      "cell_type": "code",
      "execution_count": null,
      "metadata": {
        "id": "nTBsi0yVg0lB"
      },
      "outputs": [],
      "source": [
        "# Define x and y values\n",
        "x = np.linspace(-10, 10, 100)\n",
        "y = 2. * np.sin(x)**2 / x"
      ]
    },
    {
      "cell_type": "code",
      "execution_count": null,
      "metadata": {
        "id": "feU36khIg0lB",
        "outputId": "2d8cf31b-70b6-402e-8a2e-a73c7a0b6be9"
      },
      "outputs": [
        {
          "data": {
            "image/png": "[encoded data removed]",
            "text/plain": [
              "<Figure size 648x432 with 1 Axes>"
            ]
          },
          "metadata": {
            "needs_background": "light"
          },
          "output_type": "display_data"
        }
      ],
      "source": [
        "plt.figure(figsize=(9, 6))  # Create a figure object with size (9, 6)\n",
        "plt.plot(x, y)              # Make a plot of x and y\n",
        "plt.show()                  # Display the plot"
      ]
    },
    {
      "cell_type": "code",
      "execution_count": null,
      "metadata": {
        "id": "k0jh-9qvg0lB",
        "outputId": "46cffd8a-427a-4942-dc7a-931b7edbb09a"
      },
      "outputs": [
        {
          "data": {
            "image/png": "[encoded data removed]",
            "text/plain": [
              "<Figure size 648x432 with 1 Axes>"
            ]
          },
          "metadata": {
            "needs_background": "light"
          },
          "output_type": "display_data"
        }
      ],
      "source": [
        "plt.figure(figsize=(9, 6))\n",
        "plt.scatter(x, y)           # Yet another kind of plots\n",
        "plt.show()"
      ]
    },
    {
      "cell_type": "markdown",
      "metadata": {
        "id": "_PAeQCvFTatJ"
      },
      "source": [
        "##  Linear Regression \n",
        "\n",
        "Consider the following set of points in 2D space: $\\{x_{i}, y_{i}\\}_{0}^{N}$\n",
        "\n",
        "In an one-dimentional linear regression model we suppose that:\n",
        "\n",
        "$$\n",
        "\\hat{y}_{i} = \\hat{b}_{1} x_{i} + \\hat{b}_{0}\n",
        "$$\n",
        "\n",
        "It can be written in matrix form:\n",
        "\n",
        "$$\n",
        "\\hat{y} = X\\hat{b}\n",
        "$$\n",
        "\n",
        "where $\\hat{y} = \\begin{pmatrix}\n",
        "\\hat{y}_{0} \\\\\n",
        "\\hat{y}_{1} \\\\         \n",
        "\\vdots \\\\\n",
        "\\hat{y}_{N}\n",
        "\\end{pmatrix}$, \n",
        "$X = \\begin{pmatrix}\n",
        "x_{0} & 1 \\\\\n",
        "x_{1} & 1 \\\\         \n",
        "\\vdots & \\vdots \\\\\n",
        "x_{N} & 1\n",
        "\\end{pmatrix}$, \n",
        "$\\hat{b} = \\begin{pmatrix}\n",
        "\\hat{b}_{1} \\\\\n",
        "\\hat{b}_{0} \\\\         \n",
        "\\end{pmatrix}$.\n",
        "\n",
        "The goal of the regression is to find parameters $\\hat{b}$ that minimize the following loss function:\n",
        "\n",
        "$$\n",
        "L(\\hat{y}, y) = \\frac{1}{N} \\sum_{i} (\\hat{y}_{i} - y_{i})^{2}\n",
        "$$\n"
      ]
    },
    {
      "cell_type": "code",
      "execution_count": null,
      "metadata": {
        "colab": {
          "base_uri": "https://localhost:8080/"
        },
        "id": "wei1BIEcg0lB",
        "outputId": "55a38f0a-328a-4aab-eaf6-2060edf4ad52"
      },
      "outputs": [
        {
          "output_type": "execute_result",
          "data": {
            "text/plain": [
              "array([[0, 1],\n",
              "       [1, 1],\n",
              "       [2, 1],\n",
              "       [3, 1],\n",
              "       [4, 1],\n",
              "       [5, 1],\n",
              "       [6, 1],\n",
              "       [7, 1],\n",
              "       [8, 1],\n",
              "       [9, 1]])"
            ]
          },
          "metadata": {},
          "execution_count": 18
        }
      ],
      "source": [
        "X = np.array([[0, 1], \n",
        "              [1, 1], \n",
        "              [2, 1], \n",
        "              [3, 1], \n",
        "              [4, 1], \n",
        "              [5, 1], \n",
        "              [6, 1], \n",
        "              [7, 1], \n",
        "              [8, 1], \n",
        "              [9, 1]])\n",
        "\n",
        "X"
      ]
    },
    {
      "cell_type": "code",
      "execution_count": null,
      "metadata": {
        "colab": {
          "base_uri": "https://localhost:8080/"
        },
        "id": "AuNWebSgg0lB",
        "outputId": "7398426e-b9d0-4b0a-b53b-dfa0e3e15cef"
      },
      "outputs": [
        {
          "output_type": "execute_result",
          "data": {
            "text/plain": [
              "array([ 2,  3,  4,  5,  6,  7,  8,  9, 10, 11])"
            ]
          },
          "metadata": {},
          "execution_count": 19
        }
      ],
      "source": [
        "y = np.array([2, 3, 4, 5, 6, 7, 8, 9, 10, 11]).T\n",
        "y"
      ]
    },
    {
      "cell_type": "code",
      "execution_count": null,
      "metadata": {
        "id": "OmqdJPLCg0lB",
        "outputId": "24dc66bf-6cfd-4448-bbc0-46aa6e6ae7d9"
      },
      "outputs": [
        {
          "name": "stderr",
          "output_type": "stream",
          "text": [
            "/var/folders/96/37xml6l17y9g2x40d15m0y240000gq/T/ipykernel_51076/78665559.py:7: MatplotlibDeprecationWarning: The 'b' parameter of grid() has been renamed 'visible' since Matplotlib 3.5; support for the old name will be dropped two minor releases later.\n",
            "  plt.grid(b=1)\n"
          ]
        },
        {
          "data": {
            "image/png": "[encoded data removed]",
            "text/plain": [
              "<Figure size 648x432 with 1 Axes>"
            ]
          },
          "metadata": {
            "needs_background": "light"
          },
          "output_type": "display_data"
        }
      ],
      "source": [
        "plt.figure(figsize=(9, 6))\n",
        "plt.scatter(X[:, 0], y, linewidth=2, color='r')\n",
        "plt.xlim(-1, 10)\n",
        "plt.ylim(-1, 12)\n",
        "plt.xlabel('x', fontsize=18)\n",
        "plt.ylabel('y', fontsize=18)\n",
        "plt.grid(b=1)\n",
        "plt.show()"
      ]
    },
    {
      "cell_type": "markdown",
      "metadata": {
        "id": "WQe_Kv7Lg0lB"
      },
      "source": [
        "Change the model's parameters $\\hat{b}$. See how the loss function $L(\\hat{y}, y) = \\frac{1}{N} \\sum_{i} (\\hat{y}_{i} - y_{i})^{2}$ is changing. Try to minimize it."
      ]
    },
    {
      "cell_type": "code",
      "source": [
        ""
      ],
      "metadata": {
        "id": "nQ3Z04MmpVl7"
      },
      "execution_count": null,
      "outputs": []
    },
    {
      "cell_type": "markdown",
      "source": [
        "* Manhattan Distance\n",
        "$$ L = 1/N \\sum_i |(\\hat{y}_{i} - y_{i})| $$"
      ],
      "metadata": {
        "id": "JGVxtNwdpWFN"
      }
    },
    {
      "cell_type": "code",
      "source": [
        ""
      ],
      "metadata": {
        "id": "bp2l2KBbpYa4"
      },
      "execution_count": null,
      "outputs": []
    },
    {
      "cell_type": "code",
      "source": [
        ""
      ],
      "metadata": {
        "id": "CJArjc87pxKU"
      },
      "execution_count": null,
      "outputs": []
    },
    {
      "cell_type": "code",
      "execution_count": null,
      "metadata": {
        "colab": {
          "base_uri": "https://localhost:8080/"
        },
        "id": "lxxcHNheg0lC",
        "outputId": "e6673523-a3f3-4179-edf0-811f6a52b6eb"
      },
      "outputs": [
        {
          "output_type": "stream",
          "name": "stdout",
          "text": [
            "L(y_hat, y) = 0.900000\n"
          ]
        }
      ],
      "source": [
        "b_hat = np.array([0.8, 2]).T\n",
        "y_hat = X.dot(b_hat)         # matrix multiplication\n",
        "L = (np.abs(y_hat - y)).mean() # L = ((y_hat - y)**2).mean()\n",
        "\n",
        "print('L(y_hat, y) = %f' % L)"
      ]
    },
    {
      "cell_type": "code",
      "source": [
        "plt.figure(figsize=(9, 6))\n",
        "plt.scatter(X[:, 0], y, linewidth=2, color='r')\n",
        "plt.plot(X[:, 0], y_hat, color='b', linewidth=2, label=r'$\\hat{y}(x)$ with $L(\\hat{y}, y) = %.2f$' % L)\n",
        "plt.xlim(-1, 10)\n",
        "plt.ylim(-1, 12)\n",
        "plt.xlabel('x', fontsize=18)\n",
        "plt.ylabel('y', fontsize=18)\n",
        "plt.legend(loc='best', fontsize=20)\n",
        "plt.grid(visible=1)\n",
        "plt.show()"
      ],
      "metadata": {
        "colab": {
          "base_uri": "https://localhost:8080/",
          "height": 400
        },
        "id": "TR8wUG3jqqGU",
        "outputId": "c9a328f5-8f1e-4363-a959-6a72c8301452"
      },
      "execution_count": null,
      "outputs": [
        {
          "output_type": "display_data",
          "data": {
            "image/png": "[encoded data removed]",
            "text/plain": [
              "<Figure size 648x432 with 1 Axes>"
            ]
          },
          "metadata": {
            "needs_background": "light"
          }
        }
      ]
    },
    {
      "cell_type": "code",
      "execution_count": null,
      "metadata": {
        "id": "C1HcK66Fg0lC",
        "outputId": "2695cbc8-0166-4cd6-805d-2412e62ca7c2"
      },
      "outputs": [
        {
          "data": {
            "image/png": "[encoded data removed]",
            "text/plain": [
              "<Figure size 648x432 with 1 Axes>"
            ]
          },
          "metadata": {
            "needs_background": "light"
          },
          "output_type": "display_data"
        }
      ],
      "source": [
        "plt.figure(figsize=(9, 6))\n",
        "plt.scatter(X[:, 0], y, linewidth=2, color='r')\n",
        "plt.plot(X[:, 0], y_hat, color='b', linewidth=2, label=r'$\\hat{y}(x)$ with $L(\\hat{y}, y) = %.2f$' % L)\n",
        "plt.xlim(-1, 10)\n",
        "plt.ylim(-1, 12)\n",
        "plt.xlabel('x', fontsize=18)\n",
        "plt.ylabel('y', fontsize=18)\n",
        "plt.legend(loc='best', fontsize=20)\n",
        "plt.grid(visible=1)\n",
        "plt.show()"
      ]
    },
    {
      "cell_type": "code",
      "execution_count": null,
      "metadata": {
        "id": "VUKUrYCWg0lC"
      },
      "outputs": [],
      "source": [
        ""
      ]
    }
  ],
  "metadata": {
    "colab": {
      "collapsed_sections": [],
      "name": "1_mcs_spring2022_numpy.ipynb",
      "provenance": []
    },
    "kernelspec": {
      "display_name": "Python 3 (ipykernel)",
      "language": "python",
      "name": "python3"
    },
    "language_info": {
      "codemirror_mode": {
        "name": "ipython",
        "version": 3
      },
      "file_extension": ".py",
      "mimetype": "text/x-python",
      "name": "python",
      "nbconvert_exporter": "python",
      "pygments_lexer": "ipython3",
      "version": "3.8.11"
    }
  },
  "nbformat": 4,
  "nbformat_minor": 0
}