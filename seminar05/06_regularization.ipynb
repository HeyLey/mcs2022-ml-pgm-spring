{
 "cells": [
  {
   "cell_type": "code",
   "execution_count": 7,
   "metadata": {},
   "outputs": [],
   "source": [
    "import pandas as pd\n",
    "import numpy as np\n",
    "import matplotlib.pyplot as plt\n",
    "\n",
    "%matplotlib inline\n",
    "\n",
    "plt.style.use('ggplot')\n",
    "plt.rcParams['figure.figsize'] = (12,8)"
   ]
  },
  {
   "cell_type": "markdown",
   "metadata": {},
   "source": [
    "## Regularization & restrictions"
   ]
  },
  {
   "cell_type": "markdown",
   "metadata": {},
   "source": [
    "\n",
    "* Regularization - technique that reduces model complexity to prevent overfitting\n",
    "* Desired outcomes:\n",
    "    * train loss goes up\n",
    "    * test loass goes down\n",
    "* Have we already seen it?"
   ]
  },
  {
   "cell_type": "markdown",
   "metadata": {},
   "source": [
    "## Regularization\n",
    "\n",
    "* Insert additional requirement for regularizer $R(\\beta)$ to be small:\n",
    "$$\n",
    "\\sum_{n=1}^{N}\\left(x_{n}^{T}\\beta-y_{n}\\right)^{2}+\\lambda R(\\beta)\\to\\min_{\\beta}\n",
    "$$\n",
    "* $\\lambda>0$ - hyperparameter.\n",
    "* $R(\\beta)$ penalizes complexity of models.\n",
    "$$\n",
    "\\begin{array}{ll}\n",
    "R(\\beta)=||\\beta||_{1} &  \\mbox{(L1) Lasso regression}\\\\\n",
    "R(\\beta)=||\\beta||_{2}^{2} & \\text{(L2) Ridge regression}\n",
    "\\end{array}\n",
    "$$\n",
    "\n",
    "* Not only **accuracy** matters for the solution but also **model simplicity**!\n",
    "* $\\lambda$ controls complexity of the model:$\\uparrow\\lambda\\Leftrightarrow\\text{complexity}$$\\downarrow$."
   ]
  },
  {
   "cell_type": "markdown",
   "metadata": {},
   "source": [
    "## Comments\n",
    "* Dependency of $\\beta$ from $\\lambda$ for ridge (A) and LASSO (B):\n",
    "<center><img src=\"img/regularization paths.png\"></center>\n",
    "\n",
    "* LASSO can be used for automatic feature selection.\n",
    "* $\\lambda$ is usually found using cross-validation on exponential grid, e.g. $[10^{-6},10^{-5},...10^{5},10^{6}]$.\n",
    "* It's always recommended to use regularization because \n",
    "    * it gives smooth control over model complexity.\n",
    "    * reduces ambiguity for multiple solutions case."
   ]
  },
  {
   "cell_type": "markdown",
   "metadata": {},
   "source": [
    "<center><img src=img/regul.jpg></center>"
   ]
  },
  {
   "cell_type": "code",
   "execution_count": 8,
   "metadata": {},
   "outputs": [],
   "source": [
    "from sklearn.linear_model import Lasso, Ridge"
   ]
  },
  {
   "cell_type": "code",
   "execution_count": 9,
   "metadata": {},
   "outputs": [
    {
     "data": {
      "text/html": [
       "<div>\n",
       "<style scoped>\n",
       "    .dataframe tbody tr th:only-of-type {\n",
       "        vertical-align: middle;\n",
       "    }\n",
       "\n",
       "    .dataframe tbody tr th {\n",
       "        vertical-align: top;\n",
       "    }\n",
       "\n",
       "    .dataframe thead th {\n",
       "        text-align: right;\n",
       "    }\n",
       "</style>\n",
       "<table border=\"1\" class=\"dataframe\">\n",
       "  <thead>\n",
       "    <tr style=\"text-align: right;\">\n",
       "      <th></th>\n",
       "      <th>mileage</th>\n",
       "      <th>kilometrage</th>\n",
       "      <th>price</th>\n",
       "    </tr>\n",
       "  </thead>\n",
       "  <tbody>\n",
       "    <tr>\n",
       "      <th>0</th>\n",
       "      <td>67697</td>\n",
       "      <td>108315.2</td>\n",
       "      <td>14995</td>\n",
       "    </tr>\n",
       "    <tr>\n",
       "      <th>1</th>\n",
       "      <td>73738</td>\n",
       "      <td>117980.8</td>\n",
       "      <td>11988</td>\n",
       "    </tr>\n",
       "    <tr>\n",
       "      <th>2</th>\n",
       "      <td>80313</td>\n",
       "      <td>128500.8</td>\n",
       "      <td>11999</td>\n",
       "    </tr>\n",
       "    <tr>\n",
       "      <th>3</th>\n",
       "      <td>86096</td>\n",
       "      <td>137753.6</td>\n",
       "      <td>12995</td>\n",
       "    </tr>\n",
       "    <tr>\n",
       "      <th>4</th>\n",
       "      <td>79607</td>\n",
       "      <td>127371.2</td>\n",
       "      <td>11333</td>\n",
       "    </tr>\n",
       "  </tbody>\n",
       "</table>\n",
       "</div>"
      ],
      "text/plain": [
       "   mileage  kilometrage  price\n",
       "0    67697     108315.2  14995\n",
       "1    73738     117980.8  11988\n",
       "2    80313     128500.8  11999\n",
       "3    86096     137753.6  12995\n",
       "4    79607     127371.2  11333"
      ]
     },
     "execution_count": 9,
     "metadata": {},
     "output_type": "execute_result"
    }
   ],
   "source": [
    "df_auto = pd.read_csv('accord_sedan_training.csv')\n",
    "df_auto = df_auto.assign(kilometrage = lambda r: r.mileage*1.6)\n",
    "df_auto.loc[:, ['mileage', 'kilometrage', 'price']].head()"
   ]
  },
  {
   "cell_type": "code",
   "execution_count": 10,
   "metadata": {},
   "outputs": [
    {
     "name": "stdout",
     "output_type": "stream",
     "text": [
      "Model:\n",
      "price = 16762.02 + (-0.05)*mileage + (-0.00)*kilometrage\n"
     ]
    },
    {
     "data": {
      "image/png": "[encoded data removed]",
      "text/plain": [
       "<Figure size 864x576 with 1 Axes>"
      ]
     },
     "metadata": {},
     "output_type": "display_data"
    }
   ],
   "source": [
    "X_train = df_auto.loc[:, ['mileage', 'kilometrage']].values\n",
    "y_train = df_auto.price.values\n",
    "\n",
    "model = Lasso()\n",
    "# model = Ridge()\n",
    "model.fit(X_train, y_train)\n",
    "\n",
    "print('Model:\\nprice = %.2f + (%.2f)*mileage + (%.2f)*kilometrage' % (model.intercept_, model.coef_[0], model.coef_[1],))\n",
    "\n",
    "y_hat = model.predict(X_train)\n",
    "\n",
    "df_auto.plot(x='mileage', y='price', kind='scatter')\n",
    "_ = plt.plot(X_train[:, 0], y_hat, c='r')"
   ]
  },
  {
   "cell_type": "markdown",
   "metadata": {},
   "source": [
    "## ElasticNet\n",
    "* ElasticNet:\n",
    "\n",
    "$$\n",
    "R(\\beta)=\\alpha||\\beta||_{1}+(1-\\alpha)||\\beta||_{2}^{2}\\to\\min_{\\beta}\n",
    "$$\n",
    "$\\alpha\\in(0,1)$ - hyperparameter, controlling impact of each part. \n",
    "\n",
    "* If two features $x^{i}$and $x^{j}$ are equal: \n",
    "    * LASSO may take only one of them\n",
    "    * Ridge will take both with equal weight\n",
    "        * but it doesn't remove useless features\n",
    "* ElasticNet both removes useless features but gives equal weight for usefull equal features\n",
    "    * good, because feature equality may be due to chance on this particular training set"
   ]
  },
  {
   "cell_type": "markdown",
   "metadata": {},
   "source": [
    "## Ridge regression analytic solution\n",
    "\n",
    "Ridge regression criterion\n",
    "$$\n",
    "\\sum_{n=1}^{N}\\left(x_{n}^{T}\\beta-y_{n}\\right)^{2}+\\lambda\\beta^{T}\\beta\\to\\min_{\\beta}\n",
    "$$\n",
    "\n",
    "Stationarity condition can be written as:\n",
    "\n",
    "$$\n",
    "\\begin{gathered}2\\sum_{n=1}^{N}x_{n}\\left(x_{n}^{T}\\beta-y_{n}\\right)+2\\lambda\\beta=0\\\\\n",
    "2X^{T}(X\\beta-y)+\\lambda\\beta=0\\\\\n",
    "\\left(X^{T}X+\\lambda I\\right)\\beta=X^{T}y\n",
    "\\end{gathered}\n",
    "$$\n",
    "\n",
    "so\n",
    "\n",
    "$$\n",
    "\\widehat{\\beta}=(X^{T}X+\\lambda I)^{-1}X^{T}y\n",
    "$$"
   ]
  },
  {
   "cell_type": "markdown",
   "metadata": {},
   "source": [
    "## Comments\n",
    "* $X^{T}X+\\lambda I$ is always non-degenerate as a sum of: \n",
    "    * non-negative definite $X^{T}X$\n",
    "    * positive definite $\\lambda I$\n",
    "\n",
    "\n",
    "* Intuition:\n",
    "    * out of all valid solutions select one giving simplest model\n",
    "* Other regularizations also restrict the set of solutions."
   ]
  },
  {
   "cell_type": "markdown",
   "metadata": {},
   "source": [
    "## Different account for different features\n",
    "\n",
    "* Traditional approach regularizes all features uniformly:\n",
    "$$\n",
    "\\sum_{n=1}^{N}\\left(x_{n}^{T}\\beta-y_{n}\\right)^{2}+\\lambda R(\\beta)\\to\\min_{w}\n",
    "$$\n",
    "* Suppose we have $K$ groups of features with indices:\n",
    "$$\n",
    "I_{1},I_{2},...I_{K}\n",
    "$$\n",
    "* We may control the impact of each group on the model by:\n",
    "$$\n",
    "\\sum_{n=1}^{N}\\left(x_{n}^{T}\\beta-y_{n}\\right)^{2}+\\lambda_{1}R(\\{\\beta_{i}|i\\in I_{1}\\})+...+\\lambda_{K}R(\\{\\beta_{i}|i\\in I_{K}\\})\\to\\min_{w}\n",
    "$$\n",
    "* $\\lambda_{1},\\lambda_{2},...\\lambda_{K}$ can be set using cross-validation\n",
    "* In practice use common regularizer but with different feature scaling."
   ]
  },
  {
   "cell_type": "markdown",
   "metadata": {},
   "source": [
    "## Different loss-functions\n",
    "\n",
    "### Idea\n",
    "* Generalize squared to arbitrary loss:\n",
    "$$\n",
    "\\sum_{n=1}^{N}\\left(x^{T}\\beta-y_{n}\\right)^{2}\\to\\min_{\\beta}\\qquad\\Longrightarrow\\qquad\\sum_{n=1}^{N}\\mathcal{L}(x_{n}^{T}\\beta-y_{n})\\to\\min_{\\beta}\n",
    "$$\n",
    "\n",
    "$$\n",
    "\\begin{array}{lll}\n",
    "\\textbf{LOSS} & \\textbf{NAME} & \\textbf{PROPERTIES}\\\\\n",
    "\\mathcal{L}(\\varepsilon)=\\varepsilon^{2} & \\text{quadratic} & \\text{differentiable}\\\\\n",
    "\\mathcal{L}(\\varepsilon)=\\left|\\varepsilon\\right| & \\text{absolute} & \\text{robust}\\\\\n",
    "\\mathcal{L}(\\varepsilon)=\\begin{cases}\n",
    "\\frac{1}{2}\\varepsilon^{2}, & \\left|\\varepsilon\\right|\\le\\delta\\\\\n",
    "\\delta\\left(\\left|\\varepsilon\\right|-\\frac{1}{2}\\delta\\right) & \\left|\\varepsilon\\right|>\\delta\n",
    "\\end{cases} & \\text{Huber} & \\text{differentiable, robust}\n",
    "\\end{array}\n",
    "$$\n",
    "\n",
    "* Robust means solution is robust to outliers in the training set."
   ]
  },
  {
   "cell_type": "markdown",
   "metadata": {},
   "source": [
    "<center><img src=\"img/Loss functions.png\"></center>"
   ]
  },
  {
   "cell_type": "code",
   "execution_count": null,
   "metadata": {},
   "outputs": [],
   "source": []
  }
 ],
 "metadata": {
  "anaconda-cloud": {},
  "kernelspec": {
   "display_name": "Python 3 (ipykernel)",
   "language": "python",
   "name": "python3"
  },
  "language_info": {
   "codemirror_mode": {
    "name": "ipython",
    "version": 3
   },
   "file_extension": ".py",
   "mimetype": "text/x-python",
   "name": "python",
   "nbconvert_exporter": "python",
   "pygments_lexer": "ipython3",
   "version": "3.8.11"
  },
  "toc": {
   "colors": {
    "hover_highlight": "#DAA520",
    "navigate_num": "#000000",
    "navigate_text": "#333333",
    "running_highlight": "#FF0000",
    "selected_highlight": "#FFD700",
    "sidebar_border": "#EEEEEE",
    "wrapper_background": "#FFFFFF"
   },
   "moveMenuLeft": true,
   "nav_menu": {
    "height": "142px",
    "width": "252px"
   },
   "navigate_menu": true,
   "number_sections": false,
   "sideBar": true,
   "threshold": 4,
   "toc_cell": false,
   "toc_section_display": "block",
   "toc_window_display": false,
   "widenNotebook": false
  }
 },
 "nbformat": 4,
 "nbformat_minor": 2
}
