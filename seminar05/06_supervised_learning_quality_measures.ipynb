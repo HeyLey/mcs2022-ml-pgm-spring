{
 "cells": [
  {
   "cell_type": "code",
   "execution_count": 8,
   "metadata": {},
   "outputs": [],
   "source": [
    "import pandas as pd\n",
    "import numpy as np\n",
    "import matplotlib.pyplot as plt\n",
    "import openpyxl\n",
    "\n",
    "%matplotlib inline\n",
    "\n",
    "pd.set_option('display.max_columns', 500)"
   ]
  },
  {
   "cell_type": "markdown",
   "metadata": {},
   "source": [
    "# Classification Quality Metrics\n",
    "\n",
    "We will consider a range of classification quality metrics solving a classification problem using all classifiers you have already learned. We will compare these classifiers and select the best one for a particular problem."
   ]
  },
  {
   "cell_type": "markdown",
   "metadata": {},
   "source": [
    "## Read Data\n",
    "\n",
    "We are going to consider a dataset from a [data analysis competition](http://www.machinelearning.ru/wiki/index.php?title=%D0%97%D0%B0%D0%B4%D0%B0%D1%87%D0%B0_%D0%BF%D1%80%D0%B5%D0%B4%D1%81%D0%BA%D0%B0%D0%B7%D0%B0%D0%BD%D0%B8%D1%8F_%D0%BE%D1%82%D0%BA%D0%BB%D0%B8%D0%BA%D0%B0_%D0%BA%D0%BB%D0%B8%D0%B5%D0%BD%D1%82%D0%BE%D0%B2_%D0%9E%D0%A2%D0%9F_%D0%91%D0%B0%D0%BD%D0%BA%D0%B0_%28%D0%BA%D0%BE%D0%BD%D0%BA%D1%83%D1%80%D1%81%29). \n",
    "\n",
    "One of the ways to increase the efficiency of bank interactions with customers is to send an offer for a new service not to all bank customers, but only to a specific part selected based on the most significant tendency to respond to this offer.\n",
    "\n",
    "The competition task is to propose an algorithm that will estimate the client's tendency to a positive response according to its characteristic description. This may be interpreted as the probability of a positive response. It is assumed that having received such estimates for a set of clients, the bank will address the offer only to those clients whose probability is above a certain threshold.\n",
    "\n",
    "Dataset description:\n",
    "\n",
    "* **AGREEMENT_RK**:\tunique identifier\n",
    "* **TARGET**: target feature. Response to the marketing campaign (1 - the response was registered, 0 - there was no response)\n",
    "* **AGE**: customer age\n",
    "* **SOCSTATUS_WORK_FL**: social status of the client relative to work (1 - works, 0 - does not work)\n",
    "* **SOCSTATUS_PENS_FL**: social status of the client relative to the pension (1 - retired, 0 - not retired)\n",
    "* **GENDER**: gender of the client\n",
    "* **CHILD_TOTAL**: number of children of the client\n",
    "* **DEPENDANTS**: number of client dependents\n",
    "* **EDUCATION**: education\n",
    "* **MARITAL_STATUS**: marital status \n",
    "\n",
    "\n",
    "* **GEN_INDUSTRY**: customer work industry\n",
    "* **GEN_TITLE**: position\n",
    "* **ORG_TP_STATE**: ownership of the company\n",
    "* **ORG_TP_FCAPITAL**: relation to foreign capital\n",
    "* **JOB_DIR**:\tactivity inside the company\n",
    "* **FAMILY_INCOME**:\tfamily income (several categories)\n",
    "* **PERSONAL_INCOME**:\tclient's personal income (in rubles)\n",
    "\n",
    "\n",
    "* **REG_ADDRESS_PROVINCE**:\tcustomer registration area\n",
    "* **FACT_ADDRESS_PROVINCE**:\tclient's actual area\n",
    "* **POSTAL_ADDRESS_PROVINCE**:\tpostal address of the area\n",
    "* **TP_PROVINCE**:\tarea of the outlet where the customer took the last loan\n",
    "* **REGION_NM**:\tregion of the Russian Federation\n",
    "* **REG_FACT_FL**:\tthe registration address and the address of the actual stay of the client coincide (1 - matches, 0 - does not match)\n",
    "* **FACT_POST_FL**:\tthe address of the actual stay of the client and his mailing address are the same (1 is the same, 0 is not the same)\n",
    "* **REG_POST_FL**:\tthe registration address of the client and his postal address match (1 - matches, 0 - does not match)\n",
    "* **REG_FACT_POST_FL**:\tpostal, actual and registration address match (1 - match, 0 - do not match)\n",
    "* **REG_FACT_POST_TP_FL**:\tthe area of registration, the actual stay, postal address and the location of the outlet where the customer took the loan match (1 - match, 0 - do not match)\n",
    "\n",
    "\n",
    "* **FL_PRESENCE_FL**:\tthe ownership of the apartment (1 - yes, 0 - no)\n",
    "* **OWN_AUTO**:\tnumber of cars in the property\n",
    "* **AUTO_RUS_FL**:\townership of a Russian-made car (1 - yes, 0 - no)\n",
    "* **HS_PRESENCE_FL**:\tthe presence of a country house in the property (1 - yes, 0 - no)\n",
    "* **COT_PRESENCE_FL**:\tthe ownership of the cottage (1 - yes, 0 - no)\n",
    "* **GAR_PRESENCE_FL**:\tthe presence in the property of the garage (1 - yes, 0 - no)\n",
    "* **LAND_PRESENCE_FL**:\tthe ownership of the land (1 - yes, 0 - no)\n",
    "\n",
    "\n",
    "* **CREDIT**:\tamount of the client’s last loan (in rubles)\n",
    "* **TERM**:\tcredit term\n",
    "* **FST_PAYMENT**:\tdown payment (in rubles)\n",
    "* **DL_DOCUMENT_FL**:\tthe client indicated the driver's license in the questionnaire (1 - indicated, 0 - did not indicate)\n",
    "* **GPF_DOCUMENT_FL**:\tIn the questionnaire, the client indicated GPF (1 - indicated, 0 - did not indicate)\n",
    "\n",
    "\n",
    "* **FACT_LIVING_TERM**:\tthe number of months of residence at the place of actual stay\n",
    "* **WORK_TIME**:\tworking time at the current location (in months)\n",
    "* **FACT_PHONE_FL**: presence in the application of the phone at the actual place of stay\n",
    "* **REG_PHONE_FL**:\tpresence in the application of the phone at the place of registration\n",
    "* **GEN_PHONE_FL**:\tpresence in the application of a working phone\n",
    "\n",
    "\n",
    "* **LOAN_NUM_TOTAL**:\tamount of customer loans\n",
    "* **LOAN_NUM_CLOSED**:\tamount of customer loan repaid\n",
    "* **LOAN_NUM_PAYM**:\tthe number of payments made by the client\n",
    "* **LOAN_DLQ_NUM**:\tnumber of customer delinquencies\n",
    "* **LOAN_MAX_DLQ**:\tmaximum delay number allowed by the client\n",
    "* **LOAN_AVG_DLQ_AMT**:\taverage amount of delay (in rubles)\n",
    "* **LOAN_MAX_DLQ_AMT**:\tmaximum amount of delay (in rubles)\n",
    "* **PREVIOUS_CARD_NUM_UTILIZED**:\tthe number of already recycled cards (if empty - 0)"
   ]
  },
  {
   "cell_type": "code",
   "execution_count": 9,
   "metadata": {},
   "outputs": [],
   "source": [
    "data = pd.read_excel('data/data_train_complete.xlsx')"
   ]
  },
  {
   "cell_type": "code",
   "execution_count": 10,
   "metadata": {},
   "outputs": [
    {
     "data": {
      "text/html": [
       "<div>\n",
       "<style scoped>\n",
       "    .dataframe tbody tr th:only-of-type {\n",
       "        vertical-align: middle;\n",
       "    }\n",
       "\n",
       "    .dataframe tbody tr th {\n",
       "        vertical-align: top;\n",
       "    }\n",
       "\n",
       "    .dataframe thead th {\n",
       "        text-align: right;\n",
       "    }\n",
       "</style>\n",
       "<table border=\"1\" class=\"dataframe\">\n",
       "  <thead>\n",
       "    <tr style=\"text-align: right;\">\n",
       "      <th></th>\n",
       "      <th>AGE</th>\n",
       "      <th>AGREEMENT_RK</th>\n",
       "      <th>AUTO_RUS_FL</th>\n",
       "      <th>CHILD_TOTAL</th>\n",
       "      <th>COT_PRESENCE_FL</th>\n",
       "      <th>CREDIT</th>\n",
       "      <th>DEPENDANTS</th>\n",
       "      <th>DL_DOCUMENT_FL</th>\n",
       "      <th>EDUCATION</th>\n",
       "      <th>FACT_ADDRESS_PROVINCE</th>\n",
       "      <th>FACT_LIVING_TERM</th>\n",
       "      <th>FACT_PHONE_FL</th>\n",
       "      <th>FACT_POST_FL</th>\n",
       "      <th>FAMILY_INCOME</th>\n",
       "      <th>FL_PRESENCE_FL</th>\n",
       "      <th>FST_PAYMENT</th>\n",
       "      <th>GAR_PRESENCE_FL</th>\n",
       "      <th>GENDER</th>\n",
       "      <th>GEN_INDUSTRY</th>\n",
       "      <th>GEN_PHONE_FL</th>\n",
       "      <th>GEN_TITLE</th>\n",
       "      <th>GPF_DOCUMENT_FL</th>\n",
       "      <th>HS_PRESENCE_FL</th>\n",
       "      <th>JOB_DIR</th>\n",
       "      <th>LAND_PRESENCE_FL</th>\n",
       "      <th>LOAN_AVG_DLQ_AMT</th>\n",
       "      <th>LOAN_DLQ_NUM</th>\n",
       "      <th>LOAN_MAX_DLQ</th>\n",
       "      <th>LOAN_MAX_DLQ_AMT</th>\n",
       "      <th>LOAN_NUM_CLOSED</th>\n",
       "      <th>LOAN_NUM_PAYM</th>\n",
       "      <th>LOAN_NUM_TOTAL</th>\n",
       "      <th>MARITAL_STATUS</th>\n",
       "      <th>ORG_TP_FCAPITAL</th>\n",
       "      <th>ORG_TP_STATE</th>\n",
       "      <th>OWN_AUTO</th>\n",
       "      <th>PERSONAL_INCOME</th>\n",
       "      <th>POSTAL_ADDRESS_PROVINCE</th>\n",
       "      <th>PREVIOUS_CARD_NUM_UTILIZED</th>\n",
       "      <th>REGION_NM</th>\n",
       "      <th>REG_ADDRESS_PROVINCE</th>\n",
       "      <th>REG_FACT_FL</th>\n",
       "      <th>REG_FACT_POST_FL</th>\n",
       "      <th>REG_FACT_POST_TP_FL</th>\n",
       "      <th>REG_PHONE_FL</th>\n",
       "      <th>REG_POST_FL</th>\n",
       "      <th>SOCSTATUS_PENS_FL</th>\n",
       "      <th>SOCSTATUS_WORK_FL</th>\n",
       "      <th>TARGET</th>\n",
       "      <th>TERM</th>\n",
       "      <th>TP_PROVINCE</th>\n",
       "      <th>WORK_TIME</th>\n",
       "    </tr>\n",
       "  </thead>\n",
       "  <tbody>\n",
       "    <tr>\n",
       "      <th>0</th>\n",
       "      <td>32</td>\n",
       "      <td>18669</td>\n",
       "      <td>0</td>\n",
       "      <td>3</td>\n",
       "      <td>0</td>\n",
       "      <td>21650.00</td>\n",
       "      <td>3</td>\n",
       "      <td>0</td>\n",
       "      <td>Среднее</td>\n",
       "      <td>Кабардино-Балкария</td>\n",
       "      <td>137</td>\n",
       "      <td>1</td>\n",
       "      <td>1</td>\n",
       "      <td>от 10000 до 20000 руб.</td>\n",
       "      <td>0</td>\n",
       "      <td>4000.00</td>\n",
       "      <td>0</td>\n",
       "      <td>1</td>\n",
       "      <td>Торговля</td>\n",
       "      <td>1</td>\n",
       "      <td>Рабочий</td>\n",
       "      <td>1</td>\n",
       "      <td>0</td>\n",
       "      <td>Участие в основ. деятельности</td>\n",
       "      <td>0</td>\n",
       "      <td>4020.0</td>\n",
       "      <td>1</td>\n",
       "      <td>1</td>\n",
       "      <td>4020.0</td>\n",
       "      <td>1</td>\n",
       "      <td>6</td>\n",
       "      <td>1</td>\n",
       "      <td>Состою в браке</td>\n",
       "      <td>Без участия</td>\n",
       "      <td>Индивидуальный предприниматель</td>\n",
       "      <td>0</td>\n",
       "      <td>12000.0</td>\n",
       "      <td>Кабардино-Балкария</td>\n",
       "      <td>NaN</td>\n",
       "      <td>ЮЖНЫЙ</td>\n",
       "      <td>Кабардино-Балкария</td>\n",
       "      <td>1</td>\n",
       "      <td>1</td>\n",
       "      <td>0</td>\n",
       "      <td>0</td>\n",
       "      <td>1</td>\n",
       "      <td>0</td>\n",
       "      <td>1</td>\n",
       "      <td>0</td>\n",
       "      <td>6</td>\n",
       "      <td>Ставропольский край</td>\n",
       "      <td>97.0</td>\n",
       "    </tr>\n",
       "    <tr>\n",
       "      <th>1</th>\n",
       "      <td>53</td>\n",
       "      <td>21045</td>\n",
       "      <td>0</td>\n",
       "      <td>2</td>\n",
       "      <td>0</td>\n",
       "      <td>32914.31</td>\n",
       "      <td>0</td>\n",
       "      <td>0</td>\n",
       "      <td>Высшее</td>\n",
       "      <td>Ярославская область</td>\n",
       "      <td>228</td>\n",
       "      <td>1</td>\n",
       "      <td>1</td>\n",
       "      <td>свыше 50000 руб.</td>\n",
       "      <td>0</td>\n",
       "      <td>29080.92</td>\n",
       "      <td>0</td>\n",
       "      <td>0</td>\n",
       "      <td>Здравоохранение</td>\n",
       "      <td>1</td>\n",
       "      <td>Руководитель высшего звена</td>\n",
       "      <td>0</td>\n",
       "      <td>0</td>\n",
       "      <td>Участие в основ. деятельности</td>\n",
       "      <td>0</td>\n",
       "      <td>0.0</td>\n",
       "      <td>0</td>\n",
       "      <td>0</td>\n",
       "      <td>0.0</td>\n",
       "      <td>1</td>\n",
       "      <td>3</td>\n",
       "      <td>1</td>\n",
       "      <td>Состою в браке</td>\n",
       "      <td>Без участия</td>\n",
       "      <td>Частная компания</td>\n",
       "      <td>0</td>\n",
       "      <td>100000.0</td>\n",
       "      <td>Ярославская область</td>\n",
       "      <td>NaN</td>\n",
       "      <td>ЦЕНТРАЛЬНЫЙ 2</td>\n",
       "      <td>Ярославская область</td>\n",
       "      <td>1</td>\n",
       "      <td>1</td>\n",
       "      <td>1</td>\n",
       "      <td>0</td>\n",
       "      <td>1</td>\n",
       "      <td>0</td>\n",
       "      <td>1</td>\n",
       "      <td>0</td>\n",
       "      <td>4</td>\n",
       "      <td>Ярославская область</td>\n",
       "      <td>156.0</td>\n",
       "    </tr>\n",
       "    <tr>\n",
       "      <th>2</th>\n",
       "      <td>54</td>\n",
       "      <td>27126</td>\n",
       "      <td>0</td>\n",
       "      <td>2</td>\n",
       "      <td>0</td>\n",
       "      <td>5160.00</td>\n",
       "      <td>0</td>\n",
       "      <td>0</td>\n",
       "      <td>Среднее специальное</td>\n",
       "      <td>Карелия</td>\n",
       "      <td>240</td>\n",
       "      <td>1</td>\n",
       "      <td>1</td>\n",
       "      <td>от 20000 до 50000 руб.</td>\n",
       "      <td>1</td>\n",
       "      <td>600.00</td>\n",
       "      <td>0</td>\n",
       "      <td>1</td>\n",
       "      <td>Образование</td>\n",
       "      <td>1</td>\n",
       "      <td>Служащий</td>\n",
       "      <td>0</td>\n",
       "      <td>0</td>\n",
       "      <td>Пр-техн. обесп. и телеком.</td>\n",
       "      <td>0</td>\n",
       "      <td>0.0</td>\n",
       "      <td>0</td>\n",
       "      <td>0</td>\n",
       "      <td>0.0</td>\n",
       "      <td>1</td>\n",
       "      <td>3</td>\n",
       "      <td>1</td>\n",
       "      <td>Не состоял в браке</td>\n",
       "      <td>Без участия</td>\n",
       "      <td>Государственная комп./учреж.</td>\n",
       "      <td>0</td>\n",
       "      <td>19000.0</td>\n",
       "      <td>Карелия</td>\n",
       "      <td>NaN</td>\n",
       "      <td>ЦЕНТРАЛЬНЫЙ 2</td>\n",
       "      <td>Карелия</td>\n",
       "      <td>1</td>\n",
       "      <td>1</td>\n",
       "      <td>1</td>\n",
       "      <td>0</td>\n",
       "      <td>1</td>\n",
       "      <td>0</td>\n",
       "      <td>1</td>\n",
       "      <td>0</td>\n",
       "      <td>3</td>\n",
       "      <td>Карелия</td>\n",
       "      <td>120.0</td>\n",
       "    </tr>\n",
       "    <tr>\n",
       "      <th>3</th>\n",
       "      <td>45</td>\n",
       "      <td>26104</td>\n",
       "      <td>0</td>\n",
       "      <td>3</td>\n",
       "      <td>0</td>\n",
       "      <td>5770.00</td>\n",
       "      <td>1</td>\n",
       "      <td>0</td>\n",
       "      <td>Среднее специальное</td>\n",
       "      <td>Карелия</td>\n",
       "      <td>72</td>\n",
       "      <td>1</td>\n",
       "      <td>1</td>\n",
       "      <td>от 10000 до 20000 руб.</td>\n",
       "      <td>0</td>\n",
       "      <td>1020.00</td>\n",
       "      <td>0</td>\n",
       "      <td>1</td>\n",
       "      <td>Государственная служба</td>\n",
       "      <td>1</td>\n",
       "      <td>Рабочий</td>\n",
       "      <td>0</td>\n",
       "      <td>0</td>\n",
       "      <td>Служба безопасности</td>\n",
       "      <td>0</td>\n",
       "      <td>810.0</td>\n",
       "      <td>1</td>\n",
       "      <td>1</td>\n",
       "      <td>810.0</td>\n",
       "      <td>1</td>\n",
       "      <td>8</td>\n",
       "      <td>1</td>\n",
       "      <td>Разведен(а)</td>\n",
       "      <td>Без участия</td>\n",
       "      <td>Государственная комп./учреж.</td>\n",
       "      <td>0</td>\n",
       "      <td>12000.0</td>\n",
       "      <td>Карелия</td>\n",
       "      <td>NaN</td>\n",
       "      <td>ЦЕНТРАЛЬНЫЙ 2</td>\n",
       "      <td>Карелия</td>\n",
       "      <td>1</td>\n",
       "      <td>1</td>\n",
       "      <td>1</td>\n",
       "      <td>0</td>\n",
       "      <td>1</td>\n",
       "      <td>0</td>\n",
       "      <td>1</td>\n",
       "      <td>0</td>\n",
       "      <td>9</td>\n",
       "      <td>Карелия</td>\n",
       "      <td>72.0</td>\n",
       "    </tr>\n",
       "    <tr>\n",
       "      <th>4</th>\n",
       "      <td>41</td>\n",
       "      <td>22056</td>\n",
       "      <td>0</td>\n",
       "      <td>0</td>\n",
       "      <td>0</td>\n",
       "      <td>79910.00</td>\n",
       "      <td>0</td>\n",
       "      <td>0</td>\n",
       "      <td>Высшее</td>\n",
       "      <td>Хабаровский край</td>\n",
       "      <td>5</td>\n",
       "      <td>1</td>\n",
       "      <td>1</td>\n",
       "      <td>свыше 50000 руб.</td>\n",
       "      <td>1</td>\n",
       "      <td>19990.00</td>\n",
       "      <td>0</td>\n",
       "      <td>1</td>\n",
       "      <td>Торговля</td>\n",
       "      <td>1</td>\n",
       "      <td>Индивидуальный предприниматель</td>\n",
       "      <td>1</td>\n",
       "      <td>0</td>\n",
       "      <td>Участие в основ. деятельности</td>\n",
       "      <td>0</td>\n",
       "      <td>0.0</td>\n",
       "      <td>0</td>\n",
       "      <td>0</td>\n",
       "      <td>0.0</td>\n",
       "      <td>1</td>\n",
       "      <td>4</td>\n",
       "      <td>1</td>\n",
       "      <td>Разведен(а)</td>\n",
       "      <td>Без участия</td>\n",
       "      <td>Индивидуальный предприниматель</td>\n",
       "      <td>0</td>\n",
       "      <td>60000.0</td>\n",
       "      <td>Хабаровский край</td>\n",
       "      <td>NaN</td>\n",
       "      <td>ДАЛЬНЕВОСТОЧНЫЙ</td>\n",
       "      <td>Хабаровский край</td>\n",
       "      <td>1</td>\n",
       "      <td>1</td>\n",
       "      <td>1</td>\n",
       "      <td>0</td>\n",
       "      <td>1</td>\n",
       "      <td>0</td>\n",
       "      <td>1</td>\n",
       "      <td>1</td>\n",
       "      <td>5</td>\n",
       "      <td>Хабаровский край</td>\n",
       "      <td>168.0</td>\n",
       "    </tr>\n",
       "  </tbody>\n",
       "</table>\n",
       "</div>"
      ],
      "text/plain": [
       "   AGE  AGREEMENT_RK  AUTO_RUS_FL  CHILD_TOTAL  COT_PRESENCE_FL    CREDIT  \\\n",
       "0   32         18669            0            3                0  21650.00   \n",
       "1   53         21045            0            2                0  32914.31   \n",
       "2   54         27126            0            2                0   5160.00   \n",
       "3   45         26104            0            3                0   5770.00   \n",
       "4   41         22056            0            0                0  79910.00   \n",
       "\n",
       "   DEPENDANTS  DL_DOCUMENT_FL            EDUCATION FACT_ADDRESS_PROVINCE  \\\n",
       "0           3               0              Среднее    Кабардино-Балкария   \n",
       "1           0               0               Высшее   Ярославская область   \n",
       "2           0               0  Среднее специальное               Карелия   \n",
       "3           1               0  Среднее специальное               Карелия   \n",
       "4           0               0               Высшее      Хабаровский край   \n",
       "\n",
       "   FACT_LIVING_TERM  FACT_PHONE_FL  FACT_POST_FL           FAMILY_INCOME  \\\n",
       "0               137              1             1  от 10000 до 20000 руб.   \n",
       "1               228              1             1        свыше 50000 руб.   \n",
       "2               240              1             1  от 20000 до 50000 руб.   \n",
       "3                72              1             1  от 10000 до 20000 руб.   \n",
       "4                 5              1             1        свыше 50000 руб.   \n",
       "\n",
       "   FL_PRESENCE_FL  FST_PAYMENT  GAR_PRESENCE_FL  GENDER  \\\n",
       "0               0      4000.00                0       1   \n",
       "1               0     29080.92                0       0   \n",
       "2               1       600.00                0       1   \n",
       "3               0      1020.00                0       1   \n",
       "4               1     19990.00                0       1   \n",
       "\n",
       "             GEN_INDUSTRY  GEN_PHONE_FL                       GEN_TITLE  \\\n",
       "0                Торговля             1                         Рабочий   \n",
       "1         Здравоохранение             1      Руководитель высшего звена   \n",
       "2             Образование             1                        Служащий   \n",
       "3  Государственная служба             1                         Рабочий   \n",
       "4                Торговля             1  Индивидуальный предприниматель   \n",
       "\n",
       "   GPF_DOCUMENT_FL  HS_PRESENCE_FL                        JOB_DIR  \\\n",
       "0                1               0  Участие в основ. деятельности   \n",
       "1                0               0  Участие в основ. деятельности   \n",
       "2                0               0     Пр-техн. обесп. и телеком.   \n",
       "3                0               0            Служба безопасности   \n",
       "4                1               0  Участие в основ. деятельности   \n",
       "\n",
       "   LAND_PRESENCE_FL  LOAN_AVG_DLQ_AMT  LOAN_DLQ_NUM  LOAN_MAX_DLQ  \\\n",
       "0                 0            4020.0             1             1   \n",
       "1                 0               0.0             0             0   \n",
       "2                 0               0.0             0             0   \n",
       "3                 0             810.0             1             1   \n",
       "4                 0               0.0             0             0   \n",
       "\n",
       "   LOAN_MAX_DLQ_AMT  LOAN_NUM_CLOSED  LOAN_NUM_PAYM  LOAN_NUM_TOTAL  \\\n",
       "0            4020.0                1              6               1   \n",
       "1               0.0                1              3               1   \n",
       "2               0.0                1              3               1   \n",
       "3             810.0                1              8               1   \n",
       "4               0.0                1              4               1   \n",
       "\n",
       "       MARITAL_STATUS ORG_TP_FCAPITAL                    ORG_TP_STATE  \\\n",
       "0      Состою в браке     Без участия  Индивидуальный предприниматель   \n",
       "1      Состою в браке     Без участия                Частная компания   \n",
       "2  Не состоял в браке     Без участия    Государственная комп./учреж.   \n",
       "3         Разведен(а)     Без участия    Государственная комп./учреж.   \n",
       "4         Разведен(а)     Без участия  Индивидуальный предприниматель   \n",
       "\n",
       "   OWN_AUTO  PERSONAL_INCOME POSTAL_ADDRESS_PROVINCE  \\\n",
       "0         0          12000.0      Кабардино-Балкария   \n",
       "1         0         100000.0     Ярославская область   \n",
       "2         0          19000.0                 Карелия   \n",
       "3         0          12000.0                 Карелия   \n",
       "4         0          60000.0        Хабаровский край   \n",
       "\n",
       "   PREVIOUS_CARD_NUM_UTILIZED        REGION_NM REG_ADDRESS_PROVINCE  \\\n",
       "0                         NaN            ЮЖНЫЙ   Кабардино-Балкария   \n",
       "1                         NaN    ЦЕНТРАЛЬНЫЙ 2  Ярославская область   \n",
       "2                         NaN    ЦЕНТРАЛЬНЫЙ 2              Карелия   \n",
       "3                         NaN    ЦЕНТРАЛЬНЫЙ 2              Карелия   \n",
       "4                         NaN  ДАЛЬНЕВОСТОЧНЫЙ     Хабаровский край   \n",
       "\n",
       "   REG_FACT_FL  REG_FACT_POST_FL  REG_FACT_POST_TP_FL  REG_PHONE_FL  \\\n",
       "0            1                 1                    0             0   \n",
       "1            1                 1                    1             0   \n",
       "2            1                 1                    1             0   \n",
       "3            1                 1                    1             0   \n",
       "4            1                 1                    1             0   \n",
       "\n",
       "   REG_POST_FL  SOCSTATUS_PENS_FL  SOCSTATUS_WORK_FL  TARGET  TERM  \\\n",
       "0            1                  0                  1       0     6   \n",
       "1            1                  0                  1       0     4   \n",
       "2            1                  0                  1       0     3   \n",
       "3            1                  0                  1       0     9   \n",
       "4            1                  0                  1       1     5   \n",
       "\n",
       "           TP_PROVINCE  WORK_TIME  \n",
       "0  Ставропольский край       97.0  \n",
       "1  Ярославская область      156.0  \n",
       "2              Карелия      120.0  \n",
       "3              Карелия       72.0  \n",
       "4     Хабаровский край      168.0  "
      ]
     },
     "execution_count": 10,
     "metadata": {},
     "output_type": "execute_result"
    }
   ],
   "source": [
    "data.head()"
   ]
  },
  {
   "cell_type": "markdown",
   "metadata": {},
   "source": [
    "## Preprocessing #1"
   ]
  },
  {
   "cell_type": "markdown",
   "metadata": {},
   "source": [
    "Now we are going to run simple preprocessing:\n",
    "\n",
    "* Drop \"hard\" features `['EDUCATION', 'FACT_ADDRESS_PROVINCE', 'FAMILY_INCOME', 'GEN_INDUSTRY', 'GEN_TITLE', 'JOB_DIR', 'MARITAL_STATUS', 'ORG_TP_FCAPITAL', 'REGION_NM', 'REG_ADDRESS_PROVINCE', 'ORG_TP_STATE', 'POSTAL_ADDRESS_PROVINCE', 'TP_PROVINCE']`"
   ]
  },
  {
   "cell_type": "code",
   "execution_count": 11,
   "metadata": {},
   "outputs": [],
   "source": [
    "def preproc(df_input):\n",
    "    \n",
    "    drop_cols = ['EDUCATION', 'FACT_ADDRESS_PROVINCE', 'FAMILY_INCOME', 'GEN_INDUSTRY', \n",
    "                 'GEN_TITLE', 'JOB_DIR', 'MARITAL_STATUS', 'ORG_TP_FCAPITAL', 'REGION_NM', \n",
    "                 'REG_ADDRESS_PROVINCE', 'ORG_TP_STATE', 'POSTAL_ADDRESS_PROVINCE', 'TP_PROVINCE', \n",
    "                 'AGREEMENT_RK']\n",
    "    \n",
    "    # Make a copy of data\n",
    "    df_temp = df_input.copy()\n",
    "    \n",
    "    # Drop the hard columns\n",
    "    df_temp = df_temp.drop(drop_cols, axis=1)\n",
    "    \n",
    "    # Fill NaNs with -999\n",
    "    #df_temp = df_temp.fillna(-999)\n",
    "    \n",
    "    # Fill NaNs with 0.0\n",
    "    #df_temp.loc[:,'PREVIOUS_CARD_NUM_UTILIZED'] = df_temp.loc[:,'PREVIOUS_CARD_NUM_UTILIZED'].fillna(0.0)\n",
    "    \n",
    "    return df_temp"
   ]
  },
  {
   "cell_type": "code",
   "execution_count": 4,
   "metadata": {},
   "outputs": [
    {
     "ename": "NameError",
     "evalue": "name 'preproc' is not defined",
     "output_type": "error",
     "traceback": [
      "\u001b[0;31m---------------------------------------------------------------------------\u001b[0m",
      "\u001b[0;31mNameError\u001b[0m                                 Traceback (most recent call last)",
      "\u001b[0;32m/var/folders/96/37xml6l17y9g2x40d15m0y240000gq/T/ipykernel_26506/1846559939.py\u001b[0m in \u001b[0;36m<module>\u001b[0;34m\u001b[0m\n\u001b[0;32m----> 1\u001b[0;31m \u001b[0mdata_preproc\u001b[0m \u001b[0;34m=\u001b[0m \u001b[0mpreproc\u001b[0m\u001b[0;34m(\u001b[0m\u001b[0mdata\u001b[0m\u001b[0;34m)\u001b[0m\u001b[0;34m\u001b[0m\u001b[0;34m\u001b[0m\u001b[0m\n\u001b[0m",
      "\u001b[0;31mNameError\u001b[0m: name 'preproc' is not defined"
     ]
    }
   ],
   "source": [
    "data_preproc = preproc(data)"
   ]
  },
  {
   "cell_type": "markdown",
   "metadata": {},
   "source": [
    "## Train / Test Split"
   ]
  },
  {
   "cell_type": "code",
   "execution_count": 6,
   "metadata": {},
   "outputs": [],
   "source": [
    "label_col = data_preproc.columns == 'TARGET'\n",
    "\n",
    "# Take all columns that are not TARGET\n",
    "X = data_preproc.loc[:, ~label_col].values\n",
    "\n",
    "# Take TARGET column\n",
    "y = data_preproc.loc[:, label_col].values.flatten()"
   ]
  },
  {
   "cell_type": "code",
   "execution_count": 7,
   "metadata": {},
   "outputs": [
    {
     "data": {
      "text/plain": [
       "array([[3.200000e+01, 0.000000e+00, 3.000000e+00, 0.000000e+00,\n",
       "        2.165000e+04, 3.000000e+00, 0.000000e+00, 1.370000e+02,\n",
       "        1.000000e+00, 1.000000e+00, 0.000000e+00, 4.000000e+03,\n",
       "        0.000000e+00, 1.000000e+00, 1.000000e+00, 1.000000e+00,\n",
       "        0.000000e+00, 0.000000e+00, 4.020000e+03, 1.000000e+00,\n",
       "        1.000000e+00, 4.020000e+03, 1.000000e+00, 6.000000e+00,\n",
       "        1.000000e+00, 0.000000e+00, 1.200000e+04,          nan,\n",
       "        1.000000e+00, 1.000000e+00, 0.000000e+00, 0.000000e+00,\n",
       "        1.000000e+00, 0.000000e+00, 1.000000e+00, 6.000000e+00,\n",
       "        9.700000e+01],\n",
       "       [5.300000e+01, 0.000000e+00, 2.000000e+00, 0.000000e+00,\n",
       "        3.291431e+04, 0.000000e+00, 0.000000e+00, 2.280000e+02,\n",
       "        1.000000e+00, 1.000000e+00, 0.000000e+00, 2.908092e+04,\n",
       "        0.000000e+00, 0.000000e+00, 1.000000e+00, 0.000000e+00,\n",
       "        0.000000e+00, 0.000000e+00, 0.000000e+00, 0.000000e+00,\n",
       "        0.000000e+00, 0.000000e+00, 1.000000e+00, 3.000000e+00,\n",
       "        1.000000e+00, 0.000000e+00, 1.000000e+05,          nan,\n",
       "        1.000000e+00, 1.000000e+00, 1.000000e+00, 0.000000e+00,\n",
       "        1.000000e+00, 0.000000e+00, 1.000000e+00, 4.000000e+00,\n",
       "        1.560000e+02]])"
      ]
     },
     "execution_count": 7,
     "metadata": {},
     "output_type": "execute_result"
    }
   ],
   "source": [
    "X[:2]"
   ]
  },
  {
   "cell_type": "code",
   "execution_count": 8,
   "metadata": {},
   "outputs": [
    {
     "data": {
      "text/plain": [
       "array([0, 0, 0, 0, 1, 0, 1, 0, 0, 0])"
      ]
     },
     "execution_count": 8,
     "metadata": {},
     "output_type": "execute_result"
    }
   ],
   "source": [
    "y[:10]"
   ]
  },
  {
   "cell_type": "code",
   "execution_count": 9,
   "metadata": {},
   "outputs": [],
   "source": [
    "from sklearn.model_selection import train_test_split\n",
    "\n",
    "# Split data into train and test samples\n",
    "X_train, X_test, y_train, y_test = train_test_split(X, y, test_size=0.3, random_state=42)"
   ]
  },
  {
   "cell_type": "markdown",
   "metadata": {},
   "source": [
    "## Preprocessing #2\n",
    "\n",
    "Replace missing values with mean feature values. To do this, we need to calculate mean values for each input feature using **train** sample. "
   ]
  },
  {
   "cell_type": "code",
   "execution_count": 10,
   "metadata": {},
   "outputs": [],
   "source": [
    "# Import imputer\n",
    "from sklearn.impute import SimpleImputer\n",
    "\n",
    "# Create object of the class and set up its parameters\n",
    "imp = SimpleImputer(missing_values=np.nan, strategy=\"mean\")\n",
    "\n",
    "# Calculate mean values for each feature\n",
    "imp.fit(X_train)\n",
    "\n",
    "# Replace missing values in train and test samples\n",
    "X_train = imp.transform(X_train)\n",
    "X_test = imp.transform(X_test)"
   ]
  },
  {
   "cell_type": "markdown",
   "metadata": {},
   "source": [
    "Scale input data using StandardScaler:\n",
    "$$\n",
    "X_{new} = \\frac{X - \\mu}{\\sigma}\n",
    "$$"
   ]
  },
  {
   "cell_type": "code",
   "execution_count": 11,
   "metadata": {},
   "outputs": [],
   "source": [
    "# Import StandardScaler\n",
    "from sklearn.preprocessing import StandardScaler\n",
    "\n",
    "# Create object of the class and set up its parameters\n",
    "ss = StandardScaler()\n",
    "\n",
    "# Estimate mean and sigma values\n",
    "ss.fit(X_train)\n",
    "\n",
    "# Scale train and test samples\n",
    "X_train = ss.transform(X_train)\n",
    "X_test = ss.transform(X_test)"
   ]
  },
  {
   "cell_type": "markdown",
   "metadata": {},
   "source": [
    "## Fit Classifiers\n",
    "\n",
    "You have learned three classifiers:\n",
    "* kNN\n",
    "* Decision Tree\n",
    "* Logistic Regression\n",
    "\n",
    "We will use scikit-learn implementation of these classifiers. Their descriptions: [kNN](https://scikit-learn.org/stable/modules/generated/sklearn.neighbors.KNeighborsClassifier.html), [Decision Tree](https://scikit-learn.org/stable/modules/generated/sklearn.tree.DecisionTreeClassifier.html), [Logistic Regression](https://scikit-learn.org/stable/modules/generated/sklearn.linear_model.LogisticRegression.html).\n",
    "\n",
    "\n",
    "[Example:](https://scikit-learn.org/stable/auto_examples/classification/plot_classifier_comparison.html)\n",
    "<center><img src=\"img/clfs.png\" width=\"800\"></center>\n",
    "\n",
    "Let's just import them and fit."
   ]
  },
  {
   "cell_type": "code",
   "execution_count": 12,
   "metadata": {},
   "outputs": [
    {
     "data": {
      "text/plain": [
       "KNeighborsClassifier(algorithm='auto', leaf_size=30, metric='minkowski',\n",
       "                     metric_params=None, n_jobs=None, n_neighbors=5, p=2,\n",
       "                     weights='uniform')"
      ]
     },
     "execution_count": 12,
     "metadata": {},
     "output_type": "execute_result"
    }
   ],
   "source": [
    "# Import kNN classifier\n",
    "from sklearn.neighbors import KNeighborsClassifier\n",
    "\n",
    "# Create object of the classifier's class\n",
    "knn = KNeighborsClassifier(n_neighbors=5)\n",
    "\n",
    "# Fit the classifier\n",
    "knn.fit(X_train, y_train)"
   ]
  },
  {
   "cell_type": "code",
   "execution_count": 13,
   "metadata": {},
   "outputs": [
    {
     "data": {
      "text/plain": [
       "DecisionTreeClassifier(class_weight=None, criterion='gini', max_depth=None,\n",
       "                       max_features=None, max_leaf_nodes=None,\n",
       "                       min_impurity_decrease=0.0, min_impurity_split=None,\n",
       "                       min_samples_leaf=10, min_samples_split=2,\n",
       "                       min_weight_fraction_leaf=0.0, presort=False,\n",
       "                       random_state=None, splitter='best')"
      ]
     },
     "execution_count": 13,
     "metadata": {},
     "output_type": "execute_result"
    }
   ],
   "source": [
    "# Import Decision Tree classifier\n",
    "from sklearn.tree import DecisionTreeClassifier\n",
    "\n",
    "# Create object of the classifier's class\n",
    "dt = DecisionTreeClassifier(criterion='gini', splitter='best', max_depth=None, \n",
    "                            min_samples_split=2, min_samples_leaf=10, class_weight=None)\n",
    "\n",
    "# Fit the classifier\n",
    "dt.fit(X_train, y_train)"
   ]
  },
  {
   "cell_type": "code",
   "execution_count": 14,
   "metadata": {},
   "outputs": [
    {
     "name": "stderr",
     "output_type": "stream",
     "text": [
      "/datadrive/anaconda3/lib/python3.7/site-packages/sklearn/linear_model/logistic.py:432: FutureWarning: Default solver will be changed to 'lbfgs' in 0.22. Specify a solver to silence this warning.\n",
      "  FutureWarning)\n"
     ]
    },
    {
     "data": {
      "text/plain": [
       "LogisticRegression(C=1.0, class_weight=None, dual=False, fit_intercept=True,\n",
       "                   intercept_scaling=1, l1_ratio=None, max_iter=1000,\n",
       "                   multi_class='warn', n_jobs=None, penalty='l2',\n",
       "                   random_state=None, solver='warn', tol=0.0001, verbose=0,\n",
       "                   warm_start=False)"
      ]
     },
     "execution_count": 14,
     "metadata": {},
     "output_type": "execute_result"
    }
   ],
   "source": [
    "# Import Logistic Regression classifier\n",
    "from sklearn.linear_model import LogisticRegression\n",
    "\n",
    "# Create object of the classifier's class\n",
    "logreg = LogisticRegression(penalty='l2', C=1.0, max_iter=1000, class_weight=None)\n",
    "\n",
    "# Fit the classifier\n",
    "logreg.fit(X_train, y_train)"
   ]
  },
  {
   "cell_type": "markdown",
   "metadata": {},
   "source": [
    "## Make Predictions"
   ]
  },
  {
   "cell_type": "markdown",
   "metadata": {},
   "source": [
    "Make prediction of target **label**."
   ]
  },
  {
   "cell_type": "code",
   "execution_count": 15,
   "metadata": {},
   "outputs": [],
   "source": [
    "# kNN\n",
    "y_test_knn = knn.predict(X_test)\n",
    "\n",
    "# Decision Tree\n",
    "y_test_dt = dt.predict(X_test)\n",
    "\n",
    "# Logistic Regression\n",
    "y_test_logreg = logreg.predict(X_test)"
   ]
  },
  {
   "cell_type": "code",
   "execution_count": 16,
   "metadata": {},
   "outputs": [
    {
     "name": "stdout",
     "output_type": "stream",
     "text": [
      "Truth  :  [0 0 0 1 0 0 0 0 0 0]\n",
      "kNN    :  [0 0 0 0 0 0 0 0 0 0]\n",
      "DT     :  [0 0 0 0 0 0 0 0 0 0]\n",
      "LogReg :  [0 0 0 0 0 0 0 0 0 0]\n"
     ]
    }
   ],
   "source": [
    "print(\"Truth  : \", y_test[:10])\n",
    "print(\"kNN    : \", y_test_knn[:10])\n",
    "print(\"DT     : \", y_test_dt[:10])\n",
    "print(\"LogReg : \", y_test_logreg[:10])"
   ]
  },
  {
   "cell_type": "markdown",
   "metadata": {},
   "source": [
    "Make prediction of **probability** of customer's positive response."
   ]
  },
  {
   "cell_type": "code",
   "execution_count": 17,
   "metadata": {},
   "outputs": [],
   "source": [
    "# kNN\n",
    "y_test_proba_knn = knn.predict_proba(X_test)[:, 1] # probability of positive response\n",
    "\n",
    "# Decision Tree\n",
    "y_test_proba_dt = dt.predict_proba(X_test)[:, 1]\n",
    "\n",
    "# Logistic Regression\n",
    "y_test_proba_logreg = logreg.predict_proba(X_test)[:, 1]"
   ]
  },
  {
   "cell_type": "code",
   "execution_count": 18,
   "metadata": {},
   "outputs": [
    {
     "name": "stdout",
     "output_type": "stream",
     "text": [
      "Truth  :  [0 0 0 1 0 0 0 0 0 0]\n",
      "kNN    :  [0.  0.  0.2 0.4 0.  0.  0.2 0.  0.2 0. ]\n",
      "DT     :  [0.         0.09090909 0.1        0.09090909 0.35714286 0.2\n",
      " 0.         0.35714286 0.         0.        ]\n",
      "LogReg :  [0.06793106 0.07958647 0.04876323 0.16140217 0.07857409 0.08359316\n",
      " 0.0760176  0.21434238 0.02304655 0.0929234 ]\n"
     ]
    }
   ],
   "source": [
    "print(\"Truth  : \", y_test[:10])\n",
    "print(\"kNN    : \", y_test_proba_knn[:10])\n",
    "print(\"DT     : \", y_test_proba_dt[:10])\n",
    "print(\"LogReg : \", y_test_proba_logreg[:10])"
   ]
  },
  {
   "cell_type": "markdown",
   "metadata": {},
   "source": [
    "## Label-based Quality Metrics"
   ]
  },
  {
   "cell_type": "markdown",
   "metadata": {},
   "source": [
    "Consider a confusion matrix:\n",
    "\n",
    "<center><img src='img/binary_conf.png'></center>\n",
    "\n",
    "* TP (true positive) - currectly predicted positives\n",
    "* FP (false positive) - incorrectly predicted negatives (1st order error)\n",
    "* FN (false negative) - incorrectly predicted positives (2nd order error)\n",
    "* TN (true negative) - currectly predicted negatives\n",
    "* Pos (Neg) - total number of positives (negatives)\n",
    "\n",
    "Quality metrics:\n",
    "\n",
    "* $ \\text{Accuracy} = \\frac{TP + TN}{Pos+Neg}$\n",
    "* $ \\text{Error rate} = 1 -\\text{accuracy}$\n",
    "* $ \\text{Precision} =\\frac{TP}{TP + FP}$ \n",
    "* $ \\text{Recall} =\\frac{TP}{TP + FN} = \\frac{TP}{Pos}$\n",
    "* $ \\text{F}_\\beta \\text{-score} = (1 + \\beta^2) \\cdot \\frac{\\mathrm{precision} \\cdot \\mathrm{recall}}{(\\beta^2 \\cdot \\mathrm{precision}) + \\mathrm{recall}}$"
   ]
  },
  {
   "cell_type": "code",
   "execution_count": 19,
   "metadata": {},
   "outputs": [],
   "source": [
    "from sklearn.metrics import accuracy_score, precision_score, recall_score, f1_score\n",
    "\n",
    "def quality_metrics_report(y_true, y_pred):\n",
    "    \n",
    "    tp = np.sum( (y_true == 1) * (y_pred == 1) )\n",
    "    fp = np.sum( (y_true == 0) * (y_pred == 1) )\n",
    "    fn = np.sum( (y_true == 1) * (y_pred == 0) )\n",
    "    tn = np.sum( (y_true == 0) * (y_pred == 0) )\n",
    "    \n",
    "    accuracy = accuracy_score(y_true, y_pred)\n",
    "    error_rate = 1 - accuracy\n",
    "    precision = precision_score(y_true, y_pred)\n",
    "    recall = recall_score(y_true, y_pred)\n",
    "    f1 = f1_score(y_true, y_pred)\n",
    "    \n",
    "    return [tp, fp, fn, tn, accuracy, error_rate, precision, recall, f1]"
   ]
  },
  {
   "cell_type": "code",
   "execution_count": 20,
   "metadata": {},
   "outputs": [
    {
     "data": {
      "text/html": [
       "<div>\n",
       "<style scoped>\n",
       "    .dataframe tbody tr th:only-of-type {\n",
       "        vertical-align: middle;\n",
       "    }\n",
       "\n",
       "    .dataframe tbody tr th {\n",
       "        vertical-align: top;\n",
       "    }\n",
       "\n",
       "    .dataframe thead th {\n",
       "        text-align: right;\n",
       "    }\n",
       "</style>\n",
       "<table border=\"1\" class=\"dataframe\">\n",
       "  <thead>\n",
       "    <tr style=\"text-align: right;\">\n",
       "      <th></th>\n",
       "      <th>TP</th>\n",
       "      <th>FP</th>\n",
       "      <th>FN</th>\n",
       "      <th>TN</th>\n",
       "      <th>Accuracy</th>\n",
       "      <th>Error rate</th>\n",
       "      <th>Precision</th>\n",
       "      <th>Recall</th>\n",
       "      <th>F1</th>\n",
       "    </tr>\n",
       "  </thead>\n",
       "  <tbody>\n",
       "    <tr>\n",
       "      <td>kNN</td>\n",
       "      <td>20</td>\n",
       "      <td>79</td>\n",
       "      <td>511</td>\n",
       "      <td>3911</td>\n",
       "      <td>0.869498</td>\n",
       "      <td>0.130502</td>\n",
       "      <td>0.20202</td>\n",
       "      <td>0.0376648</td>\n",
       "      <td>0.0634921</td>\n",
       "    </tr>\n",
       "    <tr>\n",
       "      <td>DT</td>\n",
       "      <td>33</td>\n",
       "      <td>155</td>\n",
       "      <td>498</td>\n",
       "      <td>3835</td>\n",
       "      <td>0.855563</td>\n",
       "      <td>0.144437</td>\n",
       "      <td>0.175532</td>\n",
       "      <td>0.0621469</td>\n",
       "      <td>0.0917942</td>\n",
       "    </tr>\n",
       "    <tr>\n",
       "      <td>LogReg</td>\n",
       "      <td>4</td>\n",
       "      <td>11</td>\n",
       "      <td>527</td>\n",
       "      <td>3979</td>\n",
       "      <td>0.881</td>\n",
       "      <td>0.119</td>\n",
       "      <td>0.266667</td>\n",
       "      <td>0.00753296</td>\n",
       "      <td>0.014652</td>\n",
       "    </tr>\n",
       "  </tbody>\n",
       "</table>\n",
       "</div>"
      ],
      "text/plain": [
       "        TP   FP   FN    TN  Accuracy Error rate Precision      Recall  \\\n",
       "kNN     20   79  511  3911  0.869498   0.130502   0.20202   0.0376648   \n",
       "DT      33  155  498  3835  0.855563   0.144437  0.175532   0.0621469   \n",
       "LogReg   4   11  527  3979     0.881      0.119  0.266667  0.00753296   \n",
       "\n",
       "               F1  \n",
       "kNN     0.0634921  \n",
       "DT      0.0917942  \n",
       "LogReg   0.014652  "
      ]
     },
     "execution_count": 20,
     "metadata": {},
     "output_type": "execute_result"
    }
   ],
   "source": [
    "metrics_report = pd.DataFrame(columns=['TP', 'FP', 'FN', 'TN', 'Accuracy', 'Error rate', 'Precision', 'Recall', 'F1'])\n",
    "\n",
    "metrics_report.loc['kNN', :] = quality_metrics_report(y_test, y_test_knn)\n",
    "metrics_report.loc['DT', :] = quality_metrics_report(y_test, y_test_dt)\n",
    "metrics_report.loc['LogReg', :] = quality_metrics_report(y_test, y_test_logreg)\n",
    "\n",
    "metrics_report"
   ]
  },
  {
   "cell_type": "markdown",
   "metadata": {},
   "source": [
    "## Probability-based Quality Metrics"
   ]
  },
  {
   "cell_type": "markdown",
   "metadata": {},
   "source": [
    "**Reliability quality measures** evaluate class probability prediction.\n",
    "* Brier score:\n",
    "$$\n",
    "    \\frac{1}{N}\\sum_{n=1}^{N}\\sum_{c=1}^{C}\\left(\\mathbb{I}[y_{n}=c]-\\widehat{p}(y=c|x_{n})\\right)^{2}\n",
    "$$\n",
    "* Logloss (cross entropy):\n",
    "$$\n",
    "    \\frac{1}{N}\\sum_{n=1}^{N}\\sum_{c=1}^{C}\\mathbb{I}[y_{n}=c]\\ln(\\widehat{p}(y=c|x_{n}))\n",
    "$$"
   ]
  },
  {
   "cell_type": "code",
   "execution_count": 21,
   "metadata": {},
   "outputs": [],
   "source": [
    "from sklearn.metrics import brier_score_loss, log_loss\n",
    "\n",
    "def proba_quality_metrics_report(y_true, y_poba):\n",
    "    \n",
    "    brier = brier_score_loss(y_true, y_poba)\n",
    "    logloss = log_loss(y_true, y_poba)\n",
    "    \n",
    "    return [brier, logloss]"
   ]
  },
  {
   "cell_type": "code",
   "execution_count": 22,
   "metadata": {},
   "outputs": [
    {
     "data": {
      "text/html": [
       "<div>\n",
       "<style scoped>\n",
       "    .dataframe tbody tr th:only-of-type {\n",
       "        vertical-align: middle;\n",
       "    }\n",
       "\n",
       "    .dataframe tbody tr th {\n",
       "        vertical-align: top;\n",
       "    }\n",
       "\n",
       "    .dataframe thead th {\n",
       "        text-align: right;\n",
       "    }\n",
       "</style>\n",
       "<table border=\"1\" class=\"dataframe\">\n",
       "  <thead>\n",
       "    <tr style=\"text-align: right;\">\n",
       "      <th></th>\n",
       "      <th>Brier score</th>\n",
       "      <th>Logloss</th>\n",
       "    </tr>\n",
       "  </thead>\n",
       "  <tbody>\n",
       "    <tr>\n",
       "      <td>kNN</td>\n",
       "      <td>0.119372</td>\n",
       "      <td>2.07906</td>\n",
       "    </tr>\n",
       "    <tr>\n",
       "      <td>DT</td>\n",
       "      <td>0.128488</td>\n",
       "      <td>2.24663</td>\n",
       "    </tr>\n",
       "    <tr>\n",
       "      <td>LogReg</td>\n",
       "      <td>0.100211</td>\n",
       "      <td>0.343371</td>\n",
       "    </tr>\n",
       "  </tbody>\n",
       "</table>\n",
       "</div>"
      ],
      "text/plain": [
       "       Brier score   Logloss\n",
       "kNN       0.119372   2.07906\n",
       "DT        0.128488   2.24663\n",
       "LogReg    0.100211  0.343371"
      ]
     },
     "execution_count": 22,
     "metadata": {},
     "output_type": "execute_result"
    }
   ],
   "source": [
    "metrics_report = pd.DataFrame(columns=['Brier score', 'Logloss'])\n",
    "\n",
    "metrics_report.loc['kNN', :] = proba_quality_metrics_report(y_test, y_test_proba_knn)\n",
    "metrics_report.loc['DT', :] = proba_quality_metrics_report(y_test, y_test_proba_dt)\n",
    "metrics_report.loc['LogReg', :] = proba_quality_metrics_report(y_test, y_test_proba_logreg)\n",
    "\n",
    "metrics_report"
   ]
  },
  {
   "cell_type": "markdown",
   "metadata": {},
   "source": [
    "### ROC curve\n",
    "\n",
    "The receiver operating characteristic curve (ROC) measures how well a classifier separates two classes. \n",
    "\n",
    "Let $y_{\\rm i}$ is a true label and $\\hat{y}_{\\rm i}$ is a predicted score for the $i^{\\rm th}$ observation. \n",
    "\n",
    "The numbers of positive and negative observations: $\\mathcal{I}_{\\rm 1} = \\{i: y_{\\rm i}=1\\}$ and $\\mathcal{I}_{\\rm 0} = \\{i: y_{\\rm i}=0\\}$. \n",
    "\n",
    "The sum of observation weights for each class: $W_{\\rm 1} = \\sum_{i \\in \\mathcal{I}_{\\rm 1}} w_{\\rm i}$ and  $W_{\\rm 0} = \\sum_{i \\in \\mathcal{I}_{\\rm 0}} w_{\\rm i}$. \n",
    "\n",
    "For each predicted score threshold value $\\tau$, True Positive Rate (TPR) and False Positive Rate (FPR) are calculated:\n",
    "\n",
    "\\begin{equation}\n",
    "TPR(\\tau) = \\frac{1}{W_{\\rm 1}} \\sum_{i \\in \\mathcal{I}_{\\rm 1}} I[\\hat{y}_{\\rm i} \\ge \\tau] w_{\\rm i}\n",
    "\\end{equation}\n",
    "\n",
    "\\begin{equation}\n",
    "FPR(\\tau) = \\frac{1}{W_{\\rm 0}} \\sum_{i \\in \\mathcal{I}_{\\rm 0}} I[\\hat{y}_{\\rm i} \\ge \\tau] w_{\\rm i}\n",
    "\\end{equation}"
   ]
  },
  {
   "cell_type": "code",
   "execution_count": 23,
   "metadata": {},
   "outputs": [],
   "source": [
    "from sklearn.metrics import roc_curve, auc\n",
    "\n",
    "fpr_knn, tpr_knn, _ = roc_curve(y_test, y_test_proba_knn)\n",
    "auc_knn = auc(fpr_knn, tpr_knn)\n",
    "\n",
    "fpr_dt, tpr_dt, _ = roc_curve(y_test, y_test_proba_dt)\n",
    "auc_dt = auc(fpr_dt, tpr_dt)\n",
    "\n",
    "fpr_logreg, tpr_logreg, _ = roc_curve(y_test, y_test_proba_logreg)\n",
    "auc_logreg = auc(fpr_logreg, tpr_logreg)"
   ]
  },
  {
   "cell_type": "code",
   "execution_count": 24,
   "metadata": {},
   "outputs": [
    {
     "data": {
      "image/png": "[encoded data removed]",
      "text/plain": [
       "<Figure size 648x432 with 1 Axes>"
      ]
     },
     "metadata": {
      "needs_background": "light"
     },
     "output_type": "display_data"
    },
    {
     "name": "stdout",
     "output_type": "stream",
     "text": [
      "kNN ROC AUC    : 0.5619278894033576\n",
      "DT ROC AUC     : 0.5552015632301092\n",
      "LogReg ROC AUC : 0.6743091249781704\n"
     ]
    }
   ],
   "source": [
    "plt.figure(figsize=(9, 6))\n",
    "plt.plot(fpr_knn, tpr_knn, linewidth=3, label='kNN')\n",
    "plt.plot(fpr_dt, tpr_dt, linewidth=3, label='DT')\n",
    "plt.plot(fpr_logreg, tpr_logreg, linewidth=3, label='LogReg')\n",
    "\n",
    "plt.xlabel('FPR', size=18)\n",
    "plt.ylabel('TPR', size=18)\n",
    "\n",
    "plt.legend(loc='best', fontsize=14)\n",
    "plt.grid(b=1)\n",
    "plt.show()\n",
    "\n",
    "print('kNN ROC AUC    :', auc_knn)\n",
    "print('DT ROC AUC     :', auc_dt)\n",
    "print('LogReg ROC AUC :', auc_logreg)"
   ]
  },
  {
   "cell_type": "markdown",
   "metadata": {},
   "source": [
    "### Precision-Recall curve\n",
    "\n",
    "The same idea as for ROC curve."
   ]
  },
  {
   "cell_type": "code",
   "execution_count": 25,
   "metadata": {},
   "outputs": [],
   "source": [
    "from sklearn.metrics import precision_recall_curve, auc\n",
    "\n",
    "precision_knn, recall_knn, _ = precision_recall_curve(y_test, y_test_proba_knn)\n",
    "#auc_knn = auc(fpr_knn, tpr_knn)\n",
    "\n",
    "precision_dt, recall_dt, _ = precision_recall_curve(y_test, y_test_proba_dt)\n",
    "#auc_dt = auc(fpr_dt, tpr_dt)\n",
    "\n",
    "precision_logreg, recall_logreg, _ = precision_recall_curve(y_test, y_test_proba_logreg)\n",
    "#auc_logreg = auc(fpr_logreg, tpr_logreg)"
   ]
  },
  {
   "cell_type": "code",
   "execution_count": 26,
   "metadata": {},
   "outputs": [
    {
     "data": {
      "image/png": "[encoded data removed]",
      "text/plain": [
       "<Figure size 648x432 with 1 Axes>"
      ]
     },
     "metadata": {
      "needs_background": "light"
     },
     "output_type": "display_data"
    }
   ],
   "source": [
    "plt.figure(figsize=(9, 6))\n",
    "plt.plot(recall_knn, precision_knn, linewidth=3, label='kNN')\n",
    "plt.plot(recall_dt, precision_dt, linewidth=3, label='DT')\n",
    "plt.plot(recall_logreg, precision_logreg, linewidth=3, label='LogReg')\n",
    "\n",
    "plt.xlabel('Recall', size=18)\n",
    "plt.ylabel('Precision', size=18)\n",
    "\n",
    "plt.legend(loc='best', fontsize=14)\n",
    "plt.grid(b=1)\n",
    "plt.show()"
   ]
  },
  {
   "cell_type": "markdown",
   "metadata": {},
   "source": [
    "**Questions**:\n",
    "* Which classifier is better?\n",
    "* How can you improve the quality of these models?"
   ]
  },
  {
   "cell_type": "markdown",
   "metadata": {},
   "source": [
    "---"
   ]
  },
  {
   "cell_type": "markdown",
   "metadata": {},
   "source": [
    "# Regression Quality Metrics"
   ]
  },
  {
   "cell_type": "markdown",
   "metadata": {},
   "source": [
    "## Create Data"
   ]
  },
  {
   "cell_type": "code",
   "execution_count": 27,
   "metadata": {},
   "outputs": [],
   "source": [
    "# Create the dataset\n",
    "X = np.linspace(0, 6, 200)[:, np.newaxis]\n",
    "y = np.sin(X).ravel() + np.sin(6 * X).ravel() + np.random.RandomState(1).normal(0, 0.1, X.shape[0]) + 3"
   ]
  },
  {
   "cell_type": "code",
   "execution_count": 28,
   "metadata": {},
   "outputs": [
    {
     "data": {
      "text/plain": [
       "array([[0.        ],\n",
       "       [0.03015075],\n",
       "       [0.06030151],\n",
       "       [0.09045226],\n",
       "       [0.12060302]])"
      ]
     },
     "execution_count": 28,
     "metadata": {},
     "output_type": "execute_result"
    }
   ],
   "source": [
    "X[:5]"
   ]
  },
  {
   "cell_type": "code",
   "execution_count": 29,
   "metadata": {},
   "outputs": [
    {
     "data": {
      "text/plain": [
       "array([3.16243454, 3.14888995, 3.36141453, 3.49949366, 3.86895208])"
      ]
     },
     "execution_count": 29,
     "metadata": {},
     "output_type": "execute_result"
    }
   ],
   "source": [
    "y[:5]"
   ]
  },
  {
   "cell_type": "code",
   "execution_count": 30,
   "metadata": {},
   "outputs": [
    {
     "data": {
      "image/png": "[encoded data removed]",
      "text/plain": [
       "<Figure size 648x432 with 1 Axes>"
      ]
     },
     "metadata": {
      "needs_background": "light"
     },
     "output_type": "display_data"
    }
   ],
   "source": [
    "plt.figure(figsize=(9, 6))\n",
    "plt.scatter(X[:, 0], y)\n",
    "\n",
    "plt.xlabel('X', size=18)\n",
    "plt.ylabel('y', size=18)\n",
    "plt.grid(b=1)\n",
    "plt.show()"
   ]
  },
  {
   "cell_type": "markdown",
   "metadata": {},
   "source": [
    "## Train / Test Split"
   ]
  },
  {
   "cell_type": "code",
   "execution_count": 31,
   "metadata": {},
   "outputs": [],
   "source": [
    "from sklearn.model_selection import train_test_split\n",
    "\n",
    "# Split data into train and test samples\n",
    "X_train, X_test, y_train, y_test = train_test_split(X, y, test_size=0.5, random_state=42)"
   ]
  },
  {
   "cell_type": "markdown",
   "metadata": {},
   "source": [
    "## Fit Regressors\n",
    "\n",
    "You have learnt three regressors:\n",
    "* kNN\n",
    "* Decision Tree\n",
    "* Linear Regression\n",
    "\n",
    "We will use scikit-learn implementation of these regressors. Their descriptions: [kNN](https://scikit-learn.org/stable/modules/generated/sklearn.neighbors.KNeighborsRegressor.html), [Decision Tree](https://scikit-learn.org/stable/modules/generated/sklearn.tree.DecisionTreeRegressor.html), [Logistic Regression](https://scikit-learn.org/stable/modules/generated/sklearn.linear_model.LinearRegression.html).\n",
    "\n",
    "Let's just import them and fit."
   ]
  },
  {
   "cell_type": "code",
   "execution_count": 32,
   "metadata": {},
   "outputs": [
    {
     "data": {
      "text/plain": [
       "KNeighborsRegressor(algorithm='auto', leaf_size=30, metric='minkowski',\n",
       "                    metric_params=None, n_jobs=None, n_neighbors=10, p=2,\n",
       "                    weights='uniform')"
      ]
     },
     "execution_count": 32,
     "metadata": {},
     "output_type": "execute_result"
    }
   ],
   "source": [
    "# Import kNN regressor\n",
    "from sklearn.neighbors import KNeighborsRegressor\n",
    "\n",
    "# Create object of the regressor's class\n",
    "knn_reg = KNeighborsRegressor(n_neighbors=10)\n",
    "\n",
    "# Fit the regressor\n",
    "knn_reg.fit(X_train, y_train)"
   ]
  },
  {
   "cell_type": "code",
   "execution_count": 33,
   "metadata": {},
   "outputs": [
    {
     "data": {
      "text/plain": [
       "DecisionTreeRegressor(criterion='mse', max_depth=4, max_features=None,\n",
       "                      max_leaf_nodes=None, min_impurity_decrease=0.0,\n",
       "                      min_impurity_split=None, min_samples_leaf=1,\n",
       "                      min_samples_split=2, min_weight_fraction_leaf=0.0,\n",
       "                      presort=False, random_state=None, splitter='best')"
      ]
     },
     "execution_count": 33,
     "metadata": {},
     "output_type": "execute_result"
    }
   ],
   "source": [
    "# Import Decision Tree regressor\n",
    "from sklearn.tree import DecisionTreeRegressor\n",
    "\n",
    "# Create object of the regressor's class\n",
    "dt_reg = DecisionTreeRegressor(criterion='mse', splitter='best', max_depth=4, \n",
    "                            min_samples_split=2, min_samples_leaf=1)\n",
    "\n",
    "# Fit the regressor\n",
    "dt_reg.fit(X_train, y_train)"
   ]
  },
  {
   "cell_type": "code",
   "execution_count": 34,
   "metadata": {},
   "outputs": [
    {
     "data": {
      "text/plain": [
       "LinearRegression(copy_X=True, fit_intercept=True, n_jobs=None, normalize=False)"
      ]
     },
     "execution_count": 34,
     "metadata": {},
     "output_type": "execute_result"
    }
   ],
   "source": [
    "# Import Linear Regression regressor\n",
    "from sklearn.linear_model import LinearRegression\n",
    "\n",
    "# Create object of the regressor's class\n",
    "linreg = LinearRegression()\n",
    "\n",
    "# Fit the regressor\n",
    "linreg.fit(X_train, y_train)"
   ]
  },
  {
   "cell_type": "markdown",
   "metadata": {},
   "source": [
    "## Make Predictions"
   ]
  },
  {
   "cell_type": "code",
   "execution_count": 35,
   "metadata": {},
   "outputs": [],
   "source": [
    "# kNN\n",
    "y_test_knn_reg = knn_reg.predict(X_test)\n",
    "\n",
    "# DT\n",
    "y_test_dt_reg = dt_reg.predict(X_test)\n",
    "\n",
    "# LinReg\n",
    "y_test_linreg = linreg.predict(X_test)"
   ]
  },
  {
   "cell_type": "code",
   "execution_count": 36,
   "metadata": {},
   "outputs": [
    {
     "data": {
      "image/png": "[encoded data removed]",
      "text/plain": [
       "<Figure size 1080x432 with 1 Axes>"
      ]
     },
     "metadata": {
      "needs_background": "light"
     },
     "output_type": "display_data"
    }
   ],
   "source": [
    "plt.figure(figsize=(15, 6))\n",
    "plt.scatter(X_test[:, 0], y_test, color='0', label='Truth')\n",
    "\n",
    "sortd_inds = np.argsort(X_test[:, 0])\n",
    "plt.plot(X_test[sortd_inds, 0], y_test_knn_reg[sortd_inds], linewidth=3, color='b', label='kNN')\n",
    "plt.plot(X_test[sortd_inds, 0], y_test_dt_reg[sortd_inds], linewidth=3, color='r', label='DT')\n",
    "plt.plot(X_test[sortd_inds, 0], y_test_linreg[sortd_inds], linewidth=3, color='g', label='LinReg')\n",
    "\n",
    "plt.xlabel('X', size=18)\n",
    "plt.ylabel('y', size=18)\n",
    "plt.legend(loc='best', fontsize=14)\n",
    "plt.grid(b=1)\n",
    "plt.show()"
   ]
  },
  {
   "cell_type": "markdown",
   "metadata": {},
   "source": [
    "**Questions**:\n",
    "* How can you explain behavior of the regressors?\n",
    "* What will happen if one changes their hyperparameters?"
   ]
  },
  {
   "cell_type": "markdown",
   "metadata": {},
   "source": [
    "## Quality Metrics"
   ]
  },
  {
   "cell_type": "markdown",
   "metadata": {},
   "source": [
    "**1. (R)MSE ((Root) Mean Squared Error)**\n",
    "\n",
    "$$ L(\\hat{y}, y) = \\frac{1}{N}\\sum\\limits_{n=1}^N (y_n - \\hat{y}_n)^2$$\n",
    "\n",
    "**2. MAE (Mean Absolute Error)**\n",
    "\n",
    "$$ L(\\hat{y}, y) = \\frac{1}{N}\\sum\\limits_{n=1}^N |y_n - \\hat{y}_n|$$\n",
    "\n",
    "**3. RSE (Relative Squared Error)**\n",
    "\n",
    "$$ L(\\hat{y}, y) = \\sqrt\\frac{\\sum\\limits_{n=1}^N (y_n - \\hat{y}_n)^2}{\\sum\\limits_{n=1}^N (y_n - \\bar{y})^2}$$\n",
    "\n",
    "**4. RAE (Relative Absolute Error)**\n",
    "\n",
    "$$ L(\\hat{y}, y) = \\frac{\\sum\\limits_{n=1}^N |y_n - \\hat{y}_n|}{\\sum\\limits_{n=1}^N |y_n - \\bar{y}|}$$\n",
    "\n",
    "**5. MAPE (Mean Absolute Persentage Error)**\n",
    "\n",
    "$$ L(\\hat{y}, y) = \\frac{100}{N} \\sum\\limits_{n=1}^N\\left|\\frac{ y_n - \\hat{y}_n}{y_n}\\right|$$\n",
    "\n",
    "\n",
    "**6. RMSLE (Root Mean Squared Logarithmic Error)**\n",
    "\n",
    "$$ L(\\hat{y}, y) = \\sqrt{\\frac{1}{N}\\sum\\limits_{n=1}^N(\\log(y_n + 1) - \\log(\\hat{y}_n + 1))^2}$$"
   ]
  },
  {
   "cell_type": "code",
   "execution_count": 37,
   "metadata": {},
   "outputs": [],
   "source": [
    "from sklearn.metrics import mean_squared_error, mean_absolute_error, mean_squared_log_error, r2_score\n",
    "\n",
    "def regression_quality_metrics_report(y_true, y_pred):\n",
    "    \n",
    "    rmse = np.sqrt( mean_squared_error(y_true, y_pred) )\n",
    "    mae = mean_absolute_error(y_true, y_pred)\n",
    "    rse = np.sqrt( ( (y_true - y_pred)**2 ).sum() / ( (y_true - y_true.mean())**2 ).sum() )\n",
    "    rae = np.abs( y_true - y_pred ).sum() / np.abs( y_true - y_true.mean() ).sum()\n",
    "    mape = 100. / len(y_true) * np.abs( 1. - y_pred/y_true ).sum()\n",
    "    rmsle = np.sqrt( mean_squared_log_error(y_true, y_pred) )\n",
    "    \n",
    "    return [rmse, mae, rse, rae, mape, rmsle]"
   ]
  },
  {
   "cell_type": "code",
   "execution_count": 38,
   "metadata": {},
   "outputs": [
    {
     "data": {
      "text/html": [
       "<div>\n",
       "<style scoped>\n",
       "    .dataframe tbody tr th:only-of-type {\n",
       "        vertical-align: middle;\n",
       "    }\n",
       "\n",
       "    .dataframe tbody tr th {\n",
       "        vertical-align: top;\n",
       "    }\n",
       "\n",
       "    .dataframe thead th {\n",
       "        text-align: right;\n",
       "    }\n",
       "</style>\n",
       "<table border=\"1\" class=\"dataframe\">\n",
       "  <thead>\n",
       "    <tr style=\"text-align: right;\">\n",
       "      <th></th>\n",
       "      <th>RMSE</th>\n",
       "      <th>MAE</th>\n",
       "      <th>RSE</th>\n",
       "      <th>RAE</th>\n",
       "      <th>MAPE</th>\n",
       "      <th>RMSLE</th>\n",
       "    </tr>\n",
       "  </thead>\n",
       "  <tbody>\n",
       "    <tr>\n",
       "      <td>kNN</td>\n",
       "      <td>0.421235</td>\n",
       "      <td>0.357068</td>\n",
       "      <td>0.409443</td>\n",
       "      <td>0.42254</td>\n",
       "      <td>15.3816</td>\n",
       "      <td>0.121781</td>\n",
       "    </tr>\n",
       "    <tr>\n",
       "      <td>DT</td>\n",
       "      <td>0.42662</td>\n",
       "      <td>0.326301</td>\n",
       "      <td>0.414677</td>\n",
       "      <td>0.386131</td>\n",
       "      <td>11.9148</td>\n",
       "      <td>0.112371</td>\n",
       "    </tr>\n",
       "    <tr>\n",
       "      <td>LinReg</td>\n",
       "      <td>0.80769</td>\n",
       "      <td>0.685106</td>\n",
       "      <td>0.785079</td>\n",
       "      <td>0.810726</td>\n",
       "      <td>29.6347</td>\n",
       "      <td>0.223014</td>\n",
       "    </tr>\n",
       "  </tbody>\n",
       "</table>\n",
       "</div>"
      ],
      "text/plain": [
       "            RMSE       MAE       RSE       RAE     MAPE     RMSLE\n",
       "kNN     0.421235  0.357068  0.409443   0.42254  15.3816  0.121781\n",
       "DT       0.42662  0.326301  0.414677  0.386131  11.9148  0.112371\n",
       "LinReg   0.80769  0.685106  0.785079  0.810726  29.6347  0.223014"
      ]
     },
     "execution_count": 38,
     "metadata": {},
     "output_type": "execute_result"
    }
   ],
   "source": [
    "metrics_report = pd.DataFrame(columns=['RMSE', 'MAE', 'RSE', 'RAE', 'MAPE', 'RMSLE'])\n",
    "\n",
    "metrics_report.loc['kNN', :] = regression_quality_metrics_report(y_test, y_test_knn_reg)\n",
    "metrics_report.loc['DT', :] = regression_quality_metrics_report(y_test, y_test_dt_reg)\n",
    "metrics_report.loc['LinReg', :] = regression_quality_metrics_report(y_test, y_test_linreg)\n",
    "\n",
    "metrics_report"
   ]
  },
  {
   "cell_type": "markdown",
   "metadata": {},
   "source": [
    "**Questions**:\n",
    "* Which regressor is better?\n",
    "* How can you improve the quality of these models??"
   ]
  },
  {
   "cell_type": "markdown",
   "metadata": {},
   "source": [
    "https://catboost.ai/en/docs/concepts/loss-functions"
   ]
  },
  {
   "cell_type": "code",
   "execution_count": null,
   "metadata": {},
   "outputs": [],
   "source": []
  }
 ],
 "metadata": {
  "kernelspec": {
   "display_name": "Python 3 (ipykernel)",
   "language": "python",
   "name": "python3"
  },
  "language_info": {
   "codemirror_mode": {
    "name": "ipython",
    "version": 3
   },
   "file_extension": ".py",
   "mimetype": "text/x-python",
   "name": "python",
   "nbconvert_exporter": "python",
   "pygments_lexer": "ipython3",
   "version": "3.8.11"
  }
 },
 "nbformat": 4,
 "nbformat_minor": 4
}
