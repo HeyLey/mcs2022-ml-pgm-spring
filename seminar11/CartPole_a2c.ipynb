{
  "nbformat": 4,
  "nbformat_minor": 0,
  "metadata": {
    "colab": {
      "name": "CartPole_a2c.ipynb",
      "provenance": []
    },
    "kernelspec": {
      "name": "python3",
      "display_name": "Python 3"
    },
    "language_info": {
      "name": "python"
    },
    "widgets": {
      "application/vnd.jupyter.widget-state+json": {
        "35bf22862e58424eae7eb331d95d02c2": {
          "model_module": "@jupyter-widgets/controls",
          "model_name": "HBoxModel",
          "model_module_version": "1.5.0",
          "state": {
            "_dom_classes": [],
            "_model_module": "@jupyter-widgets/controls",
            "_model_module_version": "1.5.0",
            "_model_name": "HBoxModel",
            "_view_count": null,
            "_view_module": "@jupyter-widgets/controls",
            "_view_module_version": "1.5.0",
            "_view_name": "HBoxView",
            "box_style": "",
            "children": [
              "IPY_MODEL_d7db4f2873c84c06b35f05933004b508",
              "IPY_MODEL_e5a2295aa4c8409e8c0b84bd8dfb0093",
              "IPY_MODEL_eeaf5862b2354949b5ecac7938578d97"
            ],
            "layout": "IPY_MODEL_61003dc72d1e452f8818f7cef2d6f26c"
          }
        },
        "d7db4f2873c84c06b35f05933004b508": {
          "model_module": "@jupyter-widgets/controls",
          "model_name": "HTMLModel",
          "model_module_version": "1.5.0",
          "state": {
            "_dom_classes": [],
            "_model_module": "@jupyter-widgets/controls",
            "_model_module_version": "1.5.0",
            "_model_name": "HTMLModel",
            "_view_count": null,
            "_view_module": "@jupyter-widgets/controls",
            "_view_module_version": "1.5.0",
            "_view_name": "HTMLView",
            "description": "",
            "description_tooltip": null,
            "layout": "IPY_MODEL_9e78bd89f9524b60b3642ad6ba411e83",
            "placeholder": "​",
            "style": "IPY_MODEL_fcddde278432489cabf226962566ecf6",
            "value": "100%"
          }
        },
        "e5a2295aa4c8409e8c0b84bd8dfb0093": {
          "model_module": "@jupyter-widgets/controls",
          "model_name": "FloatProgressModel",
          "model_module_version": "1.5.0",
          "state": {
            "_dom_classes": [],
            "_model_module": "@jupyter-widgets/controls",
            "_model_module_version": "1.5.0",
            "_model_name": "FloatProgressModel",
            "_view_count": null,
            "_view_module": "@jupyter-widgets/controls",
            "_view_module_version": "1.5.0",
            "_view_name": "ProgressView",
            "bar_style": "success",
            "description": "",
            "description_tooltip": null,
            "layout": "IPY_MODEL_8026ad8f82be44aaba94f36614603492",
            "max": 2000,
            "min": 0,
            "orientation": "horizontal",
            "style": "IPY_MODEL_11174616a89e488dab14e66d081864c6",
            "value": 2000
          }
        },
        "eeaf5862b2354949b5ecac7938578d97": {
          "model_module": "@jupyter-widgets/controls",
          "model_name": "HTMLModel",
          "model_module_version": "1.5.0",
          "state": {
            "_dom_classes": [],
            "_model_module": "@jupyter-widgets/controls",
            "_model_module_version": "1.5.0",
            "_model_name": "HTMLModel",
            "_view_count": null,
            "_view_module": "@jupyter-widgets/controls",
            "_view_module_version": "1.5.0",
            "_view_name": "HTMLView",
            "description": "",
            "description_tooltip": null,
            "layout": "IPY_MODEL_71bb0733dc744aa0941aa16eab0b3761",
            "placeholder": "​",
            "style": "IPY_MODEL_7ae49e0fd7d3414d902fa2795603ffd8",
            "value": " 2000/2000 [01:23&lt;00:00, 15.45it/s]"
          }
        },
        "61003dc72d1e452f8818f7cef2d6f26c": {
          "model_module": "@jupyter-widgets/base",
          "model_name": "LayoutModel",
          "model_module_version": "1.2.0",
          "state": {
            "_model_module": "@jupyter-widgets/base",
            "_model_module_version": "1.2.0",
            "_model_name": "LayoutModel",
            "_view_count": null,
            "_view_module": "@jupyter-widgets/base",
            "_view_module_version": "1.2.0",
            "_view_name": "LayoutView",
            "align_content": null,
            "align_items": null,
            "align_self": null,
            "border": null,
            "bottom": null,
            "display": null,
            "flex": null,
            "flex_flow": null,
            "grid_area": null,
            "grid_auto_columns": null,
            "grid_auto_flow": null,
            "grid_auto_rows": null,
            "grid_column": null,
            "grid_gap": null,
            "grid_row": null,
            "grid_template_areas": null,
            "grid_template_columns": null,
            "grid_template_rows": null,
            "height": null,
            "justify_content": null,
            "justify_items": null,
            "left": null,
            "margin": null,
            "max_height": null,
            "max_width": null,
            "min_height": null,
            "min_width": null,
            "object_fit": null,
            "object_position": null,
            "order": null,
            "overflow": null,
            "overflow_x": null,
            "overflow_y": null,
            "padding": null,
            "right": null,
            "top": null,
            "visibility": null,
            "width": null
          }
        },
        "9e78bd89f9524b60b3642ad6ba411e83": {
          "model_module": "@jupyter-widgets/base",
          "model_name": "LayoutModel",
          "model_module_version": "1.2.0",
          "state": {
            "_model_module": "@jupyter-widgets/base",
            "_model_module_version": "1.2.0",
            "_model_name": "LayoutModel",
            "_view_count": null,
            "_view_module": "@jupyter-widgets/base",
            "_view_module_version": "1.2.0",
            "_view_name": "LayoutView",
            "align_content": null,
            "align_items": null,
            "align_self": null,
            "border": null,
            "bottom": null,
            "display": null,
            "flex": null,
            "flex_flow": null,
            "grid_area": null,
            "grid_auto_columns": null,
            "grid_auto_flow": null,
            "grid_auto_rows": null,
            "grid_column": null,
            "grid_gap": null,
            "grid_row": null,
            "grid_template_areas": null,
            "grid_template_columns": null,
            "grid_template_rows": null,
            "height": null,
            "justify_content": null,
            "justify_items": null,
            "left": null,
            "margin": null,
            "max_height": null,
            "max_width": null,
            "min_height": null,
            "min_width": null,
            "object_fit": null,
            "object_position": null,
            "order": null,
            "overflow": null,
            "overflow_x": null,
            "overflow_y": null,
            "padding": null,
            "right": null,
            "top": null,
            "visibility": null,
            "width": null
          }
        },
        "fcddde278432489cabf226962566ecf6": {
          "model_module": "@jupyter-widgets/controls",
          "model_name": "DescriptionStyleModel",
          "model_module_version": "1.5.0",
          "state": {
            "_model_module": "@jupyter-widgets/controls",
            "_model_module_version": "1.5.0",
            "_model_name": "DescriptionStyleModel",
            "_view_count": null,
            "_view_module": "@jupyter-widgets/base",
            "_view_module_version": "1.2.0",
            "_view_name": "StyleView",
            "description_width": ""
          }
        },
        "8026ad8f82be44aaba94f36614603492": {
          "model_module": "@jupyter-widgets/base",
          "model_name": "LayoutModel",
          "model_module_version": "1.2.0",
          "state": {
            "_model_module": "@jupyter-widgets/base",
            "_model_module_version": "1.2.0",
            "_model_name": "LayoutModel",
            "_view_count": null,
            "_view_module": "@jupyter-widgets/base",
            "_view_module_version": "1.2.0",
            "_view_name": "LayoutView",
            "align_content": null,
            "align_items": null,
            "align_self": null,
            "border": null,
            "bottom": null,
            "display": null,
            "flex": null,
            "flex_flow": null,
            "grid_area": null,
            "grid_auto_columns": null,
            "grid_auto_flow": null,
            "grid_auto_rows": null,
            "grid_column": null,
            "grid_gap": null,
            "grid_row": null,
            "grid_template_areas": null,
            "grid_template_columns": null,
            "grid_template_rows": null,
            "height": null,
            "justify_content": null,
            "justify_items": null,
            "left": null,
            "margin": null,
            "max_height": null,
            "max_width": null,
            "min_height": null,
            "min_width": null,
            "object_fit": null,
            "object_position": null,
            "order": null,
            "overflow": null,
            "overflow_x": null,
            "overflow_y": null,
            "padding": null,
            "right": null,
            "top": null,
            "visibility": null,
            "width": null
          }
        },
        "11174616a89e488dab14e66d081864c6": {
          "model_module": "@jupyter-widgets/controls",
          "model_name": "ProgressStyleModel",
          "model_module_version": "1.5.0",
          "state": {
            "_model_module": "@jupyter-widgets/controls",
            "_model_module_version": "1.5.0",
            "_model_name": "ProgressStyleModel",
            "_view_count": null,
            "_view_module": "@jupyter-widgets/base",
            "_view_module_version": "1.2.0",
            "_view_name": "StyleView",
            "bar_color": null,
            "description_width": ""
          }
        },
        "71bb0733dc744aa0941aa16eab0b3761": {
          "model_module": "@jupyter-widgets/base",
          "model_name": "LayoutModel",
          "model_module_version": "1.2.0",
          "state": {
            "_model_module": "@jupyter-widgets/base",
            "_model_module_version": "1.2.0",
            "_model_name": "LayoutModel",
            "_view_count": null,
            "_view_module": "@jupyter-widgets/base",
            "_view_module_version": "1.2.0",
            "_view_name": "LayoutView",
            "align_content": null,
            "align_items": null,
            "align_self": null,
            "border": null,
            "bottom": null,
            "display": null,
            "flex": null,
            "flex_flow": null,
            "grid_area": null,
            "grid_auto_columns": null,
            "grid_auto_flow": null,
            "grid_auto_rows": null,
            "grid_column": null,
            "grid_gap": null,
            "grid_row": null,
            "grid_template_areas": null,
            "grid_template_columns": null,
            "grid_template_rows": null,
            "height": null,
            "justify_content": null,
            "justify_items": null,
            "left": null,
            "margin": null,
            "max_height": null,
            "max_width": null,
            "min_height": null,
            "min_width": null,
            "object_fit": null,
            "object_position": null,
            "order": null,
            "overflow": null,
            "overflow_x": null,
            "overflow_y": null,
            "padding": null,
            "right": null,
            "top": null,
            "visibility": null,
            "width": null
          }
        },
        "7ae49e0fd7d3414d902fa2795603ffd8": {
          "model_module": "@jupyter-widgets/controls",
          "model_name": "DescriptionStyleModel",
          "model_module_version": "1.5.0",
          "state": {
            "_model_module": "@jupyter-widgets/controls",
            "_model_module_version": "1.5.0",
            "_model_name": "DescriptionStyleModel",
            "_view_count": null,
            "_view_module": "@jupyter-widgets/base",
            "_view_module_version": "1.2.0",
            "_view_name": "StyleView",
            "description_width": ""
          }
        }
      }
    }
  },
  "cells": [
    {
      "cell_type": "markdown",
      "source": [
        "Реализация алгоритма Actor Critic для среды [Cart Pole](https://www.gymlibrary.ml/environments/classic_control/cart_pole/)"
      ],
      "metadata": {
        "id": "RY5hYsRi7HvI"
      }
    },
    {
      "cell_type": "code",
      "execution_count": 1,
      "metadata": {
        "id": "yEgKK_kUMikR"
      },
      "outputs": [],
      "source": [
        "!pip install gym pyvirtualdisplay > /dev/null 2>&1\n",
        "!apt-get install -y xvfb python-opengl ffmpeg > /dev/null 2>&1"
      ]
    },
    {
      "cell_type": "code",
      "source": [
        "!apt-get update > /dev/null 2>&1\n",
        "!apt-get install cmake > /dev/null 2>&1\n",
        "!pip install --upgrade setuptools 2>&1\n",
        "!pip install ez_setup > /dev/null 2>&1\n",
        "!pip install gym[atari] > /dev/null 2>&1"
      ],
      "metadata": {
        "colab": {
          "base_uri": "https://localhost:8080/"
        },
        "id": "N7u6SnFoMrGK",
        "outputId": "0b933119-1d84-42b9-f16d-fd7816262960"
      },
      "execution_count": 2,
      "outputs": [
        {
          "output_type": "stream",
          "name": "stdout",
          "text": [
            "Looking in indexes: https://pypi.org/simple, https://us-python.pkg.dev/colab-wheels/public/simple/\n",
            "Requirement already satisfied: setuptools in /usr/local/lib/python3.7/dist-packages (62.3.2)\n"
          ]
        }
      ]
    },
    {
      "cell_type": "code",
      "source": [
        "import gym\n",
        "from gym.wrappers import Monitor\n",
        "import glob\n",
        "import io\n",
        "import base64\n",
        "import numpy as np\n",
        "from tqdm.notebook import tqdm\n",
        "import matplotlib.pyplot as plt\n",
        "from IPython.display import HTML\n",
        "from pyvirtualdisplay import Display\n",
        "from IPython import display as ipythondisplay\n",
        "\n",
        "display = Display(visible=0, size=(800, 600))\n",
        "display.start()\n",
        "\n",
        "\"\"\"\n",
        "Utility functions to enable video recording of gym environment \n",
        "and displaying it.\n",
        "To enable video, just do \"env = wrap_env(env)\"\"\n",
        "\"\"\"\n",
        "\n",
        "\n",
        "def show_video():\n",
        "    mp4list = glob.glob('video/*.mp4')\n",
        "    if len(mp4list) > 0:\n",
        "        mp4 = mp4list[0]\n",
        "        video = io.open(mp4, 'r+b').read()\n",
        "        encoded = base64.b64encode(video)\n",
        "        ipythondisplay.display(HTML(data='''<video alt=\"test\" autoplay \n",
        "                loop controls style=\"height: 400px;\">\n",
        "                <source src=\"data:video/mp4;base64,{0}\" type=\"video/mp4\" />\n",
        "             </video>'''.format(encoded.decode('ascii'))))\n",
        "    else:\n",
        "        print(\"Could not find video\")\n",
        "\n",
        "\n",
        "def wrap_env(env):\n",
        "    env = Monitor(env, './video', force=True)\n",
        "    return env"
      ],
      "metadata": {
        "id": "YLi1oq7ZMugB"
      },
      "execution_count": 3,
      "outputs": []
    },
    {
      "cell_type": "code",
      "source": [
        "# HIDE OUTPUT\n",
        "env = wrap_env(gym.make(\"CartPole-v1\"))\n",
        "\n",
        "observation = env.reset()\n",
        "\n",
        "while True:\n",
        "\n",
        "    env.render()\n",
        "\n",
        "    # your agent goes here\n",
        "    action = env.action_space.sample()\n",
        "\n",
        "    observation, reward, done, info = env.step(action)\n",
        "\n",
        "    if done:\n",
        "        break\n",
        "\n",
        "env.close()\n",
        "show_video()"
      ],
      "metadata": {
        "colab": {
          "base_uri": "https://localhost:8080/",
          "height": 421
        },
        "id": "fyt-ssIxMy0M",
        "outputId": "ec9ab0ea-b4d4-44c0-ecfe-1fbacc2f4340"
      },
      "execution_count": 4,
      "outputs": [
        {
          "output_type": "display_data",
          "data": {
            "text/plain": [
              "<IPython.core.display.HTML object>"
            ],
            "text/html": [
              "<video alt=\"test\" autoplay \n",
              "                loop controls style=\"height: 400px;\">\n",
              "                <source src=\"data:video/mp4;base64,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\" type=\"video/mp4\" />\n",
              "             </video>"
            ]
          },
          "metadata": {}
        }
      ]
    },
    {
      "cell_type": "code",
      "source": [
        "import torch\n",
        "import random\n",
        "from torch import nn"
      ],
      "metadata": {
        "id": "-rppbSYZM1oB"
      },
      "execution_count": 5,
      "outputs": []
    },
    {
      "cell_type": "code",
      "source": [
        "device = torch.device(\"cuda\" if torch.cuda.is_available() else \"cpu\")\n",
        "device = \"cpu\""
      ],
      "metadata": {
        "id": "QlEH6RDqM3NV"
      },
      "execution_count": 6,
      "outputs": []
    },
    {
      "cell_type": "code",
      "source": [
        "class ActorNetwork(nn.Module):\n",
        "\n",
        "    def __init__(self, state_space_dim, action_space_dim):\n",
        "        super().__init__()\n",
        "\n",
        "        self.network = nn.Sequential(\n",
        "            nn.Linear(state_space_dim, 64),\n",
        "            nn.Tanh(),\n",
        "            nn.Linear(64, 64),\n",
        "            nn.Tanh(),\n",
        "            nn.Linear(64, action_space_dim)\n",
        "        )\n",
        "\n",
        "    def forward(self, x):\n",
        "        return self.network(x)\n"
      ],
      "metadata": {
        "id": "ROKR7zVj6lcn"
      },
      "execution_count": 7,
      "outputs": []
    },
    {
      "cell_type": "code",
      "source": [
        "class ValueNetwork(nn.Module):\n",
        "\n",
        "    def __init__(self, state_space_dim):\n",
        "        super().__init__()\n",
        "\n",
        "        self.network = nn.Sequential(\n",
        "            nn.Linear(state_space_dim, 64),\n",
        "            nn.Tanh(),\n",
        "            nn.Linear(64, 64),\n",
        "            nn.Tanh(),\n",
        "            nn.Linear(64, 1)\n",
        "        )\n",
        "\n",
        "    def forward(self, x):\n",
        "        return self.network(x)\n"
      ],
      "metadata": {
        "id": "xy6av4km6mN2"
      },
      "execution_count": 8,
      "outputs": []
    },
    {
      "cell_type": "code",
      "source": [
        "class ActorCriticAgent:\n",
        "    def __init__(self, state_space_dim, action_space_dim):\n",
        "        self.gamma = 0.99\n",
        "        self.state_space_dim = state_space_dim\n",
        "        self.action_space_dim = action_space_dim\n",
        "\n",
        "        self.actor_net = ActorNetwork(state_space_dim, action_space_dim)\n",
        "        self.actor_opt = torch.optim.Adam(self.actor_net.parameters(), lr=1e-4)\n",
        "\n",
        "        self.value_net = ValueNetwork(state_space_dim)\n",
        "        self.value_opt = torch.optim.Adam(self.value_net.parameters(), lr=1e-3)\n",
        "\n",
        "    def choose_action(self, state):\n",
        "        state = torch.tensor(state, dtype=torch.float32)\n",
        "        with torch.no_grad():\n",
        "            net_out = self.actor_net(state)\n",
        "\n",
        "        action_prob = torch.softmax(net_out, 0).detach().cpu().numpy()\n",
        "        return np.random.choice(2, p=action_prob)\n",
        "\n",
        "    def update_policy(self, state1_batch, action_batch, reward_batch, state2_batch, done_batch):\n",
        "        state1_batch = torch.tensor(state1_batch, dtype=torch.float32)\n",
        "        action_batch = torch.tensor(action_batch, dtype=torch.int64)\n",
        "        reward_batch = torch.tensor(reward_batch, dtype=torch.float32).unsqueeze(1)\n",
        "        state2_batch = torch.tensor(state2_batch, dtype=torch.float32)\n",
        "        done_batch = torch.tensor(done_batch, dtype=torch.float32)\n",
        "\n",
        "        with torch.no_grad():\n",
        "            state1_value = self.value_net(state1_batch)\n",
        "            state2_value = self.value_net(state2_batch)\n",
        "            target_value = (reward_batch + (1 - done_batch) * self.gamma * state2_value)\n",
        "\n",
        "        advantage = target_value - state1_value\n",
        "        advantage = advantage.detach()\n",
        "\n",
        "        log_probs = torch.log_softmax(self.actor_net(state1_batch), 1)\n",
        "        log_like = torch.gather(log_probs, 1, action_batch.unsqueeze(1))\n",
        "\n",
        "        actor_loss = -(advantage * log_like).mean()\n",
        "\n",
        "        self.actor_opt.zero_grad()\n",
        "        actor_loss.backward()\n",
        "        torch.nn.utils.clip_grad_norm_(self.actor_net.parameters(), 100)\n",
        "        self.actor_opt.step()\n",
        "\n",
        "        loss2 = (self.value_net(state1_batch) - target_value) ** 2\n",
        "        loss2 = loss2.mean()\n",
        "\n",
        "        self.value_opt.zero_grad()\n",
        "        loss2.backward()\n",
        "        self.value_opt.step()\n"
      ],
      "metadata": {
        "id": "Kg7UgtgG6r4X"
      },
      "execution_count": 9,
      "outputs": []
    },
    {
      "cell_type": "code",
      "source": [
        "def run_episode(agent, env, episode_history):\n",
        "    state1 = env.reset()\n",
        "\n",
        "    episode_reward = 0\n",
        "\n",
        "    max_steps = 200\n",
        "    for step in range(max_steps):\n",
        "        action = agent.choose_action(state1)\n",
        "\n",
        "        state2, reward, done, info = env.step(action)\n",
        "\n",
        "        episode_reward += reward\n",
        "\n",
        "        if done:\n",
        "            reward -= 10\n",
        "\n",
        "        episode_history.append((state1, action, reward, state2, done))\n",
        "\n",
        "        if done:\n",
        "            break\n",
        "\n",
        "        state1 = state2\n",
        "    return episode_reward\n"
      ],
      "metadata": {
        "id": "fEupvt4m6usl"
      },
      "execution_count": 10,
      "outputs": []
    },
    {
      "cell_type": "code",
      "source": [
        "\n",
        "env = gym.make(\"CartPole-v1\")\n",
        "\n",
        "total_episodes = 2000\n",
        "\n",
        "agent = ActorCriticAgent(4, 2)\n",
        "\n",
        "rewards = []\n",
        "smooth_rewards = []\n",
        "\n",
        "for episode in tqdm(range(0, total_episodes)):\n",
        "        episode_history = []\n",
        "\n",
        "        episode_reward = run_episode(agent, env, episode_history)\n",
        "\n",
        "        rewards.append(episode_reward)\n",
        "\n",
        "        smooth_rewards.append(np.mean(rewards[-10:]))\n",
        "\n",
        "        state1_batch = []\n",
        "        action_batch = []\n",
        "        reward_batch = []\n",
        "        state2_batch = []\n",
        "        done_batch = []\n",
        "\n",
        "        for state1, action, reward, state2, done in episode_history:\n",
        "            state1_batch.append(state1)\n",
        "            action_batch.append(action)\n",
        "            reward_batch.append(reward)\n",
        "            state2_batch.append(state2)\n",
        "            done_batch.append(done)\n",
        "\n",
        "        agent.update_policy(state1_batch, action_batch, reward_batch, state2_batch, done_batch)\n"
      ],
      "metadata": {
        "colab": {
          "base_uri": "https://localhost:8080/",
          "height": 86,
          "referenced_widgets": [
            "35bf22862e58424eae7eb331d95d02c2",
            "d7db4f2873c84c06b35f05933004b508",
            "e5a2295aa4c8409e8c0b84bd8dfb0093",
            "eeaf5862b2354949b5ecac7938578d97",
            "61003dc72d1e452f8818f7cef2d6f26c",
            "9e78bd89f9524b60b3642ad6ba411e83",
            "fcddde278432489cabf226962566ecf6",
            "8026ad8f82be44aaba94f36614603492",
            "11174616a89e488dab14e66d081864c6",
            "71bb0733dc744aa0941aa16eab0b3761",
            "7ae49e0fd7d3414d902fa2795603ffd8"
          ]
        },
        "id": "8EJAuN9t6xb1",
        "outputId": "a2751e81-f669-43ca-a278-a5ffdece5890"
      },
      "execution_count": 11,
      "outputs": [
        {
          "output_type": "display_data",
          "data": {
            "text/plain": [
              "  0%|          | 0/2000 [00:00<?, ?it/s]"
            ],
            "application/vnd.jupyter.widget-view+json": {
              "version_major": 2,
              "version_minor": 0,
              "model_id": "35bf22862e58424eae7eb331d95d02c2"
            }
          },
          "metadata": {}
        },
        {
          "output_type": "stream",
          "name": "stderr",
          "text": [
            "/usr/local/lib/python3.7/dist-packages/ipykernel_launcher.py:22: UserWarning: Creating a tensor from a list of numpy.ndarrays is extremely slow. Please consider converting the list to a single numpy.ndarray with numpy.array() before converting to a tensor. (Triggered internally at  ../torch/csrc/utils/tensor_new.cpp:210.)\n"
          ]
        }
      ]
    },
    {
      "cell_type": "code",
      "source": [
        "plt.plot(rewards)\n",
        "plt.plot(smooth_rewards)\n",
        "plt.show()\n"
      ],
      "metadata": {
        "colab": {
          "base_uri": "https://localhost:8080/",
          "height": 265
        },
        "id": "wzHaEXqY6478",
        "outputId": "afe30107-63b8-45d7-e3c0-fd2a7d7b1b06"
      },
      "execution_count": 12,
      "outputs": [
        {
          "output_type": "display_data",
          "data": {
            "text/plain": [
              "<Figure size 432x288 with 1 Axes>"
            ],
            "image/png": "[encoded data removed]"
          },
          "metadata": {
            "needs_background": "light"
          }
        }
      ]
    },
    {
      "cell_type": "code",
      "source": [
        "env = wrap_env(gym.make(\"CartPole-v1\"))\n",
        "\n",
        "observation = env.reset()\n",
        "\n",
        "while True:\n",
        "\n",
        "    env.render()\n",
        "    \n",
        "    action = agent.choose_action(observation)\n",
        "\n",
        "    observation, reward, done, info = env.step(action)\n",
        "\n",
        "    if done:\n",
        "        break\n",
        "\n",
        "env.close()\n",
        "show_video()"
      ],
      "metadata": {
        "colab": {
          "base_uri": "https://localhost:8080/",
          "height": 421
        },
        "id": "9yz4QlmB6xh2",
        "outputId": "af48aed8-f961-454c-bd3e-08a347d003f9"
      },
      "execution_count": 13,
      "outputs": [
        {
          "output_type": "display_data",
          "data": {
            "text/plain": [
              "<IPython.core.display.HTML object>"
            ],
            "text/html": [
              "<video alt=\"test\" autoplay \n",
              "                loop controls style=\"height: 400px;\">\n",
              "                <source src=\"data:video/mp4;base64,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\" type=\"video/mp4\" />\n",
              "             </video>"
            ]
          },
          "metadata": {}
        }
      ]
    }
  ]
}