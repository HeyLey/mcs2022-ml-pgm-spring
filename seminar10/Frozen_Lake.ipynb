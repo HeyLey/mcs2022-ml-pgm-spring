{
 "cells": [
  {
   "cell_type": "markdown",
   "id": "ddc4db03",
   "metadata": {},
   "source": [
    "\n",
    "https://www.gymlibrary.ml/environments/toy_text/frozen_lake/   "
   ]
  },
  {
   "cell_type": "code",
   "execution_count": 6,
   "id": "ec34330b",
   "metadata": {},
   "outputs": [],
   "source": [
    "import numpy as np\n",
    "import gym\n",
    "import matplotlib.pyplot as plt\n",
    "from tqdm.notebook import from tqdm.notebook import tqdm\n",
    "\n"
   ]
  },
  {
   "cell_type": "code",
   "execution_count": 7,
   "id": "9bfe0c2d",
   "metadata": {},
   "outputs": [
    {
     "name": "stdout",
     "output_type": "stream",
     "text": [
      "\n",
      "\u001b[41mS\u001b[0mFFF\n",
      "FHFH\n",
      "FFFH\n",
      "HFFG\n",
      "  (Right)\n",
      "\u001b[41mS\u001b[0mFFF\n",
      "FHFH\n",
      "FFFH\n",
      "HFFG\n",
      "  (Down)\n",
      "\u001b[41mS\u001b[0mFFF\n",
      "FHFH\n",
      "FFFH\n",
      "HFFG\n",
      "  (Down)\n",
      "\u001b[41mS\u001b[0mFFF\n",
      "FHFH\n",
      "FFFH\n",
      "HFFG\n",
      "  (Up)\n",
      "S\u001b[41mF\u001b[0mFF\n",
      "FHFH\n",
      "FFFH\n",
      "HFFG\n",
      "  (Right)\n",
      "S\u001b[41mF\u001b[0mFF\n",
      "FHFH\n",
      "FFFH\n",
      "HFFG\n",
      "  (Left)\n",
      "\u001b[41mS\u001b[0mFFF\n",
      "FHFH\n",
      "FFFH\n",
      "HFFG\n",
      "  (Left)\n",
      "SFFF\n",
      "\u001b[41mF\u001b[0mHFH\n",
      "FFFH\n",
      "HFFG\n",
      "  (Up)\n",
      "\u001b[41mS\u001b[0mFFF\n",
      "FHFH\n",
      "FFFH\n",
      "HFFG\n",
      "  (Right)\n",
      "SFFF\n",
      "\u001b[41mF\u001b[0mHFH\n",
      "FFFH\n",
      "HFFG\n",
      "  (Right)\n",
      "\u001b[41mS\u001b[0mFFF\n",
      "FHFH\n",
      "FFFH\n",
      "HFFG\n"
     ]
    }
   ],
   "source": [
    "MAX_ITERATIONS = 10\n",
    " \n",
    "env = gym.make(\"FrozenLake-v1\", is_slippery=False)\n",
    "env.reset()\n",
    "env.render()\n",
    "for i in range(MAX_ITERATIONS):\n",
    "    random_action = env.action_space.sample()\n",
    "    new_state, reward, done, info = env.step(\n",
    "       random_action)\n",
    "    env.render()\n",
    "    if done:\n",
    "        break"
   ]
  },
  {
   "cell_type": "code",
   "execution_count": 8,
   "id": "e5fdf0e1",
   "metadata": {},
   "outputs": [
    {
     "name": "stdout",
     "output_type": "stream",
     "text": [
      "Actions number4\n",
      "States number 16\n"
     ]
    }
   ],
   "source": [
    "actions_num = env.action_space.n\n",
    "print(f\"Actions number{actions_num}\")\n",
    "\n",
    "states_num = env.observation_space.n\n",
    "print(f\"States number {states_num}\")"
   ]
  },
  {
   "cell_type": "code",
   "execution_count": 9,
   "id": "78bb286c",
   "metadata": {},
   "outputs": [],
   "source": [
    "# Sarsa"
   ]
  },
  {
   "cell_type": "code",
   "execution_count": 32,
   "id": "0e0d4b17",
   "metadata": {},
   "outputs": [],
   "source": [
    "gamma = 0.9\n",
    "lr = 0.5\n",
    "epsilon = 0.1\n",
    "\n",
    "\n",
    "class SarsaAgent():\n",
    "    def __init__(self):\n",
    "        self.q = np.random.uniform(\n",
    "            low=-1, high=0, \n",
    "            size=[states_num, actions_num])\n",
    "                                   \n",
    "    \n",
    "    def choose_action(self, state, is_train=True):\n",
    "        # TODO implement\n",
    "        \n",
    "    def update(self, state, action, reward, state2, action2):\n",
    "        # TODO implement\n",
    "        \n",
    "    def update_final(self, state, action, reward):\n",
    "        # TODO implement"
   ]
  },
  {
   "cell_type": "code",
   "execution_count": 33,
   "id": "b4d759a4",
   "metadata": {},
   "outputs": [],
   "source": [
    "def train_agent(agent, total_episodes = 1000):\n",
    "    rewards = []\n",
    "    max_steps = 100\n",
    " \n",
    "    for episode in range(total_episodes):\n",
    "        t = 0\n",
    "        state1 = env.reset()\n",
    "        action1 = agent.choose_action(state1)\n",
    "\n",
    "        episode_reward = 0\n",
    "\n",
    "        while True:         \n",
    "            #Getting the next state\n",
    "            state2, reward, done, info = env.step(action1)\n",
    "        \n",
    "            episode_reward += reward\n",
    "            t += 1\n",
    "        \n",
    "            if not done:                        \n",
    "                reward += 0.01\n",
    "                \n",
    "                action2 = agent.choose_action(state2)\n",
    "         \n",
    "                #Learning the Q-value\n",
    "                agent.update(state1, action1, reward, state2, action2)\n",
    "        \n",
    "                state1 = state2\n",
    "                action1 = action2         \n",
    "            else:\n",
    "                agent.update_final(state1, action1, reward)\n",
    "        \n",
    "                 \n",
    "            if t >= max_steps or done:\n",
    "                rewards.append(episode_reward)\n",
    "                break\n",
    "    return rewards "
   ]
  },
  {
   "cell_type": "code",
   "execution_count": 34,
   "id": "a31f27b6",
   "metadata": {},
   "outputs": [],
   "source": [
    "agent = SarsaAgent()\n",
    "\n",
    "rewards = train_agent(agent, 1000)"
   ]
  },
  {
   "cell_type": "code",
   "execution_count": 35,
   "id": "16f52be3",
   "metadata": {},
   "outputs": [
    {
     "data": {
      "text/plain": [
       "[<matplotlib.lines.Line2D at 0x7f6f6b3784f0>]"
      ]
     },
     "execution_count": 35,
     "metadata": {},
     "output_type": "execute_result"
    },
    {
     "data": {
      "image/png": "[encoded data removed]",
      "text/plain": [
       "<Figure size 432x288 with 1 Axes>"
      ]
     },
     "metadata": {
      "needs_background": "light"
     },
     "output_type": "display_data"
    }
   ],
   "source": [
    "plt.plot(rewards)"
   ]
  },
  {
   "cell_type": "code",
   "execution_count": 36,
   "id": "84ddafdb",
   "metadata": {},
   "outputs": [],
   "source": [
    "class QAgent():\n",
    "    def __init__(self):\n",
    "        self.q = np.random.uniform(\n",
    "            low=-1, high=1, \n",
    "            size=[states_num, actions_num])\n",
    "                                   \n",
    "    \n",
    "    def choose_action(self, state, is_train=True):\n",
    "        # TODO implement\n",
    "    \n",
    "    def update(self, state, action, reward, state2, action2):\n",
    "        # TODO implement\n",
    "        \n",
    "        \n",
    "    def update_final(self, state, action, reward):\n",
    "        # TODO implement"
   ]
  },
  {
   "cell_type": "code",
   "execution_count": 50,
   "id": "75db1f1d",
   "metadata": {},
   "outputs": [],
   "source": [
    "agent = QAgent()\n",
    "\n",
    "rewards = train_agent(agent)"
   ]
  },
  {
   "cell_type": "code",
   "execution_count": 51,
   "id": "6b7b9585",
   "metadata": {},
   "outputs": [
    {
     "data": {
      "text/plain": [
       "[<matplotlib.lines.Line2D at 0x7f6f6b2ca340>]"
      ]
     },
     "execution_count": 51,
     "metadata": {},
     "output_type": "execute_result"
    },
    {
     "data": {
      "image/png": "[encoded data removed]",
      "text/plain": [
       "<Figure size 432x288 with 1 Axes>"
      ]
     },
     "metadata": {
      "needs_background": "light"
     },
     "output_type": "display_data"
    }
   ],
   "source": [
    "plt.plot(rewards)"
   ]
  },
  {
   "cell_type": "code",
   "execution_count": 52,
   "id": "5831f5a3",
   "metadata": {},
   "outputs": [
    {
     "name": "stdout",
     "output_type": "stream",
     "text": [
      "  (Left)\n",
      "\u001b[41mS\u001b[0mFFF\n",
      "FHFH\n",
      "FFFH\n",
      "HFFG\n",
      "  (Left)\n",
      "\u001b[41mS\u001b[0mFFF\n",
      "FHFH\n",
      "FFFH\n",
      "HFFG\n",
      "  (Left)\n",
      "\u001b[41mS\u001b[0mFFF\n",
      "FHFH\n",
      "FFFH\n",
      "HFFG\n",
      "  (Left)\n",
      "SFFF\n",
      "\u001b[41mF\u001b[0mHFH\n",
      "FFFH\n",
      "HFFG\n",
      "  (Left)\n",
      "\u001b[41mS\u001b[0mFFF\n",
      "FHFH\n",
      "FFFH\n",
      "HFFG\n",
      "  (Left)\n",
      "\u001b[41mS\u001b[0mFFF\n",
      "FHFH\n",
      "FFFH\n",
      "HFFG\n",
      "  (Left)\n",
      "SFFF\n",
      "\u001b[41mF\u001b[0mHFH\n",
      "FFFH\n",
      "HFFG\n",
      "  (Left)\n",
      "SFFF\n",
      "\u001b[41mF\u001b[0mHFH\n",
      "FFFH\n",
      "HFFG\n",
      "  (Left)\n",
      "SFFF\n",
      "\u001b[41mF\u001b[0mHFH\n",
      "FFFH\n",
      "HFFG\n",
      "  (Left)\n",
      "SFFF\n",
      "FHFH\n",
      "\u001b[41mF\u001b[0mFFH\n",
      "HFFG\n",
      "  (Up)\n",
      "SFFF\n",
      "FHFH\n",
      "F\u001b[41mF\u001b[0mFH\n",
      "HFFG\n",
      "  (Down)\n",
      "SFFF\n",
      "FHFH\n",
      "\u001b[41mF\u001b[0mFFH\n",
      "HFFG\n",
      "  (Up)\n",
      "SFFF\n",
      "\u001b[41mF\u001b[0mHFH\n",
      "FFFH\n",
      "HFFG\n",
      "  (Left)\n",
      "SFFF\n",
      "FHFH\n",
      "\u001b[41mF\u001b[0mFFH\n",
      "HFFG\n",
      "  (Up)\n",
      "SFFF\n",
      "\u001b[41mF\u001b[0mHFH\n",
      "FFFH\n",
      "HFFG\n",
      "  (Left)\n",
      "\u001b[41mS\u001b[0mFFF\n",
      "FHFH\n",
      "FFFH\n",
      "HFFG\n",
      "  (Left)\n",
      "SFFF\n",
      "\u001b[41mF\u001b[0mHFH\n",
      "FFFH\n",
      "HFFG\n",
      "  (Left)\n",
      "\u001b[41mS\u001b[0mFFF\n",
      "FHFH\n",
      "FFFH\n",
      "HFFG\n",
      "  (Left)\n",
      "SFFF\n",
      "\u001b[41mF\u001b[0mHFH\n",
      "FFFH\n",
      "HFFG\n",
      "  (Left)\n",
      "SFFF\n",
      "\u001b[41mF\u001b[0mHFH\n",
      "FFFH\n",
      "HFFG\n",
      "  (Left)\n",
      "\u001b[41mS\u001b[0mFFF\n",
      "FHFH\n",
      "FFFH\n",
      "HFFG\n",
      "  (Left)\n",
      "\u001b[41mS\u001b[0mFFF\n",
      "FHFH\n",
      "FFFH\n",
      "HFFG\n",
      "  (Left)\n",
      "\u001b[41mS\u001b[0mFFF\n",
      "FHFH\n",
      "FFFH\n",
      "HFFG\n",
      "  (Left)\n",
      "SFFF\n",
      "\u001b[41mF\u001b[0mHFH\n",
      "FFFH\n",
      "HFFG\n",
      "  (Left)\n",
      "SFFF\n",
      "\u001b[41mF\u001b[0mHFH\n",
      "FFFH\n",
      "HFFG\n",
      "  (Left)\n",
      "SFFF\n",
      "\u001b[41mF\u001b[0mHFH\n",
      "FFFH\n",
      "HFFG\n",
      "  (Left)\n",
      "SFFF\n",
      "FHFH\n",
      "\u001b[41mF\u001b[0mFFH\n",
      "HFFG\n",
      "  (Up)\n",
      "SFFF\n",
      "FHFH\n",
      "F\u001b[41mF\u001b[0mFH\n",
      "HFFG\n",
      "  (Down)\n",
      "SFFF\n",
      "FHFH\n",
      "FFFH\n",
      "H\u001b[41mF\u001b[0mFG\n",
      "  (Right)\n",
      "SFFF\n",
      "FHFH\n",
      "FFFH\n",
      "HF\u001b[41mF\u001b[0mG\n",
      "  (Right)\n",
      "SFFF\n",
      "FHFH\n",
      "FFFH\n",
      "HFF\u001b[41mG\u001b[0m\n"
     ]
    }
   ],
   "source": [
    "state = env.reset()\n",
    "for i in range(100):\n",
    "    action = agent.choose_action(state, False)\n",
    "    state, reward, done, info = env.step(action)\n",
    "    \n",
    "    env.render()\n",
    "    if done:\n",
    "        break"
   ]
  },
  {
   "cell_type": "code",
   "execution_count": null,
   "id": "1ad3c706",
   "metadata": {},
   "outputs": [],
   "source": []
  },
  {
   "cell_type": "code",
   "execution_count": null,
   "id": "b21e8440",
   "metadata": {},
   "outputs": [],
   "source": []
  }
 ],
 "metadata": {
  "kernelspec": {
   "display_name": "Python 3 (ipykernel)",
   "language": "python",
   "name": "python3"
  },
  "language_info": {
   "codemirror_mode": {
    "name": "ipython",
    "version": 3
   },
   "file_extension": ".py",
   "mimetype": "text/x-python",
   "name": "python",
   "nbconvert_exporter": "python",
   "pygments_lexer": "ipython3",
   "version": "3.9.12"
  }
 },
 "nbformat": 4,
 "nbformat_minor": 5
}
