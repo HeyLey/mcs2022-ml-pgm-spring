{
  "nbformat": 4,
  "nbformat_minor": 0,
  "metadata": {
    "colab": {
      "name": "CartPole.ipynb",
      "provenance": [],
      "collapsed_sections": []
    },
    "kernelspec": {
      "name": "python3",
      "display_name": "Python 3"
    },
    "language_info": {
      "name": "python"
    },
    "widgets": {
      "application/vnd.jupyter.widget-state+json": {
        "8b2fc028e03a4c7fa6e2130d00da5f17": {
          "model_module": "@jupyter-widgets/controls",
          "model_name": "HBoxModel",
          "model_module_version": "1.5.0",
          "state": {
            "_dom_classes": [],
            "_model_module": "@jupyter-widgets/controls",
            "_model_module_version": "1.5.0",
            "_model_name": "HBoxModel",
            "_view_count": null,
            "_view_module": "@jupyter-widgets/controls",
            "_view_module_version": "1.5.0",
            "_view_name": "HBoxView",
            "box_style": "",
            "children": [
              "IPY_MODEL_762fad4627394349a7b52b88041f5402",
              "IPY_MODEL_3628bde9c0ec4ddf8bd5c2fed2a4460a",
              "IPY_MODEL_fe942a9fb3e84bad9a8ce42979330b24"
            ],
            "layout": "IPY_MODEL_8ff95dbdf599475eb95062fc470c5234"
          }
        },
        "762fad4627394349a7b52b88041f5402": {
          "model_module": "@jupyter-widgets/controls",
          "model_name": "HTMLModel",
          "model_module_version": "1.5.0",
          "state": {
            "_dom_classes": [],
            "_model_module": "@jupyter-widgets/controls",
            "_model_module_version": "1.5.0",
            "_model_name": "HTMLModel",
            "_view_count": null,
            "_view_module": "@jupyter-widgets/controls",
            "_view_module_version": "1.5.0",
            "_view_name": "HTMLView",
            "description": "",
            "description_tooltip": null,
            "layout": "IPY_MODEL_1383d6ccca3d43d281c20cb6f5eae19a",
            "placeholder": "​",
            "style": "IPY_MODEL_375d0fff171941948d3efa944c752045",
            "value": "100%"
          }
        },
        "3628bde9c0ec4ddf8bd5c2fed2a4460a": {
          "model_module": "@jupyter-widgets/controls",
          "model_name": "FloatProgressModel",
          "model_module_version": "1.5.0",
          "state": {
            "_dom_classes": [],
            "_model_module": "@jupyter-widgets/controls",
            "_model_module_version": "1.5.0",
            "_model_name": "FloatProgressModel",
            "_view_count": null,
            "_view_module": "@jupyter-widgets/controls",
            "_view_module_version": "1.5.0",
            "_view_name": "ProgressView",
            "bar_style": "success",
            "description": "",
            "description_tooltip": null,
            "layout": "IPY_MODEL_f389e358b7414393815f8c99af4864fa",
            "max": 100,
            "min": 0,
            "orientation": "horizontal",
            "style": "IPY_MODEL_2274905e962f424ba84ec49ea7c34a8f",
            "value": 100
          }
        },
        "fe942a9fb3e84bad9a8ce42979330b24": {
          "model_module": "@jupyter-widgets/controls",
          "model_name": "HTMLModel",
          "model_module_version": "1.5.0",
          "state": {
            "_dom_classes": [],
            "_model_module": "@jupyter-widgets/controls",
            "_model_module_version": "1.5.0",
            "_model_name": "HTMLModel",
            "_view_count": null,
            "_view_module": "@jupyter-widgets/controls",
            "_view_module_version": "1.5.0",
            "_view_name": "HTMLView",
            "description": "",
            "description_tooltip": null,
            "layout": "IPY_MODEL_a2f13d4e250e4460bf1a7f9d5b22b31f",
            "placeholder": "​",
            "style": "IPY_MODEL_71e9bdd6612a4355a26603e0e1a9c7b6",
            "value": " 100/100 [00:01&lt;00:00, 80.99it/s]"
          }
        },
        "8ff95dbdf599475eb95062fc470c5234": {
          "model_module": "@jupyter-widgets/base",
          "model_name": "LayoutModel",
          "model_module_version": "1.2.0",
          "state": {
            "_model_module": "@jupyter-widgets/base",
            "_model_module_version": "1.2.0",
            "_model_name": "LayoutModel",
            "_view_count": null,
            "_view_module": "@jupyter-widgets/base",
            "_view_module_version": "1.2.0",
            "_view_name": "LayoutView",
            "align_content": null,
            "align_items": null,
            "align_self": null,
            "border": null,
            "bottom": null,
            "display": null,
            "flex": null,
            "flex_flow": null,
            "grid_area": null,
            "grid_auto_columns": null,
            "grid_auto_flow": null,
            "grid_auto_rows": null,
            "grid_column": null,
            "grid_gap": null,
            "grid_row": null,
            "grid_template_areas": null,
            "grid_template_columns": null,
            "grid_template_rows": null,
            "height": null,
            "justify_content": null,
            "justify_items": null,
            "left": null,
            "margin": null,
            "max_height": null,
            "max_width": null,
            "min_height": null,
            "min_width": null,
            "object_fit": null,
            "object_position": null,
            "order": null,
            "overflow": null,
            "overflow_x": null,
            "overflow_y": null,
            "padding": null,
            "right": null,
            "top": null,
            "visibility": null,
            "width": null
          }
        },
        "1383d6ccca3d43d281c20cb6f5eae19a": {
          "model_module": "@jupyter-widgets/base",
          "model_name": "LayoutModel",
          "model_module_version": "1.2.0",
          "state": {
            "_model_module": "@jupyter-widgets/base",
            "_model_module_version": "1.2.0",
            "_model_name": "LayoutModel",
            "_view_count": null,
            "_view_module": "@jupyter-widgets/base",
            "_view_module_version": "1.2.0",
            "_view_name": "LayoutView",
            "align_content": null,
            "align_items": null,
            "align_self": null,
            "border": null,
            "bottom": null,
            "display": null,
            "flex": null,
            "flex_flow": null,
            "grid_area": null,
            "grid_auto_columns": null,
            "grid_auto_flow": null,
            "grid_auto_rows": null,
            "grid_column": null,
            "grid_gap": null,
            "grid_row": null,
            "grid_template_areas": null,
            "grid_template_columns": null,
            "grid_template_rows": null,
            "height": null,
            "justify_content": null,
            "justify_items": null,
            "left": null,
            "margin": null,
            "max_height": null,
            "max_width": null,
            "min_height": null,
            "min_width": null,
            "object_fit": null,
            "object_position": null,
            "order": null,
            "overflow": null,
            "overflow_x": null,
            "overflow_y": null,
            "padding": null,
            "right": null,
            "top": null,
            "visibility": null,
            "width": null
          }
        },
        "375d0fff171941948d3efa944c752045": {
          "model_module": "@jupyter-widgets/controls",
          "model_name": "DescriptionStyleModel",
          "model_module_version": "1.5.0",
          "state": {
            "_model_module": "@jupyter-widgets/controls",
            "_model_module_version": "1.5.0",
            "_model_name": "DescriptionStyleModel",
            "_view_count": null,
            "_view_module": "@jupyter-widgets/base",
            "_view_module_version": "1.2.0",
            "_view_name": "StyleView",
            "description_width": ""
          }
        },
        "f389e358b7414393815f8c99af4864fa": {
          "model_module": "@jupyter-widgets/base",
          "model_name": "LayoutModel",
          "model_module_version": "1.2.0",
          "state": {
            "_model_module": "@jupyter-widgets/base",
            "_model_module_version": "1.2.0",
            "_model_name": "LayoutModel",
            "_view_count": null,
            "_view_module": "@jupyter-widgets/base",
            "_view_module_version": "1.2.0",
            "_view_name": "LayoutView",
            "align_content": null,
            "align_items": null,
            "align_self": null,
            "border": null,
            "bottom": null,
            "display": null,
            "flex": null,
            "flex_flow": null,
            "grid_area": null,
            "grid_auto_columns": null,
            "grid_auto_flow": null,
            "grid_auto_rows": null,
            "grid_column": null,
            "grid_gap": null,
            "grid_row": null,
            "grid_template_areas": null,
            "grid_template_columns": null,
            "grid_template_rows": null,
            "height": null,
            "justify_content": null,
            "justify_items": null,
            "left": null,
            "margin": null,
            "max_height": null,
            "max_width": null,
            "min_height": null,
            "min_width": null,
            "object_fit": null,
            "object_position": null,
            "order": null,
            "overflow": null,
            "overflow_x": null,
            "overflow_y": null,
            "padding": null,
            "right": null,
            "top": null,
            "visibility": null,
            "width": null
          }
        },
        "2274905e962f424ba84ec49ea7c34a8f": {
          "model_module": "@jupyter-widgets/controls",
          "model_name": "ProgressStyleModel",
          "model_module_version": "1.5.0",
          "state": {
            "_model_module": "@jupyter-widgets/controls",
            "_model_module_version": "1.5.0",
            "_model_name": "ProgressStyleModel",
            "_view_count": null,
            "_view_module": "@jupyter-widgets/base",
            "_view_module_version": "1.2.0",
            "_view_name": "StyleView",
            "bar_color": null,
            "description_width": ""
          }
        },
        "a2f13d4e250e4460bf1a7f9d5b22b31f": {
          "model_module": "@jupyter-widgets/base",
          "model_name": "LayoutModel",
          "model_module_version": "1.2.0",
          "state": {
            "_model_module": "@jupyter-widgets/base",
            "_model_module_version": "1.2.0",
            "_model_name": "LayoutModel",
            "_view_count": null,
            "_view_module": "@jupyter-widgets/base",
            "_view_module_version": "1.2.0",
            "_view_name": "LayoutView",
            "align_content": null,
            "align_items": null,
            "align_self": null,
            "border": null,
            "bottom": null,
            "display": null,
            "flex": null,
            "flex_flow": null,
            "grid_area": null,
            "grid_auto_columns": null,
            "grid_auto_flow": null,
            "grid_auto_rows": null,
            "grid_column": null,
            "grid_gap": null,
            "grid_row": null,
            "grid_template_areas": null,
            "grid_template_columns": null,
            "grid_template_rows": null,
            "height": null,
            "justify_content": null,
            "justify_items": null,
            "left": null,
            "margin": null,
            "max_height": null,
            "max_width": null,
            "min_height": null,
            "min_width": null,
            "object_fit": null,
            "object_position": null,
            "order": null,
            "overflow": null,
            "overflow_x": null,
            "overflow_y": null,
            "padding": null,
            "right": null,
            "top": null,
            "visibility": null,
            "width": null
          }
        },
        "71e9bdd6612a4355a26603e0e1a9c7b6": {
          "model_module": "@jupyter-widgets/controls",
          "model_name": "DescriptionStyleModel",
          "model_module_version": "1.5.0",
          "state": {
            "_model_module": "@jupyter-widgets/controls",
            "_model_module_version": "1.5.0",
            "_model_name": "DescriptionStyleModel",
            "_view_count": null,
            "_view_module": "@jupyter-widgets/base",
            "_view_module_version": "1.2.0",
            "_view_name": "StyleView",
            "description_width": ""
          }
        },
        "93207dcf35c54fd195ad07fa7c9c6435": {
          "model_module": "@jupyter-widgets/controls",
          "model_name": "HBoxModel",
          "model_module_version": "1.5.0",
          "state": {
            "_dom_classes": [],
            "_model_module": "@jupyter-widgets/controls",
            "_model_module_version": "1.5.0",
            "_model_name": "HBoxModel",
            "_view_count": null,
            "_view_module": "@jupyter-widgets/controls",
            "_view_module_version": "1.5.0",
            "_view_name": "HBoxView",
            "box_style": "",
            "children": [
              "IPY_MODEL_0f739db5f5d541cda384fc00160c95d3",
              "IPY_MODEL_8c3b60017d814468aeed76b4501ceb2b",
              "IPY_MODEL_480c4779b345463eb14700a7911b100c"
            ],
            "layout": "IPY_MODEL_3e243a3b151f464f8f5d28133f0d56bf"
          }
        },
        "0f739db5f5d541cda384fc00160c95d3": {
          "model_module": "@jupyter-widgets/controls",
          "model_name": "HTMLModel",
          "model_module_version": "1.5.0",
          "state": {
            "_dom_classes": [],
            "_model_module": "@jupyter-widgets/controls",
            "_model_module_version": "1.5.0",
            "_model_name": "HTMLModel",
            "_view_count": null,
            "_view_module": "@jupyter-widgets/controls",
            "_view_module_version": "1.5.0",
            "_view_name": "HTMLView",
            "description": "",
            "description_tooltip": null,
            "layout": "IPY_MODEL_07aa4f6957864500a6a5cbc65518ff45",
            "placeholder": "​",
            "style": "IPY_MODEL_7c4ce100d5ec4631ab01606737f5bb83",
            "value": "100%"
          }
        },
        "8c3b60017d814468aeed76b4501ceb2b": {
          "model_module": "@jupyter-widgets/controls",
          "model_name": "FloatProgressModel",
          "model_module_version": "1.5.0",
          "state": {
            "_dom_classes": [],
            "_model_module": "@jupyter-widgets/controls",
            "_model_module_version": "1.5.0",
            "_model_name": "FloatProgressModel",
            "_view_count": null,
            "_view_module": "@jupyter-widgets/controls",
            "_view_module_version": "1.5.0",
            "_view_name": "ProgressView",
            "bar_style": "success",
            "description": "",
            "description_tooltip": null,
            "layout": "IPY_MODEL_31c79725492c4d609a566437b821b754",
            "max": 1000,
            "min": 0,
            "orientation": "horizontal",
            "style": "IPY_MODEL_f115fb94a68d46e0a84cbd4d09d29e8a",
            "value": 1000
          }
        },
        "480c4779b345463eb14700a7911b100c": {
          "model_module": "@jupyter-widgets/controls",
          "model_name": "HTMLModel",
          "model_module_version": "1.5.0",
          "state": {
            "_dom_classes": [],
            "_model_module": "@jupyter-widgets/controls",
            "_model_module_version": "1.5.0",
            "_model_name": "HTMLModel",
            "_view_count": null,
            "_view_module": "@jupyter-widgets/controls",
            "_view_module_version": "1.5.0",
            "_view_name": "HTMLView",
            "description": "",
            "description_tooltip": null,
            "layout": "IPY_MODEL_c6f11dcc58534c398de79786fb993d81",
            "placeholder": "​",
            "style": "IPY_MODEL_e2eefbb6db794c6da36bfa52bbeba932",
            "value": " 1000/1000 [01:08&lt;00:00,  8.32it/s]"
          }
        },
        "3e243a3b151f464f8f5d28133f0d56bf": {
          "model_module": "@jupyter-widgets/base",
          "model_name": "LayoutModel",
          "model_module_version": "1.2.0",
          "state": {
            "_model_module": "@jupyter-widgets/base",
            "_model_module_version": "1.2.0",
            "_model_name": "LayoutModel",
            "_view_count": null,
            "_view_module": "@jupyter-widgets/base",
            "_view_module_version": "1.2.0",
            "_view_name": "LayoutView",
            "align_content": null,
            "align_items": null,
            "align_self": null,
            "border": null,
            "bottom": null,
            "display": null,
            "flex": null,
            "flex_flow": null,
            "grid_area": null,
            "grid_auto_columns": null,
            "grid_auto_flow": null,
            "grid_auto_rows": null,
            "grid_column": null,
            "grid_gap": null,
            "grid_row": null,
            "grid_template_areas": null,
            "grid_template_columns": null,
            "grid_template_rows": null,
            "height": null,
            "justify_content": null,
            "justify_items": null,
            "left": null,
            "margin": null,
            "max_height": null,
            "max_width": null,
            "min_height": null,
            "min_width": null,
            "object_fit": null,
            "object_position": null,
            "order": null,
            "overflow": null,
            "overflow_x": null,
            "overflow_y": null,
            "padding": null,
            "right": null,
            "top": null,
            "visibility": null,
            "width": null
          }
        },
        "07aa4f6957864500a6a5cbc65518ff45": {
          "model_module": "@jupyter-widgets/base",
          "model_name": "LayoutModel",
          "model_module_version": "1.2.0",
          "state": {
            "_model_module": "@jupyter-widgets/base",
            "_model_module_version": "1.2.0",
            "_model_name": "LayoutModel",
            "_view_count": null,
            "_view_module": "@jupyter-widgets/base",
            "_view_module_version": "1.2.0",
            "_view_name": "LayoutView",
            "align_content": null,
            "align_items": null,
            "align_self": null,
            "border": null,
            "bottom": null,
            "display": null,
            "flex": null,
            "flex_flow": null,
            "grid_area": null,
            "grid_auto_columns": null,
            "grid_auto_flow": null,
            "grid_auto_rows": null,
            "grid_column": null,
            "grid_gap": null,
            "grid_row": null,
            "grid_template_areas": null,
            "grid_template_columns": null,
            "grid_template_rows": null,
            "height": null,
            "justify_content": null,
            "justify_items": null,
            "left": null,
            "margin": null,
            "max_height": null,
            "max_width": null,
            "min_height": null,
            "min_width": null,
            "object_fit": null,
            "object_position": null,
            "order": null,
            "overflow": null,
            "overflow_x": null,
            "overflow_y": null,
            "padding": null,
            "right": null,
            "top": null,
            "visibility": null,
            "width": null
          }
        },
        "7c4ce100d5ec4631ab01606737f5bb83": {
          "model_module": "@jupyter-widgets/controls",
          "model_name": "DescriptionStyleModel",
          "model_module_version": "1.5.0",
          "state": {
            "_model_module": "@jupyter-widgets/controls",
            "_model_module_version": "1.5.0",
            "_model_name": "DescriptionStyleModel",
            "_view_count": null,
            "_view_module": "@jupyter-widgets/base",
            "_view_module_version": "1.2.0",
            "_view_name": "StyleView",
            "description_width": ""
          }
        },
        "31c79725492c4d609a566437b821b754": {
          "model_module": "@jupyter-widgets/base",
          "model_name": "LayoutModel",
          "model_module_version": "1.2.0",
          "state": {
            "_model_module": "@jupyter-widgets/base",
            "_model_module_version": "1.2.0",
            "_model_name": "LayoutModel",
            "_view_count": null,
            "_view_module": "@jupyter-widgets/base",
            "_view_module_version": "1.2.0",
            "_view_name": "LayoutView",
            "align_content": null,
            "align_items": null,
            "align_self": null,
            "border": null,
            "bottom": null,
            "display": null,
            "flex": null,
            "flex_flow": null,
            "grid_area": null,
            "grid_auto_columns": null,
            "grid_auto_flow": null,
            "grid_auto_rows": null,
            "grid_column": null,
            "grid_gap": null,
            "grid_row": null,
            "grid_template_areas": null,
            "grid_template_columns": null,
            "grid_template_rows": null,
            "height": null,
            "justify_content": null,
            "justify_items": null,
            "left": null,
            "margin": null,
            "max_height": null,
            "max_width": null,
            "min_height": null,
            "min_width": null,
            "object_fit": null,
            "object_position": null,
            "order": null,
            "overflow": null,
            "overflow_x": null,
            "overflow_y": null,
            "padding": null,
            "right": null,
            "top": null,
            "visibility": null,
            "width": null
          }
        },
        "f115fb94a68d46e0a84cbd4d09d29e8a": {
          "model_module": "@jupyter-widgets/controls",
          "model_name": "ProgressStyleModel",
          "model_module_version": "1.5.0",
          "state": {
            "_model_module": "@jupyter-widgets/controls",
            "_model_module_version": "1.5.0",
            "_model_name": "ProgressStyleModel",
            "_view_count": null,
            "_view_module": "@jupyter-widgets/base",
            "_view_module_version": "1.2.0",
            "_view_name": "StyleView",
            "bar_color": null,
            "description_width": ""
          }
        },
        "c6f11dcc58534c398de79786fb993d81": {
          "model_module": "@jupyter-widgets/base",
          "model_name": "LayoutModel",
          "model_module_version": "1.2.0",
          "state": {
            "_model_module": "@jupyter-widgets/base",
            "_model_module_version": "1.2.0",
            "_model_name": "LayoutModel",
            "_view_count": null,
            "_view_module": "@jupyter-widgets/base",
            "_view_module_version": "1.2.0",
            "_view_name": "LayoutView",
            "align_content": null,
            "align_items": null,
            "align_self": null,
            "border": null,
            "bottom": null,
            "display": null,
            "flex": null,
            "flex_flow": null,
            "grid_area": null,
            "grid_auto_columns": null,
            "grid_auto_flow": null,
            "grid_auto_rows": null,
            "grid_column": null,
            "grid_gap": null,
            "grid_row": null,
            "grid_template_areas": null,
            "grid_template_columns": null,
            "grid_template_rows": null,
            "height": null,
            "justify_content": null,
            "justify_items": null,
            "left": null,
            "margin": null,
            "max_height": null,
            "max_width": null,
            "min_height": null,
            "min_width": null,
            "object_fit": null,
            "object_position": null,
            "order": null,
            "overflow": null,
            "overflow_x": null,
            "overflow_y": null,
            "padding": null,
            "right": null,
            "top": null,
            "visibility": null,
            "width": null
          }
        },
        "e2eefbb6db794c6da36bfa52bbeba932": {
          "model_module": "@jupyter-widgets/controls",
          "model_name": "DescriptionStyleModel",
          "model_module_version": "1.5.0",
          "state": {
            "_model_module": "@jupyter-widgets/controls",
            "_model_module_version": "1.5.0",
            "_model_name": "DescriptionStyleModel",
            "_view_count": null,
            "_view_module": "@jupyter-widgets/base",
            "_view_module_version": "1.2.0",
            "_view_name": "StyleView",
            "description_width": ""
          }
        },
        "748166be02e847bb9b67fb9bd1f1eb17": {
          "model_module": "@jupyter-widgets/controls",
          "model_name": "HBoxModel",
          "model_module_version": "1.5.0",
          "state": {
            "_dom_classes": [],
            "_model_module": "@jupyter-widgets/controls",
            "_model_module_version": "1.5.0",
            "_model_name": "HBoxModel",
            "_view_count": null,
            "_view_module": "@jupyter-widgets/controls",
            "_view_module_version": "1.5.0",
            "_view_name": "HBoxView",
            "box_style": "",
            "children": [
              "IPY_MODEL_6290689ebdc3472a9167a11331731b58",
              "IPY_MODEL_5aa7a143849a48f2b4cb11c18fc44269",
              "IPY_MODEL_5212a456acb04d759df61fdca76db101"
            ],
            "layout": "IPY_MODEL_35c0340df4dd41c7a7a2d9c5dcaa958f"
          }
        },
        "6290689ebdc3472a9167a11331731b58": {
          "model_module": "@jupyter-widgets/controls",
          "model_name": "HTMLModel",
          "model_module_version": "1.5.0",
          "state": {
            "_dom_classes": [],
            "_model_module": "@jupyter-widgets/controls",
            "_model_module_version": "1.5.0",
            "_model_name": "HTMLModel",
            "_view_count": null,
            "_view_module": "@jupyter-widgets/controls",
            "_view_module_version": "1.5.0",
            "_view_name": "HTMLView",
            "description": "",
            "description_tooltip": null,
            "layout": "IPY_MODEL_36745b7a587b422198535bca3b750e49",
            "placeholder": "​",
            "style": "IPY_MODEL_dc16773862b940c89af21c4de3ac5d10",
            "value": "100%"
          }
        },
        "5aa7a143849a48f2b4cb11c18fc44269": {
          "model_module": "@jupyter-widgets/controls",
          "model_name": "FloatProgressModel",
          "model_module_version": "1.5.0",
          "state": {
            "_dom_classes": [],
            "_model_module": "@jupyter-widgets/controls",
            "_model_module_version": "1.5.0",
            "_model_name": "FloatProgressModel",
            "_view_count": null,
            "_view_module": "@jupyter-widgets/controls",
            "_view_module_version": "1.5.0",
            "_view_name": "ProgressView",
            "bar_style": "success",
            "description": "",
            "description_tooltip": null,
            "layout": "IPY_MODEL_d346bbf8ba7144b5a8ce5657df90c165",
            "max": 100,
            "min": 0,
            "orientation": "horizontal",
            "style": "IPY_MODEL_1bb7ecd58bae4da1b84fb12153d9f732",
            "value": 100
          }
        },
        "5212a456acb04d759df61fdca76db101": {
          "model_module": "@jupyter-widgets/controls",
          "model_name": "HTMLModel",
          "model_module_version": "1.5.0",
          "state": {
            "_dom_classes": [],
            "_model_module": "@jupyter-widgets/controls",
            "_model_module_version": "1.5.0",
            "_model_name": "HTMLModel",
            "_view_count": null,
            "_view_module": "@jupyter-widgets/controls",
            "_view_module_version": "1.5.0",
            "_view_name": "HTMLView",
            "description": "",
            "description_tooltip": null,
            "layout": "IPY_MODEL_3653f754450044ce8f6de9d9cd09c7c2",
            "placeholder": "​",
            "style": "IPY_MODEL_f702e37066b24854859b14c643e20b72",
            "value": " 100/100 [00:22&lt;00:00,  4.66it/s]"
          }
        },
        "35c0340df4dd41c7a7a2d9c5dcaa958f": {
          "model_module": "@jupyter-widgets/base",
          "model_name": "LayoutModel",
          "model_module_version": "1.2.0",
          "state": {
            "_model_module": "@jupyter-widgets/base",
            "_model_module_version": "1.2.0",
            "_model_name": "LayoutModel",
            "_view_count": null,
            "_view_module": "@jupyter-widgets/base",
            "_view_module_version": "1.2.0",
            "_view_name": "LayoutView",
            "align_content": null,
            "align_items": null,
            "align_self": null,
            "border": null,
            "bottom": null,
            "display": null,
            "flex": null,
            "flex_flow": null,
            "grid_area": null,
            "grid_auto_columns": null,
            "grid_auto_flow": null,
            "grid_auto_rows": null,
            "grid_column": null,
            "grid_gap": null,
            "grid_row": null,
            "grid_template_areas": null,
            "grid_template_columns": null,
            "grid_template_rows": null,
            "height": null,
            "justify_content": null,
            "justify_items": null,
            "left": null,
            "margin": null,
            "max_height": null,
            "max_width": null,
            "min_height": null,
            "min_width": null,
            "object_fit": null,
            "object_position": null,
            "order": null,
            "overflow": null,
            "overflow_x": null,
            "overflow_y": null,
            "padding": null,
            "right": null,
            "top": null,
            "visibility": null,
            "width": null
          }
        },
        "36745b7a587b422198535bca3b750e49": {
          "model_module": "@jupyter-widgets/base",
          "model_name": "LayoutModel",
          "model_module_version": "1.2.0",
          "state": {
            "_model_module": "@jupyter-widgets/base",
            "_model_module_version": "1.2.0",
            "_model_name": "LayoutModel",
            "_view_count": null,
            "_view_module": "@jupyter-widgets/base",
            "_view_module_version": "1.2.0",
            "_view_name": "LayoutView",
            "align_content": null,
            "align_items": null,
            "align_self": null,
            "border": null,
            "bottom": null,
            "display": null,
            "flex": null,
            "flex_flow": null,
            "grid_area": null,
            "grid_auto_columns": null,
            "grid_auto_flow": null,
            "grid_auto_rows": null,
            "grid_column": null,
            "grid_gap": null,
            "grid_row": null,
            "grid_template_areas": null,
            "grid_template_columns": null,
            "grid_template_rows": null,
            "height": null,
            "justify_content": null,
            "justify_items": null,
            "left": null,
            "margin": null,
            "max_height": null,
            "max_width": null,
            "min_height": null,
            "min_width": null,
            "object_fit": null,
            "object_position": null,
            "order": null,
            "overflow": null,
            "overflow_x": null,
            "overflow_y": null,
            "padding": null,
            "right": null,
            "top": null,
            "visibility": null,
            "width": null
          }
        },
        "dc16773862b940c89af21c4de3ac5d10": {
          "model_module": "@jupyter-widgets/controls",
          "model_name": "DescriptionStyleModel",
          "model_module_version": "1.5.0",
          "state": {
            "_model_module": "@jupyter-widgets/controls",
            "_model_module_version": "1.5.0",
            "_model_name": "DescriptionStyleModel",
            "_view_count": null,
            "_view_module": "@jupyter-widgets/base",
            "_view_module_version": "1.2.0",
            "_view_name": "StyleView",
            "description_width": ""
          }
        },
        "d346bbf8ba7144b5a8ce5657df90c165": {
          "model_module": "@jupyter-widgets/base",
          "model_name": "LayoutModel",
          "model_module_version": "1.2.0",
          "state": {
            "_model_module": "@jupyter-widgets/base",
            "_model_module_version": "1.2.0",
            "_model_name": "LayoutModel",
            "_view_count": null,
            "_view_module": "@jupyter-widgets/base",
            "_view_module_version": "1.2.0",
            "_view_name": "LayoutView",
            "align_content": null,
            "align_items": null,
            "align_self": null,
            "border": null,
            "bottom": null,
            "display": null,
            "flex": null,
            "flex_flow": null,
            "grid_area": null,
            "grid_auto_columns": null,
            "grid_auto_flow": null,
            "grid_auto_rows": null,
            "grid_column": null,
            "grid_gap": null,
            "grid_row": null,
            "grid_template_areas": null,
            "grid_template_columns": null,
            "grid_template_rows": null,
            "height": null,
            "justify_content": null,
            "justify_items": null,
            "left": null,
            "margin": null,
            "max_height": null,
            "max_width": null,
            "min_height": null,
            "min_width": null,
            "object_fit": null,
            "object_position": null,
            "order": null,
            "overflow": null,
            "overflow_x": null,
            "overflow_y": null,
            "padding": null,
            "right": null,
            "top": null,
            "visibility": null,
            "width": null
          }
        },
        "1bb7ecd58bae4da1b84fb12153d9f732": {
          "model_module": "@jupyter-widgets/controls",
          "model_name": "ProgressStyleModel",
          "model_module_version": "1.5.0",
          "state": {
            "_model_module": "@jupyter-widgets/controls",
            "_model_module_version": "1.5.0",
            "_model_name": "ProgressStyleModel",
            "_view_count": null,
            "_view_module": "@jupyter-widgets/base",
            "_view_module_version": "1.2.0",
            "_view_name": "StyleView",
            "bar_color": null,
            "description_width": ""
          }
        },
        "3653f754450044ce8f6de9d9cd09c7c2": {
          "model_module": "@jupyter-widgets/base",
          "model_name": "LayoutModel",
          "model_module_version": "1.2.0",
          "state": {
            "_model_module": "@jupyter-widgets/base",
            "_model_module_version": "1.2.0",
            "_model_name": "LayoutModel",
            "_view_count": null,
            "_view_module": "@jupyter-widgets/base",
            "_view_module_version": "1.2.0",
            "_view_name": "LayoutView",
            "align_content": null,
            "align_items": null,
            "align_self": null,
            "border": null,
            "bottom": null,
            "display": null,
            "flex": null,
            "flex_flow": null,
            "grid_area": null,
            "grid_auto_columns": null,
            "grid_auto_flow": null,
            "grid_auto_rows": null,
            "grid_column": null,
            "grid_gap": null,
            "grid_row": null,
            "grid_template_areas": null,
            "grid_template_columns": null,
            "grid_template_rows": null,
            "height": null,
            "justify_content": null,
            "justify_items": null,
            "left": null,
            "margin": null,
            "max_height": null,
            "max_width": null,
            "min_height": null,
            "min_width": null,
            "object_fit": null,
            "object_position": null,
            "order": null,
            "overflow": null,
            "overflow_x": null,
            "overflow_y": null,
            "padding": null,
            "right": null,
            "top": null,
            "visibility": null,
            "width": null
          }
        },
        "f702e37066b24854859b14c643e20b72": {
          "model_module": "@jupyter-widgets/controls",
          "model_name": "DescriptionStyleModel",
          "model_module_version": "1.5.0",
          "state": {
            "_model_module": "@jupyter-widgets/controls",
            "_model_module_version": "1.5.0",
            "_model_name": "DescriptionStyleModel",
            "_view_count": null,
            "_view_module": "@jupyter-widgets/base",
            "_view_module_version": "1.2.0",
            "_view_name": "StyleView",
            "description_width": ""
          }
        },
        "0e9f83a80a5f4b81ac6058e0417fbf93": {
          "model_module": "@jupyter-widgets/controls",
          "model_name": "HBoxModel",
          "model_module_version": "1.5.0",
          "state": {
            "_dom_classes": [],
            "_model_module": "@jupyter-widgets/controls",
            "_model_module_version": "1.5.0",
            "_model_name": "HBoxModel",
            "_view_count": null,
            "_view_module": "@jupyter-widgets/controls",
            "_view_module_version": "1.5.0",
            "_view_name": "HBoxView",
            "box_style": "",
            "children": [
              "IPY_MODEL_7729ad52b4d74aaf93426899aedc3ee2",
              "IPY_MODEL_64c1c9ff36c047bea222329798a3056a",
              "IPY_MODEL_47fac84ac07e49df90822d77e7995aec"
            ],
            "layout": "IPY_MODEL_6e65411f2f0c4a8b8df9aa1dc6a3075a"
          }
        },
        "7729ad52b4d74aaf93426899aedc3ee2": {
          "model_module": "@jupyter-widgets/controls",
          "model_name": "HTMLModel",
          "model_module_version": "1.5.0",
          "state": {
            "_dom_classes": [],
            "_model_module": "@jupyter-widgets/controls",
            "_model_module_version": "1.5.0",
            "_model_name": "HTMLModel",
            "_view_count": null,
            "_view_module": "@jupyter-widgets/controls",
            "_view_module_version": "1.5.0",
            "_view_name": "HTMLView",
            "description": "",
            "description_tooltip": null,
            "layout": "IPY_MODEL_8b71c15b4668453b988e2cbb4bc7ac0d",
            "placeholder": "​",
            "style": "IPY_MODEL_9b07e08b1a444ab2ba0da3d9983bc5d2",
            "value": "100%"
          }
        },
        "64c1c9ff36c047bea222329798a3056a": {
          "model_module": "@jupyter-widgets/controls",
          "model_name": "FloatProgressModel",
          "model_module_version": "1.5.0",
          "state": {
            "_dom_classes": [],
            "_model_module": "@jupyter-widgets/controls",
            "_model_module_version": "1.5.0",
            "_model_name": "FloatProgressModel",
            "_view_count": null,
            "_view_module": "@jupyter-widgets/controls",
            "_view_module_version": "1.5.0",
            "_view_name": "ProgressView",
            "bar_style": "success",
            "description": "",
            "description_tooltip": null,
            "layout": "IPY_MODEL_5f4777bfa7f449a591c29d6cc44184a7",
            "max": 100,
            "min": 0,
            "orientation": "horizontal",
            "style": "IPY_MODEL_47a6120ecc1e411685f266770a14e23a",
            "value": 100
          }
        },
        "47fac84ac07e49df90822d77e7995aec": {
          "model_module": "@jupyter-widgets/controls",
          "model_name": "HTMLModel",
          "model_module_version": "1.5.0",
          "state": {
            "_dom_classes": [],
            "_model_module": "@jupyter-widgets/controls",
            "_model_module_version": "1.5.0",
            "_model_name": "HTMLModel",
            "_view_count": null,
            "_view_module": "@jupyter-widgets/controls",
            "_view_module_version": "1.5.0",
            "_view_name": "HTMLView",
            "description": "",
            "description_tooltip": null,
            "layout": "IPY_MODEL_04c060e751084dd78f9b37289fa316ec",
            "placeholder": "​",
            "style": "IPY_MODEL_e1ea1d63ad8c4536a51f617642623a93",
            "value": " 100/100 [00:29&lt;00:00,  3.74it/s]"
          }
        },
        "6e65411f2f0c4a8b8df9aa1dc6a3075a": {
          "model_module": "@jupyter-widgets/base",
          "model_name": "LayoutModel",
          "model_module_version": "1.2.0",
          "state": {
            "_model_module": "@jupyter-widgets/base",
            "_model_module_version": "1.2.0",
            "_model_name": "LayoutModel",
            "_view_count": null,
            "_view_module": "@jupyter-widgets/base",
            "_view_module_version": "1.2.0",
            "_view_name": "LayoutView",
            "align_content": null,
            "align_items": null,
            "align_self": null,
            "border": null,
            "bottom": null,
            "display": null,
            "flex": null,
            "flex_flow": null,
            "grid_area": null,
            "grid_auto_columns": null,
            "grid_auto_flow": null,
            "grid_auto_rows": null,
            "grid_column": null,
            "grid_gap": null,
            "grid_row": null,
            "grid_template_areas": null,
            "grid_template_columns": null,
            "grid_template_rows": null,
            "height": null,
            "justify_content": null,
            "justify_items": null,
            "left": null,
            "margin": null,
            "max_height": null,
            "max_width": null,
            "min_height": null,
            "min_width": null,
            "object_fit": null,
            "object_position": null,
            "order": null,
            "overflow": null,
            "overflow_x": null,
            "overflow_y": null,
            "padding": null,
            "right": null,
            "top": null,
            "visibility": null,
            "width": null
          }
        },
        "8b71c15b4668453b988e2cbb4bc7ac0d": {
          "model_module": "@jupyter-widgets/base",
          "model_name": "LayoutModel",
          "model_module_version": "1.2.0",
          "state": {
            "_model_module": "@jupyter-widgets/base",
            "_model_module_version": "1.2.0",
            "_model_name": "LayoutModel",
            "_view_count": null,
            "_view_module": "@jupyter-widgets/base",
            "_view_module_version": "1.2.0",
            "_view_name": "LayoutView",
            "align_content": null,
            "align_items": null,
            "align_self": null,
            "border": null,
            "bottom": null,
            "display": null,
            "flex": null,
            "flex_flow": null,
            "grid_area": null,
            "grid_auto_columns": null,
            "grid_auto_flow": null,
            "grid_auto_rows": null,
            "grid_column": null,
            "grid_gap": null,
            "grid_row": null,
            "grid_template_areas": null,
            "grid_template_columns": null,
            "grid_template_rows": null,
            "height": null,
            "justify_content": null,
            "justify_items": null,
            "left": null,
            "margin": null,
            "max_height": null,
            "max_width": null,
            "min_height": null,
            "min_width": null,
            "object_fit": null,
            "object_position": null,
            "order": null,
            "overflow": null,
            "overflow_x": null,
            "overflow_y": null,
            "padding": null,
            "right": null,
            "top": null,
            "visibility": null,
            "width": null
          }
        },
        "9b07e08b1a444ab2ba0da3d9983bc5d2": {
          "model_module": "@jupyter-widgets/controls",
          "model_name": "DescriptionStyleModel",
          "model_module_version": "1.5.0",
          "state": {
            "_model_module": "@jupyter-widgets/controls",
            "_model_module_version": "1.5.0",
            "_model_name": "DescriptionStyleModel",
            "_view_count": null,
            "_view_module": "@jupyter-widgets/base",
            "_view_module_version": "1.2.0",
            "_view_name": "StyleView",
            "description_width": ""
          }
        },
        "5f4777bfa7f449a591c29d6cc44184a7": {
          "model_module": "@jupyter-widgets/base",
          "model_name": "LayoutModel",
          "model_module_version": "1.2.0",
          "state": {
            "_model_module": "@jupyter-widgets/base",
            "_model_module_version": "1.2.0",
            "_model_name": "LayoutModel",
            "_view_count": null,
            "_view_module": "@jupyter-widgets/base",
            "_view_module_version": "1.2.0",
            "_view_name": "LayoutView",
            "align_content": null,
            "align_items": null,
            "align_self": null,
            "border": null,
            "bottom": null,
            "display": null,
            "flex": null,
            "flex_flow": null,
            "grid_area": null,
            "grid_auto_columns": null,
            "grid_auto_flow": null,
            "grid_auto_rows": null,
            "grid_column": null,
            "grid_gap": null,
            "grid_row": null,
            "grid_template_areas": null,
            "grid_template_columns": null,
            "grid_template_rows": null,
            "height": null,
            "justify_content": null,
            "justify_items": null,
            "left": null,
            "margin": null,
            "max_height": null,
            "max_width": null,
            "min_height": null,
            "min_width": null,
            "object_fit": null,
            "object_position": null,
            "order": null,
            "overflow": null,
            "overflow_x": null,
            "overflow_y": null,
            "padding": null,
            "right": null,
            "top": null,
            "visibility": null,
            "width": null
          }
        },
        "47a6120ecc1e411685f266770a14e23a": {
          "model_module": "@jupyter-widgets/controls",
          "model_name": "ProgressStyleModel",
          "model_module_version": "1.5.0",
          "state": {
            "_model_module": "@jupyter-widgets/controls",
            "_model_module_version": "1.5.0",
            "_model_name": "ProgressStyleModel",
            "_view_count": null,
            "_view_module": "@jupyter-widgets/base",
            "_view_module_version": "1.2.0",
            "_view_name": "StyleView",
            "bar_color": null,
            "description_width": ""
          }
        },
        "04c060e751084dd78f9b37289fa316ec": {
          "model_module": "@jupyter-widgets/base",
          "model_name": "LayoutModel",
          "model_module_version": "1.2.0",
          "state": {
            "_model_module": "@jupyter-widgets/base",
            "_model_module_version": "1.2.0",
            "_model_name": "LayoutModel",
            "_view_count": null,
            "_view_module": "@jupyter-widgets/base",
            "_view_module_version": "1.2.0",
            "_view_name": "LayoutView",
            "align_content": null,
            "align_items": null,
            "align_self": null,
            "border": null,
            "bottom": null,
            "display": null,
            "flex": null,
            "flex_flow": null,
            "grid_area": null,
            "grid_auto_columns": null,
            "grid_auto_flow": null,
            "grid_auto_rows": null,
            "grid_column": null,
            "grid_gap": null,
            "grid_row": null,
            "grid_template_areas": null,
            "grid_template_columns": null,
            "grid_template_rows": null,
            "height": null,
            "justify_content": null,
            "justify_items": null,
            "left": null,
            "margin": null,
            "max_height": null,
            "max_width": null,
            "min_height": null,
            "min_width": null,
            "object_fit": null,
            "object_position": null,
            "order": null,
            "overflow": null,
            "overflow_x": null,
            "overflow_y": null,
            "padding": null,
            "right": null,
            "top": null,
            "visibility": null,
            "width": null
          }
        },
        "e1ea1d63ad8c4536a51f617642623a93": {
          "model_module": "@jupyter-widgets/controls",
          "model_name": "DescriptionStyleModel",
          "model_module_version": "1.5.0",
          "state": {
            "_model_module": "@jupyter-widgets/controls",
            "_model_module_version": "1.5.0",
            "_model_name": "DescriptionStyleModel",
            "_view_count": null,
            "_view_module": "@jupyter-widgets/base",
            "_view_module_version": "1.2.0",
            "_view_name": "StyleView",
            "description_width": ""
          }
        },
        "ca8a24b0ad8144d48d02dfa931eff4a0": {
          "model_module": "@jupyter-widgets/controls",
          "model_name": "HBoxModel",
          "model_module_version": "1.5.0",
          "state": {
            "_dom_classes": [],
            "_model_module": "@jupyter-widgets/controls",
            "_model_module_version": "1.5.0",
            "_model_name": "HBoxModel",
            "_view_count": null,
            "_view_module": "@jupyter-widgets/controls",
            "_view_module_version": "1.5.0",
            "_view_name": "HBoxView",
            "box_style": "",
            "children": [
              "IPY_MODEL_714b5ea0300248ab8d78989498fa1cd3",
              "IPY_MODEL_aebb1f1840ae49fba74959f55a25e73c",
              "IPY_MODEL_83cb5ee41cca4b8dbf4b5b4d5ebc5703"
            ],
            "layout": "IPY_MODEL_680726134bf649e6a77e4b4f252e5ee9"
          }
        },
        "714b5ea0300248ab8d78989498fa1cd3": {
          "model_module": "@jupyter-widgets/controls",
          "model_name": "HTMLModel",
          "model_module_version": "1.5.0",
          "state": {
            "_dom_classes": [],
            "_model_module": "@jupyter-widgets/controls",
            "_model_module_version": "1.5.0",
            "_model_name": "HTMLModel",
            "_view_count": null,
            "_view_module": "@jupyter-widgets/controls",
            "_view_module_version": "1.5.0",
            "_view_name": "HTMLView",
            "description": "",
            "description_tooltip": null,
            "layout": "IPY_MODEL_62e52a97b9904849b0bdd81536829ab9",
            "placeholder": "​",
            "style": "IPY_MODEL_5012497586b248a181d05b9b20a70604",
            "value": "100%"
          }
        },
        "aebb1f1840ae49fba74959f55a25e73c": {
          "model_module": "@jupyter-widgets/controls",
          "model_name": "FloatProgressModel",
          "model_module_version": "1.5.0",
          "state": {
            "_dom_classes": [],
            "_model_module": "@jupyter-widgets/controls",
            "_model_module_version": "1.5.0",
            "_model_name": "FloatProgressModel",
            "_view_count": null,
            "_view_module": "@jupyter-widgets/controls",
            "_view_module_version": "1.5.0",
            "_view_name": "ProgressView",
            "bar_style": "success",
            "description": "",
            "description_tooltip": null,
            "layout": "IPY_MODEL_fbf14fb5e82e498ca5473f9931321c02",
            "max": 100,
            "min": 0,
            "orientation": "horizontal",
            "style": "IPY_MODEL_8b8888aafdbc40909786174753001367",
            "value": 100
          }
        },
        "83cb5ee41cca4b8dbf4b5b4d5ebc5703": {
          "model_module": "@jupyter-widgets/controls",
          "model_name": "HTMLModel",
          "model_module_version": "1.5.0",
          "state": {
            "_dom_classes": [],
            "_model_module": "@jupyter-widgets/controls",
            "_model_module_version": "1.5.0",
            "_model_name": "HTMLModel",
            "_view_count": null,
            "_view_module": "@jupyter-widgets/controls",
            "_view_module_version": "1.5.0",
            "_view_name": "HTMLView",
            "description": "",
            "description_tooltip": null,
            "layout": "IPY_MODEL_9ca4b4b2fc4b45698c27d5d7b5505aaf",
            "placeholder": "​",
            "style": "IPY_MODEL_002bd175524a4fe09cfad3ccd0592f0d",
            "value": " 100/100 [00:33&lt;00:00,  1.88it/s]"
          }
        },
        "680726134bf649e6a77e4b4f252e5ee9": {
          "model_module": "@jupyter-widgets/base",
          "model_name": "LayoutModel",
          "model_module_version": "1.2.0",
          "state": {
            "_model_module": "@jupyter-widgets/base",
            "_model_module_version": "1.2.0",
            "_model_name": "LayoutModel",
            "_view_count": null,
            "_view_module": "@jupyter-widgets/base",
            "_view_module_version": "1.2.0",
            "_view_name": "LayoutView",
            "align_content": null,
            "align_items": null,
            "align_self": null,
            "border": null,
            "bottom": null,
            "display": null,
            "flex": null,
            "flex_flow": null,
            "grid_area": null,
            "grid_auto_columns": null,
            "grid_auto_flow": null,
            "grid_auto_rows": null,
            "grid_column": null,
            "grid_gap": null,
            "grid_row": null,
            "grid_template_areas": null,
            "grid_template_columns": null,
            "grid_template_rows": null,
            "height": null,
            "justify_content": null,
            "justify_items": null,
            "left": null,
            "margin": null,
            "max_height": null,
            "max_width": null,
            "min_height": null,
            "min_width": null,
            "object_fit": null,
            "object_position": null,
            "order": null,
            "overflow": null,
            "overflow_x": null,
            "overflow_y": null,
            "padding": null,
            "right": null,
            "top": null,
            "visibility": null,
            "width": null
          }
        },
        "62e52a97b9904849b0bdd81536829ab9": {
          "model_module": "@jupyter-widgets/base",
          "model_name": "LayoutModel",
          "model_module_version": "1.2.0",
          "state": {
            "_model_module": "@jupyter-widgets/base",
            "_model_module_version": "1.2.0",
            "_model_name": "LayoutModel",
            "_view_count": null,
            "_view_module": "@jupyter-widgets/base",
            "_view_module_version": "1.2.0",
            "_view_name": "LayoutView",
            "align_content": null,
            "align_items": null,
            "align_self": null,
            "border": null,
            "bottom": null,
            "display": null,
            "flex": null,
            "flex_flow": null,
            "grid_area": null,
            "grid_auto_columns": null,
            "grid_auto_flow": null,
            "grid_auto_rows": null,
            "grid_column": null,
            "grid_gap": null,
            "grid_row": null,
            "grid_template_areas": null,
            "grid_template_columns": null,
            "grid_template_rows": null,
            "height": null,
            "justify_content": null,
            "justify_items": null,
            "left": null,
            "margin": null,
            "max_height": null,
            "max_width": null,
            "min_height": null,
            "min_width": null,
            "object_fit": null,
            "object_position": null,
            "order": null,
            "overflow": null,
            "overflow_x": null,
            "overflow_y": null,
            "padding": null,
            "right": null,
            "top": null,
            "visibility": null,
            "width": null
          }
        },
        "5012497586b248a181d05b9b20a70604": {
          "model_module": "@jupyter-widgets/controls",
          "model_name": "DescriptionStyleModel",
          "model_module_version": "1.5.0",
          "state": {
            "_model_module": "@jupyter-widgets/controls",
            "_model_module_version": "1.5.0",
            "_model_name": "DescriptionStyleModel",
            "_view_count": null,
            "_view_module": "@jupyter-widgets/base",
            "_view_module_version": "1.2.0",
            "_view_name": "StyleView",
            "description_width": ""
          }
        },
        "fbf14fb5e82e498ca5473f9931321c02": {
          "model_module": "@jupyter-widgets/base",
          "model_name": "LayoutModel",
          "model_module_version": "1.2.0",
          "state": {
            "_model_module": "@jupyter-widgets/base",
            "_model_module_version": "1.2.0",
            "_model_name": "LayoutModel",
            "_view_count": null,
            "_view_module": "@jupyter-widgets/base",
            "_view_module_version": "1.2.0",
            "_view_name": "LayoutView",
            "align_content": null,
            "align_items": null,
            "align_self": null,
            "border": null,
            "bottom": null,
            "display": null,
            "flex": null,
            "flex_flow": null,
            "grid_area": null,
            "grid_auto_columns": null,
            "grid_auto_flow": null,
            "grid_auto_rows": null,
            "grid_column": null,
            "grid_gap": null,
            "grid_row": null,
            "grid_template_areas": null,
            "grid_template_columns": null,
            "grid_template_rows": null,
            "height": null,
            "justify_content": null,
            "justify_items": null,
            "left": null,
            "margin": null,
            "max_height": null,
            "max_width": null,
            "min_height": null,
            "min_width": null,
            "object_fit": null,
            "object_position": null,
            "order": null,
            "overflow": null,
            "overflow_x": null,
            "overflow_y": null,
            "padding": null,
            "right": null,
            "top": null,
            "visibility": null,
            "width": null
          }
        },
        "8b8888aafdbc40909786174753001367": {
          "model_module": "@jupyter-widgets/controls",
          "model_name": "ProgressStyleModel",
          "model_module_version": "1.5.0",
          "state": {
            "_model_module": "@jupyter-widgets/controls",
            "_model_module_version": "1.5.0",
            "_model_name": "ProgressStyleModel",
            "_view_count": null,
            "_view_module": "@jupyter-widgets/base",
            "_view_module_version": "1.2.0",
            "_view_name": "StyleView",
            "bar_color": null,
            "description_width": ""
          }
        },
        "9ca4b4b2fc4b45698c27d5d7b5505aaf": {
          "model_module": "@jupyter-widgets/base",
          "model_name": "LayoutModel",
          "model_module_version": "1.2.0",
          "state": {
            "_model_module": "@jupyter-widgets/base",
            "_model_module_version": "1.2.0",
            "_model_name": "LayoutModel",
            "_view_count": null,
            "_view_module": "@jupyter-widgets/base",
            "_view_module_version": "1.2.0",
            "_view_name": "LayoutView",
            "align_content": null,
            "align_items": null,
            "align_self": null,
            "border": null,
            "bottom": null,
            "display": null,
            "flex": null,
            "flex_flow": null,
            "grid_area": null,
            "grid_auto_columns": null,
            "grid_auto_flow": null,
            "grid_auto_rows": null,
            "grid_column": null,
            "grid_gap": null,
            "grid_row": null,
            "grid_template_areas": null,
            "grid_template_columns": null,
            "grid_template_rows": null,
            "height": null,
            "justify_content": null,
            "justify_items": null,
            "left": null,
            "margin": null,
            "max_height": null,
            "max_width": null,
            "min_height": null,
            "min_width": null,
            "object_fit": null,
            "object_position": null,
            "order": null,
            "overflow": null,
            "overflow_x": null,
            "overflow_y": null,
            "padding": null,
            "right": null,
            "top": null,
            "visibility": null,
            "width": null
          }
        },
        "002bd175524a4fe09cfad3ccd0592f0d": {
          "model_module": "@jupyter-widgets/controls",
          "model_name": "DescriptionStyleModel",
          "model_module_version": "1.5.0",
          "state": {
            "_model_module": "@jupyter-widgets/controls",
            "_model_module_version": "1.5.0",
            "_model_name": "DescriptionStyleModel",
            "_view_count": null,
            "_view_module": "@jupyter-widgets/base",
            "_view_module_version": "1.2.0",
            "_view_name": "StyleView",
            "description_width": ""
          }
        },
        "7421088527a64715b8ab929ac5deb47a": {
          "model_module": "@jupyter-widgets/controls",
          "model_name": "HBoxModel",
          "model_module_version": "1.5.0",
          "state": {
            "_dom_classes": [],
            "_model_module": "@jupyter-widgets/controls",
            "_model_module_version": "1.5.0",
            "_model_name": "HBoxModel",
            "_view_count": null,
            "_view_module": "@jupyter-widgets/controls",
            "_view_module_version": "1.5.0",
            "_view_name": "HBoxView",
            "box_style": "",
            "children": [
              "IPY_MODEL_26eb82e8ef23440ab77e11483fe40516",
              "IPY_MODEL_a961ea2e68b3443d84b03a88a93f6c33",
              "IPY_MODEL_c77d40a9f0d54c8ea286ff1346c3a6ac"
            ],
            "layout": "IPY_MODEL_6a7bc4523a5444b1840ce0fc1a13b1a9"
          }
        },
        "26eb82e8ef23440ab77e11483fe40516": {
          "model_module": "@jupyter-widgets/controls",
          "model_name": "HTMLModel",
          "model_module_version": "1.5.0",
          "state": {
            "_dom_classes": [],
            "_model_module": "@jupyter-widgets/controls",
            "_model_module_version": "1.5.0",
            "_model_name": "HTMLModel",
            "_view_count": null,
            "_view_module": "@jupyter-widgets/controls",
            "_view_module_version": "1.5.0",
            "_view_name": "HTMLView",
            "description": "",
            "description_tooltip": null,
            "layout": "IPY_MODEL_208b12b7f29c4b3fa2a60223c3e150b6",
            "placeholder": "​",
            "style": "IPY_MODEL_b68723c7490043e4b7e5116e901da4be",
            "value": "100%"
          }
        },
        "a961ea2e68b3443d84b03a88a93f6c33": {
          "model_module": "@jupyter-widgets/controls",
          "model_name": "FloatProgressModel",
          "model_module_version": "1.5.0",
          "state": {
            "_dom_classes": [],
            "_model_module": "@jupyter-widgets/controls",
            "_model_module_version": "1.5.0",
            "_model_name": "FloatProgressModel",
            "_view_count": null,
            "_view_module": "@jupyter-widgets/controls",
            "_view_module_version": "1.5.0",
            "_view_name": "ProgressView",
            "bar_style": "success",
            "description": "",
            "description_tooltip": null,
            "layout": "IPY_MODEL_734de08a093245658989ab09f43d82d5",
            "max": 100,
            "min": 0,
            "orientation": "horizontal",
            "style": "IPY_MODEL_2e01da9374c74ca69f93d147e5fbc3ed",
            "value": 100
          }
        },
        "c77d40a9f0d54c8ea286ff1346c3a6ac": {
          "model_module": "@jupyter-widgets/controls",
          "model_name": "HTMLModel",
          "model_module_version": "1.5.0",
          "state": {
            "_dom_classes": [],
            "_model_module": "@jupyter-widgets/controls",
            "_model_module_version": "1.5.0",
            "_model_name": "HTMLModel",
            "_view_count": null,
            "_view_module": "@jupyter-widgets/controls",
            "_view_module_version": "1.5.0",
            "_view_name": "HTMLView",
            "description": "",
            "description_tooltip": null,
            "layout": "IPY_MODEL_0f9df365d6fe405c8ca209333c749e4d",
            "placeholder": "​",
            "style": "IPY_MODEL_ee297a0778ea451b889c5d6cd561ce1c",
            "value": " 100/100 [00:50&lt;00:00,  1.98it/s]"
          }
        },
        "6a7bc4523a5444b1840ce0fc1a13b1a9": {
          "model_module": "@jupyter-widgets/base",
          "model_name": "LayoutModel",
          "model_module_version": "1.2.0",
          "state": {
            "_model_module": "@jupyter-widgets/base",
            "_model_module_version": "1.2.0",
            "_model_name": "LayoutModel",
            "_view_count": null,
            "_view_module": "@jupyter-widgets/base",
            "_view_module_version": "1.2.0",
            "_view_name": "LayoutView",
            "align_content": null,
            "align_items": null,
            "align_self": null,
            "border": null,
            "bottom": null,
            "display": null,
            "flex": null,
            "flex_flow": null,
            "grid_area": null,
            "grid_auto_columns": null,
            "grid_auto_flow": null,
            "grid_auto_rows": null,
            "grid_column": null,
            "grid_gap": null,
            "grid_row": null,
            "grid_template_areas": null,
            "grid_template_columns": null,
            "grid_template_rows": null,
            "height": null,
            "justify_content": null,
            "justify_items": null,
            "left": null,
            "margin": null,
            "max_height": null,
            "max_width": null,
            "min_height": null,
            "min_width": null,
            "object_fit": null,
            "object_position": null,
            "order": null,
            "overflow": null,
            "overflow_x": null,
            "overflow_y": null,
            "padding": null,
            "right": null,
            "top": null,
            "visibility": null,
            "width": null
          }
        },
        "208b12b7f29c4b3fa2a60223c3e150b6": {
          "model_module": "@jupyter-widgets/base",
          "model_name": "LayoutModel",
          "model_module_version": "1.2.0",
          "state": {
            "_model_module": "@jupyter-widgets/base",
            "_model_module_version": "1.2.0",
            "_model_name": "LayoutModel",
            "_view_count": null,
            "_view_module": "@jupyter-widgets/base",
            "_view_module_version": "1.2.0",
            "_view_name": "LayoutView",
            "align_content": null,
            "align_items": null,
            "align_self": null,
            "border": null,
            "bottom": null,
            "display": null,
            "flex": null,
            "flex_flow": null,
            "grid_area": null,
            "grid_auto_columns": null,
            "grid_auto_flow": null,
            "grid_auto_rows": null,
            "grid_column": null,
            "grid_gap": null,
            "grid_row": null,
            "grid_template_areas": null,
            "grid_template_columns": null,
            "grid_template_rows": null,
            "height": null,
            "justify_content": null,
            "justify_items": null,
            "left": null,
            "margin": null,
            "max_height": null,
            "max_width": null,
            "min_height": null,
            "min_width": null,
            "object_fit": null,
            "object_position": null,
            "order": null,
            "overflow": null,
            "overflow_x": null,
            "overflow_y": null,
            "padding": null,
            "right": null,
            "top": null,
            "visibility": null,
            "width": null
          }
        },
        "b68723c7490043e4b7e5116e901da4be": {
          "model_module": "@jupyter-widgets/controls",
          "model_name": "DescriptionStyleModel",
          "model_module_version": "1.5.0",
          "state": {
            "_model_module": "@jupyter-widgets/controls",
            "_model_module_version": "1.5.0",
            "_model_name": "DescriptionStyleModel",
            "_view_count": null,
            "_view_module": "@jupyter-widgets/base",
            "_view_module_version": "1.2.0",
            "_view_name": "StyleView",
            "description_width": ""
          }
        },
        "734de08a093245658989ab09f43d82d5": {
          "model_module": "@jupyter-widgets/base",
          "model_name": "LayoutModel",
          "model_module_version": "1.2.0",
          "state": {
            "_model_module": "@jupyter-widgets/base",
            "_model_module_version": "1.2.0",
            "_model_name": "LayoutModel",
            "_view_count": null,
            "_view_module": "@jupyter-widgets/base",
            "_view_module_version": "1.2.0",
            "_view_name": "LayoutView",
            "align_content": null,
            "align_items": null,
            "align_self": null,
            "border": null,
            "bottom": null,
            "display": null,
            "flex": null,
            "flex_flow": null,
            "grid_area": null,
            "grid_auto_columns": null,
            "grid_auto_flow": null,
            "grid_auto_rows": null,
            "grid_column": null,
            "grid_gap": null,
            "grid_row": null,
            "grid_template_areas": null,
            "grid_template_columns": null,
            "grid_template_rows": null,
            "height": null,
            "justify_content": null,
            "justify_items": null,
            "left": null,
            "margin": null,
            "max_height": null,
            "max_width": null,
            "min_height": null,
            "min_width": null,
            "object_fit": null,
            "object_position": null,
            "order": null,
            "overflow": null,
            "overflow_x": null,
            "overflow_y": null,
            "padding": null,
            "right": null,
            "top": null,
            "visibility": null,
            "width": null
          }
        },
        "2e01da9374c74ca69f93d147e5fbc3ed": {
          "model_module": "@jupyter-widgets/controls",
          "model_name": "ProgressStyleModel",
          "model_module_version": "1.5.0",
          "state": {
            "_model_module": "@jupyter-widgets/controls",
            "_model_module_version": "1.5.0",
            "_model_name": "ProgressStyleModel",
            "_view_count": null,
            "_view_module": "@jupyter-widgets/base",
            "_view_module_version": "1.2.0",
            "_view_name": "StyleView",
            "bar_color": null,
            "description_width": ""
          }
        },
        "0f9df365d6fe405c8ca209333c749e4d": {
          "model_module": "@jupyter-widgets/base",
          "model_name": "LayoutModel",
          "model_module_version": "1.2.0",
          "state": {
            "_model_module": "@jupyter-widgets/base",
            "_model_module_version": "1.2.0",
            "_model_name": "LayoutModel",
            "_view_count": null,
            "_view_module": "@jupyter-widgets/base",
            "_view_module_version": "1.2.0",
            "_view_name": "LayoutView",
            "align_content": null,
            "align_items": null,
            "align_self": null,
            "border": null,
            "bottom": null,
            "display": null,
            "flex": null,
            "flex_flow": null,
            "grid_area": null,
            "grid_auto_columns": null,
            "grid_auto_flow": null,
            "grid_auto_rows": null,
            "grid_column": null,
            "grid_gap": null,
            "grid_row": null,
            "grid_template_areas": null,
            "grid_template_columns": null,
            "grid_template_rows": null,
            "height": null,
            "justify_content": null,
            "justify_items": null,
            "left": null,
            "margin": null,
            "max_height": null,
            "max_width": null,
            "min_height": null,
            "min_width": null,
            "object_fit": null,
            "object_position": null,
            "order": null,
            "overflow": null,
            "overflow_x": null,
            "overflow_y": null,
            "padding": null,
            "right": null,
            "top": null,
            "visibility": null,
            "width": null
          }
        },
        "ee297a0778ea451b889c5d6cd561ce1c": {
          "model_module": "@jupyter-widgets/controls",
          "model_name": "DescriptionStyleModel",
          "model_module_version": "1.5.0",
          "state": {
            "_model_module": "@jupyter-widgets/controls",
            "_model_module_version": "1.5.0",
            "_model_name": "DescriptionStyleModel",
            "_view_count": null,
            "_view_module": "@jupyter-widgets/base",
            "_view_module_version": "1.2.0",
            "_view_name": "StyleView",
            "description_width": ""
          }
        }
      }
    },
    "accelerator": "GPU"
  },
  "cells": [
    {
      "cell_type": "markdown",
      "source": [
        "Render OpenAI Gym Environments from CoLab\n",
        "\n",
        "It is possible to visualize the game your agent is playing, even on CoLab. This section provides information on generating a video in CoLab that shows you an episode of the game your agent is playing. I based this video process on suggestions found here.\n",
        "\n",
        "Begin by installing pyvirtualdisplay and python-opengl.\n"
      ],
      "metadata": {
        "id": "y8zHOGQfc0v5"
      }
    },
    {
      "cell_type": "code",
      "source": [
        "# HIDE OUTPUT\n",
        "!pip install gym pyvirtualdisplay > /dev/null 2>&1\n",
        "!apt-get install -y xvfb python-opengl ffmpeg > /dev/null 2>&1"
      ],
      "metadata": {
        "id": "HGOJvbWrboFk"
      },
      "execution_count": null,
      "outputs": []
    },
    {
      "cell_type": "code",
      "source": [
        "# HIDE OUTPUT\n",
        "!apt-get update > /dev/null 2>&1\n",
        "!apt-get install cmake > /dev/null 2>&1\n",
        "!pip install --upgrade setuptools 2>&1\n",
        "!pip install ez_setup > /dev/null 2>&1\n",
        "!pip install gym[atari] > /dev/null 2>&1"
      ],
      "metadata": {
        "colab": {
          "base_uri": "https://localhost:8080/",
          "height": 357
        },
        "id": "ZTC-qyh4c6er",
        "outputId": "b5bb7015-7539-4d7d-bdcc-1444c1674e88"
      },
      "execution_count": null,
      "outputs": [
        {
          "output_type": "stream",
          "name": "stdout",
          "text": [
            "Requirement already satisfied: setuptools in /usr/local/lib/python3.7/dist-packages (57.4.0)\n",
            "Collecting setuptools\n",
            "  Downloading setuptools-62.3.2-py3-none-any.whl (1.2 MB)\n",
            "\u001b[K     |████████████████████████████████| 1.2 MB 4.7 MB/s \n",
            "\u001b[?25hInstalling collected packages: setuptools\n",
            "  Attempting uninstall: setuptools\n",
            "    Found existing installation: setuptools 57.4.0\n",
            "    Uninstalling setuptools-57.4.0:\n",
            "      Successfully uninstalled setuptools-57.4.0\n",
            "\u001b[31mERROR: pip's dependency resolver does not currently take into account all the packages that are installed. This behaviour is the source of the following dependency conflicts.\n",
            "tensorflow 2.8.0+zzzcolab20220506162203 requires tf-estimator-nightly==2.8.0.dev2021122109, which is not installed.\n",
            "datascience 0.10.6 requires folium==0.2.1, but you have folium 0.8.3 which is incompatible.\u001b[0m\n",
            "Successfully installed setuptools-62.3.2\n"
          ]
        },
        {
          "output_type": "display_data",
          "data": {
            "application/vnd.colab-display-data+json": {
              "pip_warning": {
                "packages": [
                  "pkg_resources"
                ]
              }
            }
          },
          "metadata": {}
        }
      ]
    },
    {
      "cell_type": "code",
      "source": [
        "import gym\n",
        "from gym.wrappers import Monitor\n",
        "import glob\n",
        "import io\n",
        "import base64\n",
        "import numpy as np\n",
        "from tqdm.notebook import tqdm\n",
        "import matplotlib.pyplot as plt\n",
        "from IPython.display import HTML\n",
        "from pyvirtualdisplay import Display\n",
        "from IPython import display as ipythondisplay\n",
        "\n",
        "display = Display(visible=0, size=(800, 600))\n",
        "display.start()\n",
        "\n",
        "\"\"\"\n",
        "Utility functions to enable video recording of gym environment \n",
        "and displaying it.\n",
        "To enable video, just do \"env = wrap_env(env)\"\"\n",
        "\"\"\"\n",
        "\n",
        "\n",
        "def show_video():\n",
        "    mp4list = glob.glob('video/*.mp4')\n",
        "    if len(mp4list) > 0:\n",
        "        mp4 = mp4list[0]\n",
        "        video = io.open(mp4, 'r+b').read()\n",
        "        encoded = base64.b64encode(video)\n",
        "        ipythondisplay.display(HTML(data='''<video alt=\"test\" autoplay \n",
        "                loop controls style=\"height: 400px;\">\n",
        "                <source src=\"data:video/mp4;base64,{0}\" type=\"video/mp4\" />\n",
        "             </video>'''.format(encoded.decode('ascii'))))\n",
        "    else:\n",
        "        print(\"Could not find video\")\n",
        "\n",
        "\n",
        "def wrap_env(env):\n",
        "    env = Monitor(env, './video', force=True)\n",
        "    return env"
      ],
      "metadata": {
        "id": "IGaG3bINc-KE"
      },
      "execution_count": null,
      "outputs": []
    },
    {
      "cell_type": "code",
      "source": [
        "# HIDE OUTPUT\n",
        "env = wrap_env(gym.make(\"CartPole-v1\"))\n",
        "\n",
        "observation = env.reset()\n",
        "\n",
        "while True:\n",
        "\n",
        "    env.render()\n",
        "\n",
        "    # your agent goes here\n",
        "    action = env.action_space.sample()\n",
        "\n",
        "    observation, reward, done, info = env.step(action)\n",
        "\n",
        "    if done:\n",
        "        break\n",
        "\n",
        "env.close()\n",
        "show_video()"
      ],
      "metadata": {
        "colab": {
          "base_uri": "https://localhost:8080/",
          "height": 421
        },
        "id": "VqVVMsYUdLjh",
        "outputId": "7e9e0308-a5fa-4d04-a44c-c71eb31bd040"
      },
      "execution_count": null,
      "outputs": [
        {
          "output_type": "display_data",
          "data": {
            "text/plain": [
              "<IPython.core.display.HTML object>"
            ],
            "text/html": [
              "<video alt=\"test\" autoplay \n",
              "                loop controls style=\"height: 400px;\">\n",
              "                <source src=\"data:video/mp4;base64,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\" type=\"video/mp4\" />\n",
              "             </video>"
            ]
          },
          "metadata": {}
        }
      ]
    },
    {
      "cell_type": "code",
      "source": [
        "print(env.action_space)\n",
        "print(env.observation_space)"
      ],
      "metadata": {
        "colab": {
          "base_uri": "https://localhost:8080/"
        },
        "id": "OXZISQYZj6l7",
        "outputId": "30699476-ad80-4f7c-ff8a-ea03549f2a71"
      },
      "execution_count": null,
      "outputs": [
        {
          "output_type": "stream",
          "name": "stdout",
          "text": [
            "Discrete(2)\n",
            "Box(-3.4028234663852886e+38, 3.4028234663852886e+38, (4,), float32)\n"
          ]
        }
      ]
    },
    {
      "cell_type": "code",
      "source": [
        "import torch\n",
        "import random\n",
        "from torch import nn"
      ],
      "metadata": {
        "id": "WJea70Cpfy1o"
      },
      "execution_count": null,
      "outputs": []
    },
    {
      "cell_type": "code",
      "source": [
        "device = torch.device(\"cuda\" if torch.cuda.is_available() else \"cpu\")\n",
        "device = \"cpu\""
      ],
      "metadata": {
        "id": "3aEiaDb3gG65"
      },
      "execution_count": null,
      "outputs": []
    },
    {
      "cell_type": "code",
      "source": [
        "class DQN(nn.Module):\n",
        "    def __init__(self, state_space_dim, action_space_dim):\n",
        "        super().__init__()\n",
        "\n",
        "        self.linear = nn.Sequential(\n",
        "          nn.Linear(state_space_dim,64),\n",
        "          nn.Tanh(),\n",
        "          nn.Linear(64,64*2),\n",
        "          nn.Tanh(),\n",
        "          nn.Linear(64*2,action_space_dim)\n",
        "        )\n",
        "\n",
        "    def forward(self, x):        \n",
        "        return self.linear(x)"
      ],
      "metadata": {
        "id": "0XY-5-z1fKYD"
      },
      "execution_count": null,
      "outputs": []
    },
    {
      "cell_type": "code",
      "source": [
        "class DQNAgent():\n",
        "  def __init__(self, state_space_dim, action_space_dim):\n",
        "    self.state_space_dim = state_space_dim\n",
        "    self.action_space_dim = action_space_dim\n",
        "    self.gamma = 0.9\n",
        "      \n",
        "    self.net = DQN(state_space_dim, action_space_dim)\n",
        "    self.optimizer = torch.optim.Adam(self.net.parameters(), lr=0.001) \n",
        "    \n",
        "  def choose_action(self, state, epsilon):                            \n",
        "    if random.random() < epsilon:\n",
        "      return random.choice(range(self.action_space_dim))\n",
        "            \n",
        "    with torch.no_grad():      \n",
        "      state = torch.tensor(state, dtype=torch.float32) # Convert the state to tensor\n",
        "      net_out = self.net(state)\n",
        "\n",
        "    action = int(net_out.argmax())\n",
        "            \n",
        "    return action\n",
        "\n",
        "  def update_dqn(self, target, predict):    \n",
        "    loss = (target - predict) ** 2    \n",
        "    self.optimizer.zero_grad()\n",
        "    loss.backward()    \n",
        "    nn.utils.clip_grad_norm_(self.net.parameters(), 2)\n",
        "    self.optimizer.step()\n",
        "\n",
        "  def update(self, state, action, reward, state2):\n",
        "    state = torch.tensor(state, dtype=torch.float32) # Convert the state to tensor\n",
        "    state2 = torch.tensor(state2, dtype=torch.float32) # Convert the state to tensor\n",
        "    \n",
        "    predict = self.net(state)[action]\n",
        "\n",
        "    with torch.no_grad():      \n",
        "      q_value = self.net(state2).max()\n",
        "\n",
        "    target = reward + self.gamma * q_value\n",
        "    self.update_dqn(target, predict)            \n",
        "                \n",
        "  def update_final(self, state, action, reward):\n",
        "    state = torch.tensor(state, dtype=torch.float32) # Convert the state to tensor\n",
        "    \n",
        "    predict = self.net(state)[action]\n",
        "    target = reward\n",
        "    \n",
        "    self.update_dqn(target, predict)"
      ],
      "metadata": {
        "id": "xnn5vBCvdweJ"
      },
      "execution_count": null,
      "outputs": []
    },
    {
      "cell_type": "code",
      "source": [
        "max_steps = 200\n",
        "\n",
        "def train_agent(env, agent, total_episodes = 100, epsilon=0.1):\n",
        "    rewards = []    \n",
        "     \n",
        "    for episode in tqdm(range(total_episodes)):\n",
        "        t = 0\n",
        "        state1 = env.reset()        \n",
        "        action1 = agent.choose_action(state1, epsilon=epsilon)\n",
        "\n",
        "        episode_reward = 0\n",
        "\n",
        "        while True:                     \n",
        "            state2, reward, done, info = env.step(action1)\n",
        "        \n",
        "            episode_reward += reward\n",
        "            \n",
        "            t += 1\n",
        "        \n",
        "            if not done:                                        \n",
        "                agent.update(state1, action1, reward, state2)                        \n",
        "            else:\n",
        "                reward -= 1  \n",
        "                agent.update_final(state1, action1, reward)\n",
        "                     \n",
        "            if t >= max_steps or done:\n",
        "                rewards.append(episode_reward)\n",
        "                break\n",
        "\n",
        "            state1 = state2            \n",
        "            action1 = agent.choose_action(state1, epsilon=epsilon)\n",
        "\n",
        "    return rewards"
      ],
      "metadata": {
        "id": "BXddftfbfhBM"
      },
      "execution_count": null,
      "outputs": []
    },
    {
      "cell_type": "code",
      "source": [
        "agent = DQNAgent(4, 2)\n",
        "\n",
        "rewards = train_agent(env, agent, 100)\n",
        "\n",
        "plt.plot(rewards)"
      ],
      "metadata": {
        "colab": {
          "base_uri": "https://localhost:8080/",
          "height": 314,
          "referenced_widgets": [
            "8b2fc028e03a4c7fa6e2130d00da5f17",
            "762fad4627394349a7b52b88041f5402",
            "3628bde9c0ec4ddf8bd5c2fed2a4460a",
            "fe942a9fb3e84bad9a8ce42979330b24",
            "8ff95dbdf599475eb95062fc470c5234",
            "1383d6ccca3d43d281c20cb6f5eae19a",
            "375d0fff171941948d3efa944c752045",
            "f389e358b7414393815f8c99af4864fa",
            "2274905e962f424ba84ec49ea7c34a8f",
            "a2f13d4e250e4460bf1a7f9d5b22b31f",
            "71e9bdd6612a4355a26603e0e1a9c7b6"
          ]
        },
        "id": "XOdA3SBFjXCy",
        "outputId": "98ac0dca-245a-44e0-a134-356d1485f08d"
      },
      "execution_count": null,
      "outputs": [
        {
          "output_type": "display_data",
          "data": {
            "text/plain": [
              "  0%|          | 0/100 [00:00<?, ?it/s]"
            ],
            "application/vnd.jupyter.widget-view+json": {
              "version_major": 2,
              "version_minor": 0,
              "model_id": "8b2fc028e03a4c7fa6e2130d00da5f17"
            }
          },
          "metadata": {}
        },
        {
          "output_type": "execute_result",
          "data": {
            "text/plain": [
              "[<matplotlib.lines.Line2D at 0x7f0c95d54390>]"
            ]
          },
          "metadata": {},
          "execution_count": 11
        },
        {
          "output_type": "display_data",
          "data": {
            "text/plain": [
              "<Figure size 432x288 with 1 Axes>"
            ],
            "image/png": "[encoded data removed]"
          },
          "metadata": {
            "needs_background": "light"
          }
        }
      ]
    },
    {
      "cell_type": "code",
      "source": [
        "rewards = train_agent(env, agent, 1000)\n",
        "\n",
        "plt.plot(rewards)"
      ],
      "metadata": {
        "colab": {
          "base_uri": "https://localhost:8080/",
          "height": 314,
          "referenced_widgets": [
            "93207dcf35c54fd195ad07fa7c9c6435",
            "0f739db5f5d541cda384fc00160c95d3",
            "8c3b60017d814468aeed76b4501ceb2b",
            "480c4779b345463eb14700a7911b100c",
            "3e243a3b151f464f8f5d28133f0d56bf",
            "07aa4f6957864500a6a5cbc65518ff45",
            "7c4ce100d5ec4631ab01606737f5bb83",
            "31c79725492c4d609a566437b821b754",
            "f115fb94a68d46e0a84cbd4d09d29e8a",
            "c6f11dcc58534c398de79786fb993d81",
            "e2eefbb6db794c6da36bfa52bbeba932"
          ]
        },
        "id": "nqg9YMBFmTHx",
        "outputId": "6301790b-76b6-468d-b323-7ab7b510f630"
      },
      "execution_count": null,
      "outputs": [
        {
          "output_type": "display_data",
          "data": {
            "text/plain": [
              "  0%|          | 0/1000 [00:00<?, ?it/s]"
            ],
            "application/vnd.jupyter.widget-view+json": {
              "version_major": 2,
              "version_minor": 0,
              "model_id": "93207dcf35c54fd195ad07fa7c9c6435"
            }
          },
          "metadata": {}
        },
        {
          "output_type": "execute_result",
          "data": {
            "text/plain": [
              "[<matplotlib.lines.Line2D at 0x7f0c958526d0>]"
            ]
          },
          "metadata": {},
          "execution_count": 12
        },
        {
          "output_type": "display_data",
          "data": {
            "text/plain": [
              "<Figure size 432x288 with 1 Axes>"
            ],
            "image/png": "[encoded data removed]"
          },
          "metadata": {
            "needs_background": "light"
          }
        }
      ]
    },
    {
      "cell_type": "code",
      "source": [
        "device = torch.device(\"cuda\" if torch.cuda.is_available() else \"cpu\")\n",
        "device"
      ],
      "metadata": {
        "colab": {
          "base_uri": "https://localhost:8080/"
        },
        "id": "3btUg2zNEKwv",
        "outputId": "5dbe002a-ec83-48e0-c5db-04513bd98f82"
      },
      "execution_count": null,
      "outputs": [
        {
          "output_type": "execute_result",
          "data": {
            "text/plain": [
              "device(type='cuda')"
            ]
          },
          "metadata": {},
          "execution_count": 13
        }
      ]
    },
    {
      "cell_type": "code",
      "source": [
        "from collections import deque\n",
        "\n",
        "class ReplayMemory(object):\n",
        "    def __init__(self, capacity):\n",
        "        self.memory = deque([],maxlen=capacity)\n",
        "\n",
        "    def push(self, transition):\n",
        "        \"\"\"Save a transition\"\"\"\n",
        "        self.memory.append(transition)\n",
        "\n",
        "    def sample(self, batch_size):\n",
        "        return random.sample(self.memory, batch_size)\n",
        "\n",
        "    def __len__(self):\n",
        "        return len(self.memory)"
      ],
      "metadata": {
        "id": "AP1NUu43j5kB"
      },
      "execution_count": null,
      "outputs": []
    },
    {
      "cell_type": "code",
      "source": [
        "class MemoryAgent():\n",
        "  def __init__(self, state_space_dim, action_space_dim):\n",
        "    self.state_space_dim = state_space_dim\n",
        "    self.action_space_dim = action_space_dim\n",
        "    self.gamma = 0.9\n",
        "    self.memory = ReplayMemory(10000)\n",
        "      \n",
        "    self.net = DQN(state_space_dim, action_space_dim).to(device)\n",
        "    self.optimizer = torch.optim.Adam(self.net.parameters(), lr=0.001) \n",
        "    \n",
        "  def choose_action(self, state, epsilon):                            \n",
        "    if random.random() < epsilon:\n",
        "      action = random.choice(range(self.action_space_dim))\n",
        "            \n",
        "    with torch.no_grad():      \n",
        "      state = torch.tensor(state, dtype=torch.float32, device=device) # Convert the state to tensor\n",
        "      net_out = self.net(state)\n",
        "\n",
        "    action = int(net_out.argmax())\n",
        "            \n",
        "    return action\n",
        "\n",
        "  def train_dqn(self):\n",
        "    if len(self.memory) < 32:\n",
        "      return\n",
        "\n",
        "    batch = self.memory.sample(32)\n",
        "    \n",
        "    state1, action, reward, state2, is_final = zip(*batch)\n",
        "\n",
        "    state1 = torch.tensor(state1, dtype=torch.float32, device=device)\n",
        "    action = torch.tensor(action, device=device)\n",
        "    reward = torch.tensor(reward, dtype=torch.float32, device=device)\n",
        "    state2 = torch.tensor(state2, dtype=torch.float32, device=device)\n",
        "    is_final = torch.tensor(is_final, dtype=torch.float32, device=device)    \n",
        "\n",
        "    predict = self.net(state1).gather(1, action.unsqueeze(1))    \n",
        "\n",
        "    with torch.no_grad():      \n",
        "      q_value, _ = self.net(state2).max(dim=1)\n",
        "\n",
        "    target = reward + self.gamma * q_value * (1 - is_final)\n",
        "    \n",
        "    #print(predict.shape, target.shape)\n",
        "    criterion = nn.MSELoss()\n",
        "    loss = criterion(predict, target.unsqueeze(1)) \n",
        "    \n",
        "    self.optimizer.zero_grad()\n",
        "    loss.backward()    \n",
        "    nn.utils.clip_grad_norm_(self.net.parameters(), 1)\n",
        "    self.optimizer.step()\n",
        "\n",
        "    return loss.detach().cpu().numpy()\n",
        "  \n",
        "  def update(self, state, action, reward, state2):\n",
        "    self.memory.push((state, action, reward, state2, False))\n",
        "\n",
        "    self.train_dqn()    \n",
        "                \n",
        "  def update_final(self, state, action, reward):\n",
        "    self.memory.push((state, action, reward, state, True))\n",
        "\n",
        "    self.train_dqn()    "
      ],
      "metadata": {
        "id": "ORHrUvojsBX7"
      },
      "execution_count": null,
      "outputs": []
    },
    {
      "cell_type": "code",
      "source": [
        "agent = MemoryAgent(4, 2)\n",
        "\n",
        "rewards = train_agent(env, agent, 100)\n",
        "\n",
        "plt.plot(rewards)"
      ],
      "metadata": {
        "colab": {
          "base_uri": "https://localhost:8080/",
          "height": 352,
          "referenced_widgets": [
            "748166be02e847bb9b67fb9bd1f1eb17",
            "6290689ebdc3472a9167a11331731b58",
            "5aa7a143849a48f2b4cb11c18fc44269",
            "5212a456acb04d759df61fdca76db101",
            "35c0340df4dd41c7a7a2d9c5dcaa958f",
            "36745b7a587b422198535bca3b750e49",
            "dc16773862b940c89af21c4de3ac5d10",
            "d346bbf8ba7144b5a8ce5657df90c165",
            "1bb7ecd58bae4da1b84fb12153d9f732",
            "3653f754450044ce8f6de9d9cd09c7c2",
            "f702e37066b24854859b14c643e20b72"
          ]
        },
        "id": "Gin_VByyD40d",
        "outputId": "95f209c0-4b01-49db-b8fc-b4583a554cb0"
      },
      "execution_count": null,
      "outputs": [
        {
          "output_type": "display_data",
          "data": {
            "text/plain": [
              "  0%|          | 0/100 [00:00<?, ?it/s]"
            ],
            "application/vnd.jupyter.widget-view+json": {
              "version_major": 2,
              "version_minor": 0,
              "model_id": "748166be02e847bb9b67fb9bd1f1eb17"
            }
          },
          "metadata": {}
        },
        {
          "output_type": "stream",
          "name": "stderr",
          "text": [
            "/usr/local/lib/python3.7/dist-packages/ipykernel_launcher.py:31: UserWarning: Creating a tensor from a list of numpy.ndarrays is extremely slow. Please consider converting the list to a single numpy.ndarray with numpy.array() before converting to a tensor. (Triggered internally at  ../torch/csrc/utils/tensor_new.cpp:210.)\n"
          ]
        },
        {
          "output_type": "execute_result",
          "data": {
            "text/plain": [
              "[<matplotlib.lines.Line2D at 0x7f0c94c65510>]"
            ]
          },
          "metadata": {},
          "execution_count": 16
        },
        {
          "output_type": "display_data",
          "data": {
            "text/plain": [
              "<Figure size 432x288 with 1 Axes>"
            ],
            "image/png": "[encoded data removed]"
          },
          "metadata": {
            "needs_background": "light"
          }
        }
      ]
    },
    {
      "cell_type": "code",
      "source": [
        "rewards = train_agent(env, agent, 100)\n",
        "\n",
        "plt.plot(rewards)"
      ],
      "metadata": {
        "colab": {
          "base_uri": "https://localhost:8080/",
          "height": 314,
          "referenced_widgets": [
            "0e9f83a80a5f4b81ac6058e0417fbf93",
            "7729ad52b4d74aaf93426899aedc3ee2",
            "64c1c9ff36c047bea222329798a3056a",
            "47fac84ac07e49df90822d77e7995aec",
            "6e65411f2f0c4a8b8df9aa1dc6a3075a",
            "8b71c15b4668453b988e2cbb4bc7ac0d",
            "9b07e08b1a444ab2ba0da3d9983bc5d2",
            "5f4777bfa7f449a591c29d6cc44184a7",
            "47a6120ecc1e411685f266770a14e23a",
            "04c060e751084dd78f9b37289fa316ec",
            "e1ea1d63ad8c4536a51f617642623a93"
          ]
        },
        "id": "nGtYRbuJ0aRA",
        "outputId": "7f7bb085-096d-44a3-c311-ff24b450ea66"
      },
      "execution_count": null,
      "outputs": [
        {
          "output_type": "display_data",
          "data": {
            "text/plain": [
              "  0%|          | 0/100 [00:00<?, ?it/s]"
            ],
            "application/vnd.jupyter.widget-view+json": {
              "version_major": 2,
              "version_minor": 0,
              "model_id": "0e9f83a80a5f4b81ac6058e0417fbf93"
            }
          },
          "metadata": {}
        },
        {
          "output_type": "execute_result",
          "data": {
            "text/plain": [
              "[<matplotlib.lines.Line2D at 0x7f0c94ba3f50>]"
            ]
          },
          "metadata": {},
          "execution_count": 17
        },
        {
          "output_type": "display_data",
          "data": {
            "text/plain": [
              "<Figure size 432x288 with 1 Axes>"
            ],
            "image/png": "[encoded data removed]"
          },
          "metadata": {
            "needs_background": "light"
          }
        }
      ]
    },
    {
      "cell_type": "code",
      "source": [
        "class DoubleDQNAgent():\n",
        "  def __init__(self, state_space_dim, action_space_dim):\n",
        "    self.state_space_dim = state_space_dim\n",
        "    self.action_space_dim = action_space_dim\n",
        "    self.gamma = 0.9\n",
        "    self.memory = ReplayMemory(10000)\n",
        "      \n",
        "    self.net1 = DQN(state_space_dim, action_space_dim).to(device)\n",
        "    self.net2 = DQN(state_space_dim, action_space_dim).to(device)\n",
        "    self.optimizer1 = torch.optim.Adam(self.net1.parameters(), lr=0.001) \n",
        "    self.optimizer2 = torch.optim.Adam(self.net2.parameters(), lr=0.001) \n",
        "    \n",
        "  def choose_action(self, state, epsilon):                            \n",
        "    if random.random() < epsilon:\n",
        "      action = random.choice(range(self.action_space_dim))\n",
        "            \n",
        "    net = random.choice([self.net1, self.net2])\n",
        "    with torch.no_grad():      \n",
        "      state = torch.tensor(state, dtype=torch.float32, device=device) # Convert the state to tensor\n",
        "      net_out = net(state)\n",
        "\n",
        "    action = int(net_out.argmax())\n",
        "            \n",
        "    return action\n",
        "\n",
        "  def train_dqn(self):\n",
        "    if len(self.memory) < 32:\n",
        "      return\n",
        "\n",
        "    batch = self.memory.sample(32)\n",
        "\n",
        "    if np.random.rand() < .5:\n",
        "      net_a, net_b, optimizer = self.net1, self.net2, self.optimizer1\n",
        "    else:\n",
        "      net_a, net_b, optimizer = self.net2, self.net1, self.optimizer2\n",
        "    \n",
        "    state1, action, reward, state2, is_final = zip(*batch)\n",
        "\n",
        "    state1 = torch.tensor(state1, dtype=torch.float32, device=device)\n",
        "    action = torch.tensor(action, device=device)\n",
        "    reward = torch.tensor(reward, dtype=torch.float32, device=device)\n",
        "    state2 = torch.tensor(state2, dtype=torch.float32, device=device)\n",
        "    is_final = torch.tensor(is_final, dtype=torch.float32, device=device)    \n",
        "\n",
        "\n",
        "\n",
        "    predict = net_a(state1).gather(1, action.unsqueeze(1))    \n",
        "\n",
        "    with torch.no_grad():      \n",
        "      q_value, _ = net_b(state2).max(dim=1)\n",
        "\n",
        "    target = reward + self.gamma * q_value * (1 - is_final)\n",
        "    \n",
        "    criterion = nn.MSELoss()\n",
        "    loss = criterion(predict, target.unsqueeze(1)) \n",
        "    \n",
        "    optimizer.zero_grad()\n",
        "    loss.backward()    \n",
        "    nn.utils.clip_grad_norm_(net_a.parameters(), 1)\n",
        "    optimizer.step()\n",
        "\n",
        "    return loss.detach().cpu().numpy()\n",
        "  \n",
        "  def update(self, state, action, reward, state2):\n",
        "    self.memory.push((state, action, reward, state2, False))\n",
        "\n",
        "    self.train_dqn()    \n",
        "                \n",
        "  def update_final(self, state, action, reward):\n",
        "    self.memory.push((state, action, reward, state, True))\n",
        "\n",
        "    self.train_dqn()    "
      ],
      "metadata": {
        "id": "NeMS_7KqJ5dJ"
      },
      "execution_count": null,
      "outputs": []
    },
    {
      "cell_type": "code",
      "source": [
        "agent = DoubleDQNAgent(4, 2)\n",
        "\n",
        "rewards = train_agent(env, agent, 100)\n",
        "\n",
        "plt.plot(rewards)"
      ],
      "metadata": {
        "colab": {
          "base_uri": "https://localhost:8080/",
          "height": 314,
          "referenced_widgets": [
            "ca8a24b0ad8144d48d02dfa931eff4a0",
            "714b5ea0300248ab8d78989498fa1cd3",
            "aebb1f1840ae49fba74959f55a25e73c",
            "83cb5ee41cca4b8dbf4b5b4d5ebc5703",
            "680726134bf649e6a77e4b4f252e5ee9",
            "62e52a97b9904849b0bdd81536829ab9",
            "5012497586b248a181d05b9b20a70604",
            "fbf14fb5e82e498ca5473f9931321c02",
            "8b8888aafdbc40909786174753001367",
            "9ca4b4b2fc4b45698c27d5d7b5505aaf",
            "002bd175524a4fe09cfad3ccd0592f0d"
          ]
        },
        "id": "E-IIFTG0MZ07",
        "outputId": "82911b43-1f8f-45a5-db6d-bafce0dae5dc"
      },
      "execution_count": null,
      "outputs": [
        {
          "output_type": "display_data",
          "data": {
            "text/plain": [
              "  0%|          | 0/100 [00:00<?, ?it/s]"
            ],
            "application/vnd.jupyter.widget-view+json": {
              "version_major": 2,
              "version_minor": 0,
              "model_id": "ca8a24b0ad8144d48d02dfa931eff4a0"
            }
          },
          "metadata": {}
        },
        {
          "output_type": "execute_result",
          "data": {
            "text/plain": [
              "[<matplotlib.lines.Line2D at 0x7f0c948c0050>]"
            ]
          },
          "metadata": {},
          "execution_count": 27
        },
        {
          "output_type": "display_data",
          "data": {
            "text/plain": [
              "<Figure size 432x288 with 1 Axes>"
            ],
            "image/png": "[encoded data removed]"
          },
          "metadata": {
            "needs_background": "light"
          }
        }
      ]
    },
    {
      "cell_type": "code",
      "source": [
        "rewards = train_agent(env, agent, 100, epsilon=0.01)\n",
        "\n",
        "plt.plot(rewards)"
      ],
      "metadata": {
        "colab": {
          "base_uri": "https://localhost:8080/",
          "height": 314,
          "referenced_widgets": [
            "7421088527a64715b8ab929ac5deb47a",
            "26eb82e8ef23440ab77e11483fe40516",
            "a961ea2e68b3443d84b03a88a93f6c33",
            "c77d40a9f0d54c8ea286ff1346c3a6ac",
            "6a7bc4523a5444b1840ce0fc1a13b1a9",
            "208b12b7f29c4b3fa2a60223c3e150b6",
            "b68723c7490043e4b7e5116e901da4be",
            "734de08a093245658989ab09f43d82d5",
            "2e01da9374c74ca69f93d147e5fbc3ed",
            "0f9df365d6fe405c8ca209333c749e4d",
            "ee297a0778ea451b889c5d6cd561ce1c"
          ]
        },
        "id": "gxUQOmLFQC5y",
        "outputId": "ab0d4835-6b3f-4cad-d9a2-6cf4d39c92bd"
      },
      "execution_count": null,
      "outputs": [
        {
          "output_type": "display_data",
          "data": {
            "text/plain": [
              "  0%|          | 0/100 [00:00<?, ?it/s]"
            ],
            "application/vnd.jupyter.widget-view+json": {
              "version_major": 2,
              "version_minor": 0,
              "model_id": "7421088527a64715b8ab929ac5deb47a"
            }
          },
          "metadata": {}
        },
        {
          "output_type": "execute_result",
          "data": {
            "text/plain": [
              "[<matplotlib.lines.Line2D at 0x7f0c94b319d0>]"
            ]
          },
          "metadata": {},
          "execution_count": 34
        },
        {
          "output_type": "display_data",
          "data": {
            "text/plain": [
              "<Figure size 432x288 with 1 Axes>"
            ],
            "image/png": "[encoded data removed]"
          },
          "metadata": {
            "needs_background": "light"
          }
        }
      ]
    },
    {
      "cell_type": "code",
      "source": [
        "# HIDE OUTPUT\n",
        "env = wrap_env(gym.make(\"CartPole-v1\"))\n",
        "\n",
        "state = env.reset()\n",
        "\n",
        "while True:\n",
        "\n",
        "    env.render()\n",
        "\n",
        "    # your agent goes here\n",
        "    action = agent.choose_action(state, epsilon=0.0)   \n",
        "\n",
        "    state, reward, done, info = env.step(action)\n",
        "\n",
        "    if done:\n",
        "        break\n",
        "\n",
        "env.close()\n",
        "show_video()"
      ],
      "metadata": {
        "colab": {
          "base_uri": "https://localhost:8080/",
          "height": 421
        },
        "id": "I0GhQmVaNzXV",
        "outputId": "22fd9a91-06c2-49fe-c336-cf4f2286e9b0"
      },
      "execution_count": null,
      "outputs": [
        {
          "output_type": "display_data",
          "data": {
            "text/plain": [
              "<IPython.core.display.HTML object>"
            ],
            "text/html": [
              "<video alt=\"test\" autoplay \n",
              "                loop controls style=\"height: 400px;\">\n",
              "                <source src=\"data:video/mp4;base64,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\" type=\"video/mp4\" />\n",
              "             </video>"
            ]
          },
          "metadata": {}
        }
      ]
    }
  ]
}